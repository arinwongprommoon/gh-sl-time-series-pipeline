{
 "cells": [
  {
   "cell_type": "markdown",
   "id": "0654e681",
   "metadata": {},
   "source": [
    "**Purpose:** Investigate synchrony between the cell division and metabolic cycles.\n",
    "\n",
    "This is inspired by fig 1 of Bieler et al. (2014), show below.  It shows the relationship between the cell division and circadian cycles."
   ]
  },
  {
   "cell_type": "markdown",
   "id": "b9bf9b28",
   "metadata": {},
   "source": [
    "![title](msb0010-0739-f1.jpg)"
   ]
  },
  {
   "cell_type": "markdown",
   "id": "39bb5931",
   "metadata": {},
   "source": [
    "Figure 1. Circadian and cell cycle oscillators are tightly synchronized in NIH3T3 cells\n",
    "- A. Single-cell time traces showing the circadian YFP signal (black, identified maxima in blue denoted as p), together with cell division events (nuclear envelope breakdown, red, denoted as d). The top trace is typical and shows three divisions before the circadian peaks, the second trace shows an early first division.\n",
    "- B. Raster plot showing 3,160 traces (with at least two circadian peaks) aligned on the second circadian peak (blue), and sorted according to the interval between the first and second circadian peaks. Divisions (red) show a clear tendency to occur, on average, 5 h before the circadian peaks. A sparse group of early division events associated usually with longer circadian intervals is also visible.\n",
    "- C. Division times measured with respect to the subsequent circadian peak show a unimodal distribution centered at −5 h. Inset: longer circadian intervals correlate with mitosis occurring, on average, closer to the next peak (also visible in B).\n",
    "- D. Circadian phases at division (normalized division times) show a unimodal distribution. Inset: longer circadian intervals correlate with mitosis occurring at later circadian phases."
   ]
  },
  {
   "cell_type": "markdown",
   "id": "5a72e869",
   "metadata": {},
   "source": [
    "**Aims:**\n",
    "- Import flavin signals and birth events from a population of same-strain cells subject to the same nutrient conditions.\n",
    "    - Start from the more reliable BY4741 or FY4 time series first, to iron out any issues.\n",
    "    - Real purpose is to do this with the mutants, especially with the `swe1_Del` from the Causton lab.  It's only going to be a matter of switching the dataset file.\n",
    "- Process data: cut time series to duration of interest (births matrix should be cut too), detrend flavin signals.\n",
    "- Align time series to the first birth event.\n",
    "- Locate the subsequent metabolic cycle.\n",
    "    - This may be through finding a peak, using the appropriate tolerance.\n",
    "    - Fitting an autoregressive model or Gaussian process may be helpful.\n",
    "    - I will also need to identify the troughs so that I only get one metabolic cycle (see heatmap in next main item).\n",
    "    - I expect this to be the most technically difficult.  If all else fails, plotting a heatmap with birth times overlaid 'for now' may still help produce insight.\n",
    "- Plot a heatmap that shows:\n",
    "    - Where the second birth event is in relation to the first birth event.\n",
    "    - Where the subsequent metabolic cycle is in relation to the first metabolic cycle.\n",
    "- Plot histograms that show the distributions of:\n",
    "    - Time differences between first and second birth events.\n",
    "    - Time differences between first birth event and peak of metabolic cycle."
   ]
  },
  {
   "cell_type": "markdown",
   "id": "0725b37c",
   "metadata": {},
   "source": [
    "**Paradigms:**\n",
    "- Use `aliby` data structures, i.e. `pandas` `DataFrames` with multi-indexing.\n",
    "    - Births has only been recently (2022-01-18) added to the `DataFrame` output.  Need to look at how it is done there first, and try to replicate.\n",
    "- Use `postprocessor` processes e.g. `fft` (Fourier transform), `autoreg` (autoregressive model -- add methods as appropriate).\n",
    "- Ultimate goal to put all the cells together in a script to put in `skeletons`, but some people prioritise having plots fast over having clean code."
   ]
  },
  {
   "cell_type": "code",
   "execution_count": null,
   "id": "d1dcc5de",
   "metadata": {},
   "outputs": [],
   "source": [
    "import PyQt5\n",
    "%matplotlib qt"
   ]
  },
  {
   "cell_type": "markdown",
   "id": "892970fd",
   "metadata": {},
   "source": [
    "**When going through this again: if I repeat lines of code, put them in a function to make life easier.**"
   ]
  },
  {
   "cell_type": "markdown",
   "id": "52aa31ba",
   "metadata": {},
   "source": [
    "# Import data"
   ]
  },
  {
   "cell_type": "markdown",
   "id": "d852b74e",
   "metadata": {},
   "source": [
    "**Important note: must be mindful of how I'm dealing with TWO sets of signals -- flavin and births.  Current code, copied from `svm_sandbox.ipynb`, deals with ONE set of signals; having two sets is another can of worms.  Name the data variables and manage them wisely.**"
   ]
  },
  {
   "cell_type": "code",
   "execution_count": null,
   "id": "0a7d8fb2",
   "metadata": {},
   "outputs": [],
   "source": [
    "import numpy as np\n",
    "import pandas as pd\n",
    "import csv\n",
    "\n",
    "# PARAMETERS\n",
    "#filename_prefix = './data/arin/Omero19979_'\n",
    "filename_prefix = './data/arin/Omero20016_'\n",
    "#\n",
    "\n",
    "# Import flavin signals\n",
    "signal_flavin = pd.read_csv(filename_prefix+'flavin.csv')\n",
    "signal_flavin.replace(0, np.nan, inplace=True) # because the CSV is constructed like that :/\n",
    "\n",
    "# Import birth signals\n",
    "signal_births = pd.read_csv(filename_prefix+'births.csv')\n",
    "#signal_births.replace(0, np.nan, inplace=True)\n",
    "\n",
    "def convert_df_to_aliby(\n",
    "    signal,\n",
    "    strainlookup_df,\n",
    "):\n",
    "    # Import look-up table for strains (would prefer to directly CSV -> dict)\n",
    "    strainlookup_dict = dict(zip(strainlookup_df.position, strainlookup_df.strain))\n",
    "    \n",
    "    # Positions -> Strain (more informative)\n",
    "    signal = signal.replace({'position': strainlookup_dict})\n",
    "    signal.rename(columns = {\"position\": \"strain\"}, inplace = True)\n",
    "    signal = signal.drop(['distfromcentre'], axis = 1)\n",
    "\n",
    "    # Convert to multi-index dataframe\n",
    "    signal_temp = signal.iloc[:,2:]\n",
    "    multiindex = pd.MultiIndex.from_frame(signal[['strain', 'cellID']])\n",
    "    signal = pd.DataFrame(signal_temp.to_numpy(),\n",
    "                          index = multiindex)\n",
    "    \n",
    "    return signal\n",
    "\n",
    "strainlookup_df = pd.read_csv(filename_prefix+'strains.csv')\n",
    "signal_flavin = convert_df_to_aliby(signal_flavin, strainlookup_df)\n",
    "signal_births = convert_df_to_aliby(signal_births, strainlookup_df)"
   ]
  },
  {
   "cell_type": "code",
   "execution_count": null,
   "id": "141983b1",
   "metadata": {},
   "outputs": [],
   "source": [
    "signal_flavin"
   ]
  },
  {
   "cell_type": "code",
   "execution_count": null,
   "id": "2a6f5a1f",
   "metadata": {},
   "outputs": [],
   "source": [
    "signal_births"
   ]
  },
  {
   "cell_type": "markdown",
   "id": "a63b26fa",
   "metadata": {},
   "source": [
    "# Choose a list of cells as working data"
   ]
  },
  {
   "cell_type": "markdown",
   "id": "a7ad725b",
   "metadata": {},
   "source": [
    "List strains"
   ]
  },
  {
   "cell_type": "code",
   "execution_count": null,
   "id": "891fa263",
   "metadata": {},
   "outputs": [],
   "source": [
    "signal_flavin.index.get_level_values(0).unique().to_list()"
   ]
  },
  {
   "cell_type": "markdown",
   "id": "e49c23b3",
   "metadata": {},
   "source": [
    "Define `signal_flavin_wd` as working data"
   ]
  },
  {
   "cell_type": "code",
   "execution_count": null,
   "id": "64cd10f0",
   "metadata": {},
   "outputs": [],
   "source": [
    "strain = 'by4741'\n",
    "\n",
    "signal_flavin_wd = signal_flavin.loc[strain]\n",
    "signal_births_wd = signal_births.loc[strain]"
   ]
  },
  {
   "cell_type": "markdown",
   "id": "29c0c3d3",
   "metadata": {},
   "source": [
    "# Processing time series"
   ]
  },
  {
   "cell_type": "markdown",
   "id": "4600fef8",
   "metadata": {},
   "source": [
    "## Range"
   ]
  },
  {
   "cell_type": "markdown",
   "id": "42b8e66e",
   "metadata": {},
   "source": [
    "Chop up time series according to `interval_start` and `interval_end`, then remove cells that have NaNs.  Print number of cells."
   ]
  },
  {
   "cell_type": "code",
   "execution_count": null,
   "id": "82c04695",
   "metadata": {},
   "outputs": [],
   "source": [
    "# PARAMETERS\n",
    "interval_start = 25\n",
    "interval_end = 168\n",
    "#\n",
    "\n",
    "signal_flavin_processed = signal_flavin_wd.iloc[:, interval_start:interval_end].dropna()\n",
    "signal_births_processed = signal_births_wd.iloc[:, interval_start:interval_end].dropna() # don't expect NaN here, but just for consistency\n",
    "\n",
    "# Note: number of rows from the two DataFrames may be different from now on.\n",
    "# This is expected because the flavin DataFrame has NaNs but the births doesn't.\n",
    "# This is okay because matching the two will be based on the 'cellID' index, which never changes."
   ]
  },
  {
   "cell_type": "markdown",
   "id": "85b8b8ea",
   "metadata": {},
   "source": [
    "## Detrend"
   ]
  },
  {
   "cell_type": "markdown",
   "id": "bfaa040c",
   "metadata": {},
   "source": [
    "Using sliding window"
   ]
  },
  {
   "cell_type": "code",
   "execution_count": null,
   "id": "f00984d2",
   "metadata": {},
   "outputs": [],
   "source": [
    "# POTENTIAL ISSUE: This removes some time points.  Need to find a way to re-align births so that it makes sense.\n",
    "# I expect that there is a constant shift that is a function of the size of the sliding window.\n",
    "# ----> seems like no re-aligning needed???  After a cursory look at some time series & where their peaks should be.\n",
    "\n",
    "import matplotlib.pyplot as plt\n",
    "import seaborn as sns\n",
    "\n",
    "# PARAMETERS\n",
    "window = 45\n",
    "#\n",
    "\n",
    "fig, ax = plt.subplots()\n",
    "sns.heatmap(signal_flavin_processed)\n",
    "plt.title('Before detrending')\n",
    "plt.show()\n",
    "\n",
    "def moving_average(input_timeseries,\n",
    "                  window = 3):\n",
    "    processed_timeseries = np.cumsum(input_timeseries, dtype=float)\n",
    "    processed_timeseries[window:] = processed_timeseries[window:] - processed_timeseries[:-window]\n",
    "    return processed_timeseries[window - 1 :] /  window\n",
    "\n",
    "signal_flavin_processed = signal_flavin_processed.div(signal_flavin_processed.mean(axis = 1), axis = 0)\n",
    "signal_flavin_movavg = signal_flavin_processed.apply(lambda x: pd.Series(moving_average(x.values, window)), axis = 1)\n",
    "signal_flavin_norm = signal_flavin_processed.iloc(axis = 1)[window//2: -window//2] / signal_flavin_movavg.iloc[:,0:signal_flavin_movavg.shape[1]-1].values\n",
    "\n",
    "fig, ax = plt.subplots()\n",
    "sns.heatmap(signal_flavin_norm)\n",
    "plt.title('After detrending')\n",
    "plt.show()\n",
    "\n",
    "signal_flavin_processed = signal_flavin_norm\n",
    "\n",
    "# Re-align births because some time points were removed/shifted\n",
    "# Doing it this way so that column headers are consistent with the (modified) flavin DataFrame\n",
    "signal_births_processed = signal_births_processed.iloc(axis=1)[window//2: -window//2]"
   ]
  },
  {
   "cell_type": "markdown",
   "id": "a20d017e",
   "metadata": {},
   "source": [
    "## Align to first birth"
   ]
  },
  {
   "cell_type": "markdown",
   "id": "01382ce3",
   "metadata": {},
   "source": [
    "Save dataframes (I plan to remove this step later...)"
   ]
  },
  {
   "cell_type": "code",
   "execution_count": null,
   "id": "96a346e8",
   "metadata": {},
   "outputs": [],
   "source": [
    "signal_flavin_save = signal_flavin_processed\n",
    "signal_births_save = signal_births_processed"
   ]
  },
  {
   "cell_type": "markdown",
   "id": "ab14eee3",
   "metadata": {},
   "source": [
    "Align"
   ]
  },
  {
   "cell_type": "code",
   "execution_count": null,
   "id": "00c97ceb",
   "metadata": {},
   "outputs": [],
   "source": [
    "signal_births_aligned = signal_births_save\n",
    "signal_flavin_aligned = signal_flavin_save\n",
    "\n",
    "births_shifted_rows = []\n",
    "flavin_shifted_rows = []\n",
    "# Match flavin and birth signals by cellID (shared and not changed)\n",
    "for cellID in signal_flavin_aligned.index:\n",
    "    # Identify first birth and define shift\n",
    "    birth_locs = np.where(signal_births_processed.loc[cellID].to_numpy() == 1)[0]\n",
    "    if birth_locs.any():\n",
    "        shift = birth_locs[0]\n",
    "    else:\n",
    "        shift = 0\n",
    "    # Make first birth the first time point\n",
    "    # When shifted, the rest of the df is NaNs\n",
    "    births_shifted_rows.append(\n",
    "        signal_births_aligned.loc[[cellID]].shift(periods = -shift, axis = 'columns')\n",
    "    )\n",
    "    # Shift flavin signals accordingly\n",
    "    flavin_shifted_rows.append(\n",
    "        signal_flavin_aligned.loc[[cellID]].shift(periods = -shift, axis = 'columns')\n",
    "    )\n",
    "# Re-construct dataframes\n",
    "signal_births_aligned = pd.concat(births_shifted_rows, ignore_index = True)\n",
    "signal_births_aligned.set_index(signal_flavin_save.index, inplace = True) # note FLAVIN here -- needed to match dimensions\n",
    "\n",
    "signal_flavin_aligned = pd.concat(flavin_shifted_rows, ignore_index = True)\n",
    "signal_flavin_aligned.set_index(signal_flavin_save.index, inplace = True)"
   ]
  },
  {
   "cell_type": "markdown",
   "id": "48f0e29f",
   "metadata": {},
   "source": [
    "Remove cells without births"
   ]
  },
  {
   "cell_type": "code",
   "execution_count": null,
   "id": "b3e2e6d4",
   "metadata": {},
   "outputs": [],
   "source": [
    "signal_births_drop = signal_births_processed.loc[signal_births_processed.sum(axis = 1) != 0, :]\n",
    "\n",
    "signal_births_aligned = signal_births_aligned.loc[\n",
    "    signal_births_drop.index.intersection(signal_births_aligned.index)\n",
    "]\n",
    "signal_flavin_aligned = signal_flavin_aligned.loc[\n",
    "    signal_births_drop.index.intersection(signal_flavin_aligned.index)\n",
    "]"
   ]
  },
  {
   "cell_type": "markdown",
   "id": "ef36ebb2",
   "metadata": {},
   "source": [
    "Arrange cells by interval between first and second birth"
   ]
  },
  {
   "cell_type": "code",
   "execution_count": null,
   "id": "284284e4",
   "metadata": {},
   "outputs": [],
   "source": [
    "# Find intervals between first and second births\n",
    "second_births_intervals = []\n",
    "for cellID in signal_births_aligned.index:\n",
    "    birth_locs = np.where(signal_births_aligned.loc[cellID].to_numpy() == 1)[0]\n",
    "    birth_locs = np.delete(birth_locs, 0) # the first element of this list is always zero\n",
    "    if birth_locs.any():\n",
    "        second_births_intervals.append(birth_locs[0]) # this is when the 2nd birth is in relation to the 1st\n",
    "    else:\n",
    "        second_births_intervals.append(None)\n",
    "# Absence of second birth represented by nan\n",
    "second_births_intervals = np.array(second_births_intervals, dtype=float)\n",
    "\n",
    "# Rearrange order of rows in dataframes according to time of second birth\n",
    "def rearrange_by_sorted_list(\n",
    "    df,\n",
    "    my_list,\n",
    "):\n",
    "    return df.reindex(df.index[np.argsort(my_list)].to_list())\n",
    "\n",
    "signal_births_aligned = rearrange_by_sorted_list(signal_births_aligned, second_births_intervals)\n",
    "signal_flavin_aligned = rearrange_by_sorted_list(signal_flavin_aligned, second_births_intervals)"
   ]
  },
  {
   "cell_type": "markdown",
   "id": "1e0e5b3f",
   "metadata": {},
   "source": [
    "# Locate metabolic cycle peaks"
   ]
  },
  {
   "cell_type": "code",
   "execution_count": null,
   "id": "308ee1b9",
   "metadata": {},
   "outputs": [],
   "source": [
    "# (add code here)"
   ]
  },
  {
   "cell_type": "markdown",
   "id": "41e286b7",
   "metadata": {},
   "source": [
    "# Plot heatmaps"
   ]
  },
  {
   "cell_type": "code",
   "execution_count": null,
   "id": "eacc06e1",
   "metadata": {},
   "outputs": [],
   "source": [
    "import seaborn as sns\n",
    "import matplotlib.pyplot as plt\n",
    "import matplotlib.cm as cm\n",
    "from sklearn.preprocessing import StandardScaler\n",
    "\n",
    "# Apparently matplotlib.pyplot.imshow() is better?\n",
    "# https://stackoverflow.com/questions/44012488/overlay-two-heatmaps-in-seaborn-one-being-frames-around-cells-in-the-other-fro\n",
    "\n",
    "# Produce masked array for births\n",
    "births_array = signal_births_aligned.to_numpy()\n",
    "births_heatmap_mask = np.ma.masked_where(births_array == 0, births_array)\n",
    "\n",
    "# Scale flavin signals\n",
    "flavin_array = signal_flavin_aligned.to_numpy()\n",
    "scaler = StandardScaler().fit(flavin_array.transpose())\n",
    "signal_flavin_aligned_scaled = scaler.transform(flavin_array.transpose())\n",
    "signal_flavin_aligned_scaled = signal_flavin_aligned_scaled.transpose()\n",
    "\n",
    "# Superimpose flavin and births heatmaps\n",
    "flavin_heatmap = plt.imshow(\n",
    "    signal_flavin_aligned_scaled,\n",
    "    cmap = cm.RdBu_r,\n",
    ")\n",
    "births_heatmap = plt.imshow(\n",
    "    births_heatmap_mask,\n",
    "    interpolation='none',\n",
    ")\n",
    "\n",
    "# Labelling\n",
    "plt.xlabel('Time point')\n",
    "plt.ylabel('Cell')\n",
    "plt.show()"
   ]
  },
  {
   "cell_type": "markdown",
   "id": "531ee132",
   "metadata": {},
   "source": [
    "# Plot histograms"
   ]
  },
  {
   "cell_type": "code",
   "execution_count": null,
   "id": "a0199d8b",
   "metadata": {},
   "outputs": [],
   "source": [
    "# - From birth signals: find duration between 1st and 2nd birth (should just be an easy subtraction problem)\n",
    "# - From flavin signals: find duration between peak (which should already be found earlier)\n",
    "#   and the corresponding 1st birth.\n",
    "# - When these durations are found, it should be straightforward with matplotlib.pyplot.hist()"
   ]
  },
  {
   "cell_type": "markdown",
   "id": "f41ae922",
   "metadata": {},
   "source": [
    "Duration between 1st and 2nd births"
   ]
  },
  {
   "cell_type": "code",
   "execution_count": null,
   "id": "80e19564",
   "metadata": {},
   "outputs": [],
   "source": [
    "sampling_period = 5\n",
    "binsize = 5\n",
    "\n",
    "plt.hist(\n",
    "    second_births_intervals * sampling_period,\n",
    "    np.arange(0, binsize * (np.nanmax(second_births_intervals * sampling_period)//binsize + 2), binsize)\n",
    ")\n",
    "plt.xlabel('Time (min)')\n",
    "plt.ylabel('Frequency')\n",
    "plt.title('Distribution of duration between 1st and 2nd births')\n",
    "plt.show()"
   ]
  }
 ],
 "metadata": {
  "kernelspec": {
   "display_name": "aliby",
   "language": "python",
   "name": "aliby"
  },
  "language_info": {
   "codemirror_mode": {
    "name": "ipython",
    "version": 3
   },
   "file_extension": ".py",
   "mimetype": "text/x-python",
   "name": "python",
   "nbconvert_exporter": "python",
   "pygments_lexer": "ipython3",
   "version": "3.7.9"
  }
 },
 "nbformat": 4,
 "nbformat_minor": 5
}
