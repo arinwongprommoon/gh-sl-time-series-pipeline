{
 "cells": [
  {
   "cell_type": "markdown",
   "id": "0654e681",
   "metadata": {},
   "source": [
    "**Purpose:** Investigate synchrony between the cell division and metabolic cycles.\n",
    "\n",
    "This is inspired by fig 1 of Bieler et al. (2014), show below.  It shows the relationship between the cell division and circadian cycles."
   ]
  },
  {
   "cell_type": "markdown",
   "id": "b9bf9b28",
   "metadata": {},
   "source": [
    "![title](msb0010-0739-f1.jpg)"
   ]
  },
  {
   "cell_type": "markdown",
   "id": "39bb5931",
   "metadata": {},
   "source": [
    "Figure 1. Circadian and cell cycle oscillators are tightly synchronized in NIH3T3 cells\n",
    "- A. Single-cell time traces showing the circadian YFP signal (black, identified maxima in blue denoted as p), together with cell division events (nuclear envelope breakdown, red, denoted as d). The top trace is typical and shows three divisions before the circadian peaks, the second trace shows an early first division.\n",
    "- B. Raster plot showing 3,160 traces (with at least two circadian peaks) aligned on the second circadian peak (blue), and sorted according to the interval between the first and second circadian peaks. Divisions (red) show a clear tendency to occur, on average, 5 h before the circadian peaks. A sparse group of early division events associated usually with longer circadian intervals is also visible.\n",
    "- C. Division times measured with respect to the subsequent circadian peak show a unimodal distribution centered at −5 h. Inset: longer circadian intervals correlate with mitosis occurring, on average, closer to the next peak (also visible in B).\n",
    "- D. Circadian phases at division (normalized division times) show a unimodal distribution. Inset: longer circadian intervals correlate with mitosis occurring at later circadian phases."
   ]
  },
  {
   "cell_type": "markdown",
   "id": "5a72e869",
   "metadata": {},
   "source": [
    "**Aims:**\n",
    "- Import flavin signals and birth events from a population of same-strain cells subject to the same nutrient conditions.\n",
    "    - Start from the more reliable BY4741 or FY4 time series first, to iron out any issues.\n",
    "    - Real purpose is to do this with the mutants, especially with the `swe1_Del` from the Causton lab.  It's only going to be a matter of switching the dataset file.\n",
    "- Process data: cut time series to duration of interest (births matrix should be cut too), detrend flavin signals.\n",
    "- Align time series to the first birth event.\n",
    "- Locate the subsequent metabolic cycle.\n",
    "    - This may be through finding a peak, using the appropriate tolerance.\n",
    "    - Fitting an autoregressive model or Gaussian process may be helpful.\n",
    "    - I will also need to identify the troughs so that I only get one metabolic cycle (see heatmap in next main item).\n",
    "    - I expect this to be the most technically difficult.  If all else fails, plotting a heatmap with birth times overlaid 'for now' may still help produce insight.\n",
    "- Plot a heatmap that shows:\n",
    "    - Where the second birth event is in relation to the first birth event.\n",
    "    - Where the subsequent metabolic cycle is in relation to the first metabolic cycle.\n",
    "- Plot histograms that show the distributions of:\n",
    "    - Time differences between first and second birth events.\n",
    "    - Time differences between first birth event and peak of metabolic cycle."
   ]
  },
  {
   "cell_type": "markdown",
   "id": "0725b37c",
   "metadata": {},
   "source": [
    "**Paradigms:**\n",
    "- Use `aliby` data structures, i.e. `pandas` `DataFrames` with multi-indexing.\n",
    "    - Births has only been recently (2022-01-18) added to the `DataFrame` output.  Need to look at how it is done there first, and try to replicate.\n",
    "- Use `postprocessor` processes e.g. `fft` (Fourier transform), `autoreg` (autoregressive model -- add methods as appropriate).\n",
    "- Ultimate goal to put all the cells together in a script to put in `skeletons`, but some people prioritise having plots fast over having clean code."
   ]
  },
  {
   "cell_type": "code",
   "execution_count": null,
   "id": "d1dcc5de",
   "metadata": {},
   "outputs": [],
   "source": [
    "%matplotlib inline"
   ]
  },
  {
   "cell_type": "markdown",
   "id": "52aa31ba",
   "metadata": {},
   "source": [
    "# Import data"
   ]
  },
  {
   "cell_type": "markdown",
   "id": "d852b74e",
   "metadata": {},
   "source": [
    "**Important note: must be mindful of how I'm dealing with TWO sets of signals -- flavin and births.  Current code, copied from `svm_sandbox.ipynb`, deals with ONE set of signals; having two sets is another can of worms.  Name the data variables and manage them wisely.**"
   ]
  },
  {
   "cell_type": "code",
   "execution_count": null,
   "id": "0a7d8fb2",
   "metadata": {},
   "outputs": [],
   "source": [
    "import numpy as np\n",
    "import pandas as pd\n",
    "import csv\n",
    "\n",
    "# PARAMETERS\n",
    "#filename_prefix = './data/arin/Omero19979_'\n",
    "filename_prefix = './data/arin/Omero20016_'\n",
    "#\n",
    "\n",
    "# Import flavin signals\n",
    "signal_flavin = pd.read_csv(filename_prefix+'flavin.csv')\n",
    "signal_flavin.replace(0, np.nan, inplace=True) # because the CSV is constructed like that :/\n",
    "\n",
    "# Import birth signals\n",
    "signal_births = pd.read_csv(filename_prefix+'births.csv')\n",
    "#signal_births.replace(0, np.nan, inplace=True)\n",
    "\n",
    "def convert_df_to_aliby(\n",
    "    signal,\n",
    "    strainlookup_df,\n",
    "):\n",
    "    # Import look-up table for strains (would prefer to directly CSV -> dict)\n",
    "    strainlookup_dict = dict(zip(strainlookup_df.position, strainlookup_df.strain))\n",
    "    \n",
    "    # Positions -> Strain (more informative)\n",
    "    signal = signal.replace({'position': strainlookup_dict})\n",
    "    signal.rename(columns = {\"position\": \"strain\"}, inplace = True)\n",
    "    signal = signal.drop(['distfromcentre'], axis = 1)\n",
    "\n",
    "    # Convert to multi-index dataframe\n",
    "    signal_temp = signal.iloc[:,2:]\n",
    "    multiindex = pd.MultiIndex.from_frame(signal[['strain', 'cellID']])\n",
    "    signal = pd.DataFrame(signal_temp.to_numpy(),\n",
    "                          index = multiindex)\n",
    "    \n",
    "    return signal\n",
    "\n",
    "strainlookup_df = pd.read_csv(filename_prefix+'strains.csv')\n",
    "signal_flavin = convert_df_to_aliby(signal_flavin, strainlookup_df)\n",
    "signal_births = convert_df_to_aliby(signal_births, strainlookup_df)"
   ]
  },
  {
   "cell_type": "code",
   "execution_count": null,
   "id": "141983b1",
   "metadata": {},
   "outputs": [],
   "source": [
    "signal_flavin"
   ]
  },
  {
   "cell_type": "code",
   "execution_count": null,
   "id": "2a6f5a1f",
   "metadata": {},
   "outputs": [],
   "source": [
    "signal_births"
   ]
  },
  {
   "cell_type": "markdown",
   "id": "a63b26fa",
   "metadata": {},
   "source": [
    "# Choose a list of cells as working data"
   ]
  },
  {
   "cell_type": "markdown",
   "id": "a7ad725b",
   "metadata": {},
   "source": [
    "List strains"
   ]
  },
  {
   "cell_type": "code",
   "execution_count": null,
   "id": "891fa263",
   "metadata": {},
   "outputs": [],
   "source": [
    "signal_flavin.index.get_level_values(0).unique().to_list()"
   ]
  },
  {
   "cell_type": "markdown",
   "id": "e49c23b3",
   "metadata": {},
   "source": [
    "Define `signal_flavin_wd` as working data"
   ]
  },
  {
   "cell_type": "code",
   "execution_count": null,
   "id": "64cd10f0",
   "metadata": {},
   "outputs": [],
   "source": [
    "strain = 'by4741'\n",
    "\n",
    "signal_flavin_wd = signal_flavin.loc[strain]\n",
    "signal_births_wd = signal_births.loc[strain]"
   ]
  },
  {
   "cell_type": "markdown",
   "id": "29c0c3d3",
   "metadata": {},
   "source": [
    "# Processing time series"
   ]
  },
  {
   "cell_type": "markdown",
   "id": "4600fef8",
   "metadata": {},
   "source": [
    "## Range"
   ]
  },
  {
   "cell_type": "markdown",
   "id": "42b8e66e",
   "metadata": {},
   "source": [
    "Chop up time series according to `interval_start` and `interval_end`, then remove cells that have NaNs.  Print number of cells."
   ]
  },
  {
   "cell_type": "code",
   "execution_count": null,
   "id": "82c04695",
   "metadata": {},
   "outputs": [],
   "source": [
    "# PARAMETERS\n",
    "interval_start = 25\n",
    "interval_end = 168\n",
    "#\n",
    "\n",
    "signal_flavin_processed = signal_flavin_wd.iloc[:, interval_start:interval_end]\n",
    "# note: originally had dropna() at the end -- it should be removed later, but I will have to match flavin and births by cellID\n",
    "signal_births_processed = signal_births_wd.iloc[:, interval_start:interval_end]\n",
    "signal_flavin_processed"
   ]
  },
  {
   "cell_type": "code",
   "execution_count": null,
   "id": "31562990",
   "metadata": {},
   "outputs": [],
   "source": [
    "import matplotlib.pyplot as plt\n",
    "plt.plot(signal_flavin_processed.iloc[3])"
   ]
  },
  {
   "cell_type": "markdown",
   "id": "85b8b8ea",
   "metadata": {},
   "source": [
    "## Detrend"
   ]
  },
  {
   "cell_type": "markdown",
   "id": "bfaa040c",
   "metadata": {},
   "source": [
    "Using sliding window"
   ]
  },
  {
   "cell_type": "code",
   "execution_count": null,
   "id": "f00984d2",
   "metadata": {},
   "outputs": [],
   "source": [
    "# POTENTIAL ISSUE: This removes some time points.  Need to find a way to re-align births so that it makes sense.\n",
    "# I expect that there is a constant shift that is a function of the size of the sliding window.\n",
    "# ----> seems like no re-aligning needed???  After a cursory look at some time series & where their peaks should be.\n",
    "\n",
    "import matplotlib.pyplot as plt\n",
    "import seaborn as sns\n",
    "\n",
    "# PARAMETERS\n",
    "window = 45\n",
    "#\n",
    "\n",
    "fig, ax = plt.subplots()\n",
    "sns.heatmap(signal_flavin_processed)\n",
    "plt.title('Before detrending')\n",
    "plt.show()\n",
    "\n",
    "def moving_average(input_timeseries,\n",
    "                  window = 3):\n",
    "    processed_timeseries = np.cumsum(input_timeseries, dtype=float)\n",
    "    processed_timeseries[window:] = processed_timeseries[window:] - processed_timeseries[:-window]\n",
    "    return processed_timeseries[window - 1 :] /  window\n",
    "\n",
    "signal_flavin_processed = signal_flavin_processed.div(signal_flavin_processed.mean(axis = 1), axis = 0)\n",
    "signal_flavin_movavg = signal_flavin_processed.apply(lambda x: pd.Series(moving_average(x.values, window)), axis = 1)\n",
    "signal_flavin_norm = signal_flavin_processed.iloc(axis = 1)[window//2: -window//2] / signal_flavin_movavg.iloc[:,0:signal_flavin_movavg.shape[1]-1].values\n",
    "\n",
    "fig, ax = plt.subplots()\n",
    "sns.heatmap(signal_flavin_norm)\n",
    "plt.title('After detrending')\n",
    "plt.show()\n",
    "\n",
    "signal_flavin_processed = signal_flavin_norm\n",
    "signal_births_processed = signal_births_processed.iloc[:, :-window]\n",
    "\n",
    "signal_flavin_processed"
   ]
  },
  {
   "cell_type": "code",
   "execution_count": null,
   "id": "458cb300",
   "metadata": {},
   "outputs": [],
   "source": [
    "signal_births_processed"
   ]
  },
  {
   "cell_type": "code",
   "execution_count": null,
   "id": "8214390d",
   "metadata": {},
   "outputs": [],
   "source": [
    "plt.plot(signal_flavin_processed.iloc[3])"
   ]
  },
  {
   "cell_type": "markdown",
   "id": "a20d017e",
   "metadata": {},
   "source": [
    "## Align to first birth"
   ]
  },
  {
   "cell_type": "code",
   "execution_count": null,
   "id": "135a98cf",
   "metadata": {},
   "outputs": [],
   "source": [
    "# For each cell:\n",
    "# - Identify the first birth.\n",
    "# - In the births signal: delete all that comes before it; make it time point 0.\n",
    "# - In the corresponding flavin signal: delete all that comes before the first birth;\n",
    "#   make the corresponding flavin time point 0.\n",
    "# - Fill the rest of the dataframe with NaNs?  To ensure rectangular dimensions."
   ]
  },
  {
   "cell_type": "code",
   "execution_count": null,
   "id": "96a346e8",
   "metadata": {},
   "outputs": [],
   "source": [
    "signal_flavin_save = signal_flavin_processed\n",
    "signal_flavin_save"
   ]
  },
  {
   "cell_type": "code",
   "execution_count": null,
   "id": "00c97ceb",
   "metadata": {},
   "outputs": [],
   "source": [
    "signal_flavin_aligned = signal_flavin_save\n",
    "\n",
    "shifted_rows = []\n",
    "for row_index in range(len(signal_flavin_aligned)):\n",
    "    birth_locs = np.where(signal_births_processed.iloc[row_index].to_numpy() == 1)[0]\n",
    "    if birth_locs.any():\n",
    "        shift = birth_locs[0]\n",
    "    else:\n",
    "        shift = 0\n",
    "    shifted_rows.insert(\n",
    "        row_index,\n",
    "        signal_flavin_aligned.iloc[[row_index]].shift(periods = -shift, axis = 'columns')\n",
    "    )\n",
    "signal_flavin_aligned = pd.concat(shifted_rows)\n",
    "signal_flavin_aligned"
   ]
  },
  {
   "cell_type": "markdown",
   "id": "1e0e5b3f",
   "metadata": {},
   "source": [
    "# Locate metabolic cycle peaks"
   ]
  },
  {
   "cell_type": "code",
   "execution_count": null,
   "id": "308ee1b9",
   "metadata": {},
   "outputs": [],
   "source": [
    "# (add code here)"
   ]
  },
  {
   "cell_type": "markdown",
   "id": "41e286b7",
   "metadata": {},
   "source": [
    "# Plot heatmaps"
   ]
  },
  {
   "cell_type": "code",
   "execution_count": null,
   "id": "eacc06e1",
   "metadata": {},
   "outputs": [],
   "source": [
    "# Should be straightforward with seaborn.heatmap().\n",
    "# It's essentially a heatmap from the birth signals and another heatmap from the flavin signals.\n",
    "# I just have to find a way to superimpose them.\n",
    "import seaborn as sns\n",
    "import matplotlib.pyplot as plt\n",
    "plt.imshow(signal_births_processed)"
   ]
  },
  {
   "cell_type": "code",
   "execution_count": null,
   "id": "b72c9319",
   "metadata": {},
   "outputs": [],
   "source": [
    "plt.imshow(signal_flavin_aligned)"
   ]
  },
  {
   "cell_type": "markdown",
   "id": "531ee132",
   "metadata": {},
   "source": [
    "# Plot histograms"
   ]
  },
  {
   "cell_type": "code",
   "execution_count": null,
   "id": "a0199d8b",
   "metadata": {},
   "outputs": [],
   "source": [
    "# - From birth signals: find duration between 1st and 2nd birth (should just be an easy subtraction problem)\n",
    "# - From flavin signals: find duration between peak (which should already be found earlier)\n",
    "#   and the corresponding 1st birth.\n",
    "# - When these durations are found, it should be straightforward with matplotlib.pyplot.hist()"
   ]
  }
 ],
 "metadata": {
  "kernelspec": {
   "display_name": "aliby",
   "language": "python",
   "name": "aliby"
  },
  "language_info": {
   "codemirror_mode": {
    "name": "ipython",
    "version": 3
   },
   "file_extension": ".py",
   "mimetype": "text/x-python",
   "name": "python",
   "nbconvert_exporter": "python",
   "pygments_lexer": "ipython3",
   "version": "3.7.9"
  }
 },
 "nbformat": 4,
 "nbformat_minor": 5
}
