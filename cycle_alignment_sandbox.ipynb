{
 "cells": [
  {
   "cell_type": "markdown",
   "id": "3c72b67e",
   "metadata": {},
   "source": [
    "**Purpose:** Investigate synchrony between the cell division and metabolic cycles.\n",
    "\n",
    "This is inspired by fig 1 of Bieler et al. (2014), show below.  It shows the relationship between the cell division and circadian cycles."
   ]
  },
  {
   "cell_type": "markdown",
   "id": "5f7cfa0c",
   "metadata": {},
   "source": [
    "![title](msb0010-0739-f1.jpg)"
   ]
  },
  {
   "cell_type": "markdown",
   "id": "437e0522",
   "metadata": {},
   "source": [
    "Figure 1. Circadian and cell cycle oscillators are tightly synchronized in NIH3T3 cells\n",
    "- A. Single-cell time traces showing the circadian YFP signal (black, identified maxima in blue denoted as p), together with cell division events (nuclear envelope breakdown, red, denoted as d). The top trace is typical and shows three divisions before the circadian peaks, the second trace shows an early first division.\n",
    "- B. Raster plot showing 3,160 traces (with at least two circadian peaks) aligned on the second circadian peak (blue), and sorted according to the interval between the first and second circadian peaks. Divisions (red) show a clear tendency to occur, on average, 5 h before the circadian peaks. A sparse group of early division events associated usually with longer circadian intervals is also visible.\n",
    "- C. Division times measured with respect to the subsequent circadian peak show a unimodal distribution centered at −5 h. Inset: longer circadian intervals correlate with mitosis occurring, on average, closer to the next peak (also visible in B).\n",
    "- D. Circadian phases at division (normalized division times) show a unimodal distribution. Inset: longer circadian intervals correlate with mitosis occurring at later circadian phases."
   ]
  },
  {
   "cell_type": "markdown",
   "id": "e1dd5961",
   "metadata": {},
   "source": [
    "**Aims:**\n",
    "- Import flavin signals and birth events from a population of same-strain cells subject to the same nutrient conditions.\n",
    "    - Start from the more reliable BY4741 or FY4 time series first, to iron out any issues.\n",
    "    - Real purpose is to do this with the mutants, especially with the `swe1_Del` from the Causton lab.  It's only going to be a matter of switching the dataset file.\n",
    "- Process data: cut time series to duration of interest (births matrix should be cut too), detrend flavin signals.\n",
    "- Align time series to the first birth event.\n",
    "- Locate the subsequent metabolic cycle.\n",
    "    - This may be through finding a peak, using the appropriate tolerance.\n",
    "    - Fitting an autoregressive model or Gaussian process may be helpful.\n",
    "    - I will also need to identify the troughs so that I only get one metabolic cycle (see heatmap in next main item).\n",
    "    - I expect this to be the most technically difficult.  If all else fails, plotting a heatmap with birth times overlaid 'for now' may still help produce insight.\n",
    "- Plot a heatmap that shows:\n",
    "    - Where the second birth event is in relation to the first birth event.\n",
    "    - Where the subsequent metabolic cycle is in relation to the first metabolic cycle.\n",
    "- Plot histograms that show the distributions of:\n",
    "    - Time differences between first and second birth events.\n",
    "    - Time differences between first birth event and peak of metabolic cycle."
   ]
  },
  {
   "cell_type": "markdown",
   "id": "ae973807",
   "metadata": {},
   "source": [
    "**Paradigms:**\n",
    "- Use `aliby` data structures, i.e. `pandas` `DataFrames` with multi-indexing.\n",
    "    - Births has only been recently (2022-01-18) added to the `DataFrame` output.  Need to look at how it is done there first, and try to replicate.\n",
    "- Use `postprocessor` processes e.g. `fft` (Fourier transform), `autoreg` (autoregressive model -- add methods as appropriate).\n",
    "- Ultimate goal to put all the cells together in a script to put in `skeletons`, but some people prioritise having plots fast over having clean code."
   ]
  },
  {
   "cell_type": "code",
   "execution_count": null,
   "id": "396f8435",
   "metadata": {},
   "outputs": [],
   "source": [
    "import PyQt5\n",
    "%matplotlib qt"
   ]
  },
  {
   "cell_type": "markdown",
   "id": "c599c36a",
   "metadata": {},
   "source": [
    "**When going through this again: if I repeat lines of code, put them in a function to make life easier.**"
   ]
  },
  {
   "cell_type": "markdown",
   "id": "857fdfe3",
   "metadata": {},
   "source": [
    "# Import data"
   ]
  },
  {
   "cell_type": "markdown",
   "id": "e0bbadeb",
   "metadata": {},
   "source": [
    "**Important note: must be mindful of how I'm dealing with TWO sets of signals -- flavin and births.  Potentially THREE if I include mCherry.**\n",
    "\n",
    "**Current code, copied from `svm_sandbox.ipynb`, deals with ONE set of signals; having two sets is another can of worms.  Name the data variables and manage them wisely.**"
   ]
  },
  {
   "cell_type": "markdown",
   "id": "a021e69d",
   "metadata": {},
   "source": [
    "Note: lots of redundancy & spaghettification introduced with mCherry signals.  In particular, a _lot_ of try-except structures that wouldn't be there if this is all in one pipeline with a good logical flow.  Organise this later."
   ]
  },
  {
   "cell_type": "code",
   "execution_count": null,
   "id": "5771ed6a",
   "metadata": {},
   "outputs": [],
   "source": [
    "import numpy as np\n",
    "import pandas as pd\n",
    "import csv\n",
    "\n",
    "# PARAMETERS\n",
    "#filename_prefix = './data/arin/Omero19972_'\n",
    "filename_prefix = './data/arin/Omero20016_'\n",
    "#\n",
    "\n",
    "# Import flavin signals\n",
    "signal_flavin = pd.read_csv(filename_prefix+'flavin.csv')\n",
    "signal_flavin.replace(0, np.nan, inplace=True) # because the CSV is constructed like that :/\n",
    "\n",
    "# Import birth signals\n",
    "signal_births = pd.read_csv(filename_prefix+'births.csv')\n",
    "#signal_births.replace(0, np.nan, inplace=True)\n",
    "\n",
    "def convert_df_to_aliby(\n",
    "    signal,\n",
    "    strainlookup_df,\n",
    "):\n",
    "    # Import look-up table for strains (would prefer to directly CSV -> dict)\n",
    "    strainlookup_dict = dict(zip(strainlookup_df.position, strainlookup_df.strain))\n",
    "    \n",
    "    # Positions -> Strain (more informative)\n",
    "    signal = signal.replace({'position': strainlookup_dict})\n",
    "    signal.rename(columns = {\"position\": \"strain\"}, inplace = True)\n",
    "    signal = signal.drop(['distfromcentre'], axis = 1)\n",
    "\n",
    "    # Convert to multi-index dataframe\n",
    "    signal_temp = signal.iloc[:,2:]\n",
    "    multiindex = pd.MultiIndex.from_frame(signal[['strain', 'cellID']])\n",
    "    signal = pd.DataFrame(signal_temp.to_numpy(),\n",
    "                          index = multiindex)\n",
    "    \n",
    "    return signal\n",
    "\n",
    "strainlookup_df = pd.read_csv(filename_prefix+'strains.csv')\n",
    "signal_flavin = convert_df_to_aliby(signal_flavin, strainlookup_df)\n",
    "signal_births = convert_df_to_aliby(signal_births, strainlookup_df)\n",
    "\n",
    "# If there is mCherry, import that too\n",
    "try:\n",
    "    signal_mCherry = pd.read_csv(filename_prefix+'mCherry.csv')\n",
    "    signal_mCherry.replace(0, np.nan, inplace=True)\n",
    "    signal_mCherry = convert_df_to_aliby(signal_mCherry, strainlookup_df)\n",
    "except:\n",
    "    print('No mCherry signal')"
   ]
  },
  {
   "cell_type": "code",
   "execution_count": null,
   "id": "a384ea94",
   "metadata": {},
   "outputs": [],
   "source": [
    "signal_flavin"
   ]
  },
  {
   "cell_type": "code",
   "execution_count": null,
   "id": "d810630a",
   "metadata": {},
   "outputs": [],
   "source": [
    "signal_mCherry"
   ]
  },
  {
   "cell_type": "code",
   "execution_count": null,
   "id": "03635601",
   "metadata": {},
   "outputs": [],
   "source": [
    "signal_births"
   ]
  },
  {
   "cell_type": "markdown",
   "id": "f62cc244",
   "metadata": {},
   "source": [
    "# Choose a list of cells as working data"
   ]
  },
  {
   "cell_type": "markdown",
   "id": "cbef6a40",
   "metadata": {},
   "source": [
    "List strains"
   ]
  },
  {
   "cell_type": "code",
   "execution_count": null,
   "id": "0761bef7",
   "metadata": {},
   "outputs": [],
   "source": [
    "signal_flavin.index.get_level_values(0).unique().to_list()"
   ]
  },
  {
   "cell_type": "markdown",
   "id": "7b5cfabe",
   "metadata": {},
   "source": [
    "Define `signal_flavin_wd` as working data"
   ]
  },
  {
   "cell_type": "code",
   "execution_count": null,
   "id": "9fee9d52",
   "metadata": {},
   "outputs": [],
   "source": [
    "strain = 'by4741'\n",
    "\n",
    "signal_flavin_wd = signal_flavin.loc[strain]\n",
    "signal_births_wd = signal_births.loc[strain]\n",
    "\n",
    "try:\n",
    "    signal_mCherry_wd = signal_mCherry.loc[strain]\n",
    "except:\n",
    "    print('No mCherry signal')\n",
    "    \n",
    "# REPLACE this with proper handling later!\n",
    "# If df is full of NaNs, re-define as empty so that subsequent try-expect routines\n",
    "# return errors.\n",
    "if np.sum(~signal_mCherry_wd.isnull().values) == 0:\n",
    "    signal_mCherry_wd = []"
   ]
  },
  {
   "cell_type": "code",
   "execution_count": null,
   "id": "82aa8cbc",
   "metadata": {},
   "outputs": [],
   "source": [
    "signal_mCherry_wd"
   ]
  },
  {
   "cell_type": "markdown",
   "id": "2de1d3b8",
   "metadata": {},
   "source": [
    "# Processing time series"
   ]
  },
  {
   "cell_type": "markdown",
   "id": "ea237187",
   "metadata": {},
   "source": [
    "## Range"
   ]
  },
  {
   "cell_type": "markdown",
   "id": "02482460",
   "metadata": {},
   "source": [
    "Chop up time series according to `interval_start` and `interval_end`, then remove cells that have NaNs.  Print number of cells."
   ]
  },
  {
   "cell_type": "code",
   "execution_count": null,
   "id": "85fe7239",
   "metadata": {},
   "outputs": [],
   "source": [
    "# PARAMETERS\n",
    "interval_start = 25\n",
    "interval_end = 168\n",
    "#\n",
    "\n",
    "signal_flavin_processed = signal_flavin_wd.iloc[:, interval_start:interval_end].dropna()\n",
    "signal_births_processed = signal_births_wd.iloc[:, interval_start:interval_end].dropna() # don't expect NaN here, but just for consistency\n",
    "\n",
    "try:\n",
    "    signal_mCherry_processed = signal_mCherry_wd.iloc[:, interval_start:interval_end].dropna()\n",
    "except:\n",
    "    print('No mCherry signal')\n",
    "\n",
    "# Note: number of rows from the two DataFrames may be different from now on.\n",
    "# This is expected because the flavin DataFrame has NaNs but the births doesn't.\n",
    "# This is okay because matching the two will be based on the 'cellID' index, which never changes."
   ]
  },
  {
   "cell_type": "markdown",
   "id": "fca2d7b8",
   "metadata": {},
   "source": [
    "## Detrend"
   ]
  },
  {
   "cell_type": "markdown",
   "id": "5067c9b5",
   "metadata": {},
   "source": [
    "Using sliding window"
   ]
  },
  {
   "cell_type": "code",
   "execution_count": null,
   "id": "0b05111e",
   "metadata": {},
   "outputs": [],
   "source": [
    "# POTENTIAL ISSUE: This removes some time points.  Need to find a way to re-align births so that it makes sense.\n",
    "# I expect that there is a constant shift that is a function of the size of the sliding window.\n",
    "# ----> seems like no re-aligning needed???  After a cursory look at some time series & where their peaks should be.\n",
    "\n",
    "import matplotlib.pyplot as plt\n",
    "import seaborn as sns\n",
    "\n",
    "# PARAMETERS\n",
    "window = 45\n",
    "#\n",
    "\n",
    "fig, ax = plt.subplots()\n",
    "sns.heatmap(signal_flavin_processed)\n",
    "plt.title('Before detrending')\n",
    "plt.show()\n",
    "\n",
    "def moving_average(input_timeseries,\n",
    "                  window = 3):\n",
    "    processed_timeseries = np.cumsum(input_timeseries, dtype=float)\n",
    "    processed_timeseries[window:] = processed_timeseries[window:] - processed_timeseries[:-window]\n",
    "    return processed_timeseries[window - 1 :] /  window\n",
    "\n",
    "def detrend(signal, window):\n",
    "    signal = signal.div(signal.mean(axis = 1), axis = 0)\n",
    "    signal_movavg = signal.apply(lambda x: pd.Series(moving_average(x.values, window)), axis = 1)\n",
    "    signal_norm = signal.iloc(axis = 1)[window//2: -window//2] / signal_movavg.iloc[:,0:signal_movavg.shape[1]-1].values\n",
    "    return signal_norm\n",
    "\n",
    "signal_flavin_processed = detrend(signal_flavin_processed, window)\n",
    "\n",
    "fig, ax = plt.subplots()\n",
    "sns.heatmap(signal_flavin_processed)\n",
    "plt.title('After detrending')\n",
    "plt.show()\n",
    "\n",
    "# Re-align births because some time points were removed/shifted\n",
    "# Doing it this way so that column headers are consistent with the (modified) flavin DataFrame\n",
    "signal_births_processed = signal_births_processed.iloc(axis=1)[window//2: -window//2]\n",
    "\n",
    "try:\n",
    "    signal_mCherry_processed = detrend(signal_mCherry_processed, window)\n",
    "except:\n",
    "    print('No mCherry signal')"
   ]
  },
  {
   "cell_type": "code",
   "execution_count": null,
   "id": "52337b12",
   "metadata": {},
   "outputs": [],
   "source": [
    "from sklearn.preprocessing import StandardScaler\n",
    "import matplotlib.cm as cm\n",
    "\n",
    "flavin_array = signal_flavin_processed.to_numpy()\n",
    "#flavin_array = signal_mCherry_processed.to_numpy()\n",
    "scaler = StandardScaler().fit(flavin_array.transpose())\n",
    "signal_flavin_scaled = scaler.transform(flavin_array.transpose())\n",
    "signal_flavin_scaled = signal_flavin_scaled.transpose()\n",
    "\n",
    "flavin_heatmap = plt.imshow(\n",
    "    signal_flavin_scaled,\n",
    "    cmap = cm.RdBu_r,\n",
    "    interpolation='none',\n",
    ")"
   ]
  },
  {
   "cell_type": "code",
   "execution_count": null,
   "id": "28d3efe9",
   "metadata": {},
   "outputs": [],
   "source": [
    "plt.plot(signal_flavin_scaled[6])"
   ]
  },
  {
   "cell_type": "code",
   "execution_count": null,
   "id": "500325d5",
   "metadata": {},
   "outputs": [],
   "source": [
    "signal_flavin_processed"
   ]
  },
  {
   "cell_type": "code",
   "execution_count": null,
   "id": "17985a70",
   "metadata": {},
   "outputs": [],
   "source": [
    "# Plot one flavin trace with births\n",
    "cell_index = 13\n",
    "\n",
    "time_axis = np.array(signal_births_processed.columns)\n",
    "birth_mask = signal_births_processed.loc[cell_index].to_numpy().astype(bool)\n",
    "\n",
    "plt.plot(signal_flavin_processed.columns,\n",
    "    signal_flavin_processed.loc[cell_index])\n",
    "for birth_time in time_axis[birth_mask]:\n",
    "    plt.axvline(birth_time, color='k', linestyle='--')\n",
    "plt.xlabel('Time (min)')\n",
    "plt.ylabel('Normalised flavin fluorescence (AU)')\n",
    "plt.title('Representative flavin signal with birth times indicated')"
   ]
  },
  {
   "cell_type": "markdown",
   "id": "4dfb35ce",
   "metadata": {},
   "source": [
    "# Alignment"
   ]
  },
  {
   "cell_type": "markdown",
   "id": "99a55558",
   "metadata": {},
   "source": [
    "## To first birth"
   ]
  },
  {
   "cell_type": "markdown",
   "id": "6181b8eb",
   "metadata": {},
   "source": [
    "Save dataframes (I plan to remove this step later...)"
   ]
  },
  {
   "cell_type": "code",
   "execution_count": null,
   "id": "828a4766",
   "metadata": {},
   "outputs": [],
   "source": [
    "signal_flavin_save = signal_flavin_processed\n",
    "signal_births_save = signal_births_processed\n",
    "\n",
    "try:\n",
    "    signal_mCherry_save = signal_mCherry_processed\n",
    "except:\n",
    "    print('No mCherry signal')"
   ]
  },
  {
   "cell_type": "markdown",
   "id": "9004acfe",
   "metadata": {},
   "source": [
    "### Align"
   ]
  },
  {
   "cell_type": "code",
   "execution_count": null,
   "id": "9e78a4f5",
   "metadata": {},
   "outputs": [],
   "source": [
    "signal_births_aligned = signal_births_save\n",
    "signal_flavin_aligned = signal_flavin_save\n",
    "\n",
    "common_index = signal_flavin_aligned.index\n",
    "\n",
    "try:\n",
    "    signal_mCherry_aligned = signal_mCherry_save\n",
    "    common_index = common_index.intersection(signal_mCherry_aligned.index)\n",
    "except:\n",
    "    print('No mCherry signal 1')\n",
    "\n",
    "births_shifted_rows = []\n",
    "flavin_shifted_rows = []\n",
    "mCherry_shifted_rows = []\n",
    "# Match flavin and birth signals by cellID (shared and not changed)\n",
    "for cellID in common_index:\n",
    "    # Identify first birth and define shift\n",
    "    birth_locs = np.where(signal_births_processed.loc[cellID].to_numpy() == 1)[0]\n",
    "    if birth_locs.any():\n",
    "        shift = birth_locs[0]\n",
    "    else:\n",
    "        shift = 0\n",
    "    # Make first birth the first time point\n",
    "    # When shifted, the rest of the df is NaNs\n",
    "    births_shifted_rows.append(\n",
    "        signal_births_aligned.loc[[cellID]].shift(periods = -shift, axis = 'columns')\n",
    "    )\n",
    "    # Shift flavin signals accordingly\n",
    "    flavin_shifted_rows.append(\n",
    "        signal_flavin_aligned.loc[[cellID]].shift(periods = -shift, axis = 'columns')\n",
    "    )\n",
    "    # If exists, shift mCherry signal accordingly\n",
    "    try:\n",
    "        mCherry_shifted_rows.append(\n",
    "            signal_mCherry_aligned.loc[[cellID]].shift(periods = -shift, axis = 'columns')\n",
    "        )\n",
    "    except:\n",
    "        print('No mCherry signal 2')\n",
    "# Re-construct dataframes\n",
    "signal_births_aligned = pd.concat(births_shifted_rows, ignore_index = True)\n",
    "signal_births_aligned.set_index(common_index, inplace = True)\n",
    "\n",
    "signal_flavin_aligned = pd.concat(flavin_shifted_rows, ignore_index = True)\n",
    "signal_flavin_aligned.set_index(common_index, inplace = True)\n",
    "\n",
    "try:\n",
    "    signal_mCherry_aligned = pd.concat(mCherry_shifted_rows, ignore_index = True)\n",
    "    signal_mCherry_aligned.set_index(common_index, inplace = True)\n",
    "except:\n",
    "    print('No mCherry signal 3')"
   ]
  },
  {
   "cell_type": "code",
   "execution_count": null,
   "id": "b8215d31",
   "metadata": {},
   "outputs": [],
   "source": [
    "signal_births_aligned"
   ]
  },
  {
   "cell_type": "markdown",
   "id": "ff3c15a0",
   "metadata": {},
   "source": [
    "Remove cells without births"
   ]
  },
  {
   "cell_type": "code",
   "execution_count": null,
   "id": "6c3fd460",
   "metadata": {},
   "outputs": [],
   "source": [
    "signal_births_drop = signal_births_processed.loc[signal_births_processed.sum(axis = 1) != 0, :]\n",
    "\n",
    "signal_births_aligned = signal_births_aligned.loc[\n",
    "    signal_births_drop.index.intersection(signal_births_aligned.index)\n",
    "]\n",
    "signal_flavin_aligned = signal_flavin_aligned.loc[\n",
    "    signal_births_drop.index.intersection(signal_flavin_aligned.index)\n",
    "]\n",
    "\n",
    "try:\n",
    "    signal_mCherry_aligned = signal_mCherry_aligned.loc[\n",
    "        signal_births_drop.index.intersection(signal_mCherry_aligned.index)\n",
    "    ]\n",
    "except:\n",
    "    print('No mCherry signal')"
   ]
  },
  {
   "cell_type": "markdown",
   "id": "6e61e4f4",
   "metadata": {},
   "source": [
    "Arrange cells by interval between first and second birth"
   ]
  },
  {
   "cell_type": "code",
   "execution_count": null,
   "id": "c99b5d50",
   "metadata": {},
   "outputs": [],
   "source": [
    "# Find intervals between first and second births\n",
    "second_births_intervals = []\n",
    "for cellID in signal_births_aligned.index:\n",
    "    birth_locs = np.where(signal_births_aligned.loc[cellID].to_numpy() == 1)[0]\n",
    "    birth_locs = np.delete(birth_locs, 0) # the first element of this list is always zero\n",
    "    if birth_locs.any():\n",
    "        second_births_intervals.append(birth_locs[0]) # this is when the 2nd birth is in relation to the 1st\n",
    "    else:\n",
    "        second_births_intervals.append(None)\n",
    "# Absence of second birth represented by nan\n",
    "second_births_intervals = np.array(second_births_intervals, dtype=float)\n",
    "\n",
    "# Rearrange order of rows in dataframes according to time of second birth\n",
    "def rearrange_by_sorted_list(\n",
    "    df,\n",
    "    my_list,\n",
    "):\n",
    "    return df.reindex(df.index[np.argsort(my_list)].to_list())\n",
    "\n",
    "signal_births_aligned = rearrange_by_sorted_list(signal_births_aligned, second_births_intervals)\n",
    "signal_flavin_aligned = rearrange_by_sorted_list(signal_flavin_aligned, second_births_intervals)\n",
    "try:\n",
    "    signal_mCherry_aligned = rearrange_by_sorted_list(signal_mCherry_aligned, second_births_intervals)\n",
    "except:\n",
    "    print('No mCherry signal')"
   ]
  },
  {
   "cell_type": "markdown",
   "id": "3b248183",
   "metadata": {},
   "source": [
    "### Visualise in heatmaps"
   ]
  },
  {
   "cell_type": "markdown",
   "id": "1ec7dc2d",
   "metadata": {},
   "source": [
    "Align flavin time series by births"
   ]
  },
  {
   "cell_type": "code",
   "execution_count": null,
   "id": "1d204e58",
   "metadata": {},
   "outputs": [],
   "source": [
    "import seaborn as sns\n",
    "import matplotlib.pyplot as plt\n",
    "import matplotlib.cm as cm\n",
    "from sklearn.preprocessing import StandardScaler\n",
    "\n",
    "# Apparently matplotlib.pyplot.imshow() is better?\n",
    "# https://stackoverflow.com/questions/44012488/overlay-two-heatmaps-in-seaborn-one-being-frames-around-cells-in-the-other-fro\n",
    "\n",
    "# Produce masked array for births\n",
    "births_array = signal_births_aligned.to_numpy()\n",
    "births_heatmap_mask = np.ma.masked_where(births_array == 0, births_array)\n",
    "\n",
    "# Scale flavin signals\n",
    "flavin_array = signal_flavin_aligned.to_numpy()\n",
    "scaler = StandardScaler().fit(flavin_array.transpose())\n",
    "signal_flavin_aligned_scaled = scaler.transform(flavin_array.transpose())\n",
    "signal_flavin_aligned_scaled = signal_flavin_aligned_scaled.transpose()\n",
    "\n",
    "# Define horizontal axis ticks and labels\n",
    "sampling_period = 5\n",
    "xtick_step = 60\n",
    "\n",
    "xtick_min = 0\n",
    "xtick_max = sampling_period * signal_flavin_aligned_scaled.shape[1]\n",
    "xticklabels = np.arange(xtick_min, xtick_max, xtick_step)\n",
    "xticks = [\n",
    "    int(\n",
    "        np.where(\n",
    "            (sampling_period * np.arange(signal_flavin_aligned_scaled.shape[1])) == label\n",
    "        )[0].item()\n",
    "    )\n",
    "    for label in xticklabels\n",
    "]\n",
    "\n",
    "# Superimpose flavin and births heatmaps\n",
    "flavin_heatmap = plt.imshow(\n",
    "    signal_flavin_aligned_scaled,\n",
    "    cmap = cm.RdBu_r,\n",
    "    interpolation='none',\n",
    ")\n",
    "births_heatmap = plt.imshow(\n",
    "    births_heatmap_mask,\n",
    "    interpolation='none',\n",
    ")\n",
    "plt.colorbar(flavin_heatmap, label='normalised flavin fluorescence (AU)')\n",
    "\n",
    "# Labelling\n",
    "plt.xticks(xticks, xticklabels)\n",
    "plt.xlabel('Time (min)')\n",
    "plt.ylabel('Cell')\n",
    "plt.title(strain)\n",
    "plt.show()"
   ]
  },
  {
   "cell_type": "markdown",
   "id": "aed76e2a",
   "metadata": {},
   "source": [
    "mCherry"
   ]
  },
  {
   "cell_type": "code",
   "execution_count": null,
   "id": "3d52d9b1",
   "metadata": {},
   "outputs": [],
   "source": [
    "# Scale mCherry signals\n",
    "mCherry_array = signal_mCherry_aligned.to_numpy()\n",
    "scaler = StandardScaler().fit(mCherry_array.transpose())\n",
    "signal_mCherry_aligned_scaled = scaler.transform(mCherry_array.transpose())\n",
    "signal_mCherry_aligned_scaled = signal_mCherry_aligned_scaled.transpose()\n",
    "\n",
    "# Superimpose mCherry and births heatmaps\n",
    "mCherry_heatmap = plt.imshow(\n",
    "    signal_mCherry_aligned_scaled,\n",
    "    cmap = cm.RdBu_r,\n",
    "    interpolation='none',\n",
    ")\n",
    "births_heatmap = plt.imshow(\n",
    "    births_heatmap_mask,\n",
    "    interpolation='none',\n",
    ")\n",
    "\n",
    "# Labelling\n",
    "plt.xticks(xticks, xticklabels)\n",
    "plt.xlabel('Time (min)')\n",
    "plt.ylabel('Cell')\n",
    "plt.title(strain)\n",
    "plt.show()"
   ]
  },
  {
   "cell_type": "markdown",
   "id": "cd324868",
   "metadata": {},
   "source": [
    "## To metabolic cycle peaks"
   ]
  },
  {
   "cell_type": "markdown",
   "id": "91d842a6",
   "metadata": {},
   "source": [
    "### Locate metabolic cycle peaks"
   ]
  },
  {
   "cell_type": "markdown",
   "id": "90810c3b",
   "metadata": {},
   "source": [
    "Sandbox: `scipy.signal.find_peaks` for one signal"
   ]
  },
  {
   "cell_type": "code",
   "execution_count": null,
   "id": "6a6ab376",
   "metadata": {},
   "outputs": [],
   "source": [
    "# Isn't this just basically brute-forcing/tuning parameters until it makes sense?\n",
    "# I'm basically training a neural net (i.e. my brain) on finding parameters\n",
    "# for these peaks, and then applying these parameters to other time series,\n",
    "# hoping it sticks.\n",
    "\n",
    "# Would it make sense to:\n",
    "# (1) use a classifier to determine where this is oscillating in the first place, then\n",
    "# (2a) use a smoothing method (e.g. Savitzky-Golay) then find_peaks, or\n",
    "# (2b) use a model-fitting method (e.g AR)\n",
    "# (b) use a model-fitting or smoothing method?  Savitzky-Golay before find_peaks would help.\n",
    "\n",
    "from scipy.signal import find_peaks\n",
    "\n",
    "test_time_series = signal_flavin_processed.iloc[4].to_numpy() # is a good one\n",
    "# Otherwise:\n",
    "test_time_series = signal_flavin_processed.iloc[1].to_numpy()\n",
    "\n",
    "# For now, these parameters work well for the obviously oscillating BY4741 time series.\n",
    "# They don't work as well for the non-oscillating ones, but maybe there's no point,\n",
    "# especially given that we're good at identifying which ones are oscillating.\n",
    "peak_indices = find_peaks(\n",
    "    test_time_series,\n",
    "    distance = 10,\n",
    "    prominence = 0.035,\n",
    ")[0]\n",
    "\n",
    "plt.plot(test_time_series)\n",
    "plt.scatter(\n",
    "    peak_indices,\n",
    "    np.take(test_time_series, peak_indices),\n",
    ")\n",
    "plt.xlabel('Time point')\n",
    "plt.ylabel('Normalised flavin fluorescence (AU)')\n",
    "plt.show()"
   ]
  },
  {
   "cell_type": "markdown",
   "id": "838a7de3",
   "metadata": {},
   "source": [
    "`scipy.signal.find_peaks` for a whole dataframe, produce a binary matrix stored in a new dataframe\n",
    "\n",
    "(This can become a post-process later)"
   ]
  },
  {
   "cell_type": "code",
   "execution_count": null,
   "id": "5b6cf248",
   "metadata": {},
   "outputs": [],
   "source": [
    "from scipy.signal import find_peaks\n",
    "\n",
    "def find_peaks_mask(\n",
    "    timeseries,\n",
    "    distance,\n",
    "    prominence,\n",
    "):\n",
    "    peak_indices = find_peaks(timeseries, distance = distance, prominence = prominence)[0]\n",
    "    mask = np.zeros(len(timeseries), dtype = int)\n",
    "    mask[peak_indices] = 1\n",
    "    \n",
    "    return mask\n",
    "\n",
    "signal_flavin_peaks = signal_flavin_processed.apply(\n",
    "    lambda x: find_peaks_mask(x, distance = 10, prominence = 0.035),\n",
    "    axis = 1, result_type = 'expand'\n",
    ")\n",
    "signal_flavin_peaks.columns = signal_flavin_processed.columns"
   ]
  },
  {
   "cell_type": "markdown",
   "id": "709a2d9c",
   "metadata": {},
   "source": [
    "### Align"
   ]
  },
  {
   "cell_type": "markdown",
   "id": "8345a4de",
   "metadata": {},
   "source": [
    "**TODO: change names of variables (births --> flavin peaks)!**"
   ]
  },
  {
   "cell_type": "code",
   "execution_count": null,
   "id": "062edcda",
   "metadata": {},
   "outputs": [],
   "source": [
    "signal_births_save = signal_flavin_peaks\n",
    "signal_flavin_save = signal_flavin_processed"
   ]
  },
  {
   "cell_type": "code",
   "execution_count": null,
   "id": "728a7807",
   "metadata": {},
   "outputs": [],
   "source": [
    "signal_births_aligned = signal_births_save\n",
    "signal_flavin_aligned = signal_flavin_save\n",
    "\n",
    "common_index = signal_flavin_aligned.index\n",
    "\n",
    "try:\n",
    "    signal_mCherry_aligned = signal_mCherry_save\n",
    "    common_index = common_index.intersection(signal_mCherry_aligned.index)\n",
    "except:\n",
    "    print('No mCherry signal 1')\n",
    "\n",
    "births_shifted_rows = []\n",
    "flavin_shifted_rows = []\n",
    "mCherry_shifted_rows = []\n",
    "# Match flavin and birth signals by cellID (shared and not changed)\n",
    "for cellID in common_index:\n",
    "    # Identify first birth and define shift\n",
    "    birth_locs = np.where(signal_births_processed.loc[cellID].to_numpy() == 1)[0]\n",
    "    if birth_locs.any():\n",
    "        shift = birth_locs[0]\n",
    "    else:\n",
    "        shift = 0\n",
    "    # Make first birth the first time point\n",
    "    # When shifted, the rest of the df is NaNs\n",
    "    births_shifted_rows.append(\n",
    "        signal_births_aligned.loc[[cellID]].shift(periods = -shift, axis = 'columns')\n",
    "    )\n",
    "    # Shift flavin signals accordingly\n",
    "    flavin_shifted_rows.append(\n",
    "        signal_flavin_aligned.loc[[cellID]].shift(periods = -shift, axis = 'columns')\n",
    "    )\n",
    "    # If exists, shift mCherry signal accordingly\n",
    "    try:\n",
    "        mCherry_shifted_rows.append(\n",
    "            signal_mCherry_aligned.loc[[cellID]].shift(periods = -shift, axis = 'columns')\n",
    "        )\n",
    "    except:\n",
    "        print('No mCherry signal 2')\n",
    "# Re-construct dataframes\n",
    "signal_births_aligned = pd.concat(births_shifted_rows, ignore_index = True)\n",
    "signal_births_aligned.set_index(common_index, inplace = True)\n",
    "\n",
    "signal_flavin_aligned = pd.concat(flavin_shifted_rows, ignore_index = True)\n",
    "signal_flavin_aligned.set_index(common_index, inplace = True)\n",
    "\n",
    "try:\n",
    "    signal_mCherry_aligned = pd.concat(mCherry_shifted_rows, ignore_index = True)\n",
    "    signal_mCherry_aligned.set_index(common_index, inplace = True)\n",
    "except:\n",
    "    print('No mCherry signal 3')"
   ]
  },
  {
   "cell_type": "markdown",
   "id": "0f4cc959",
   "metadata": {},
   "source": [
    "### Visualise in heatmaps"
   ]
  },
  {
   "cell_type": "markdown",
   "id": "000223d0",
   "metadata": {},
   "source": [
    "Flavin time series and peaks"
   ]
  },
  {
   "cell_type": "code",
   "execution_count": null,
   "id": "91cc36fe",
   "metadata": {},
   "outputs": [],
   "source": [
    "import matplotlib.cm as cm\n",
    "from sklearn.preprocessing import StandardScaler\n",
    "\n",
    "peaks_heatmap_mask = np.ma.masked_where(signal_flavin_peaks == 0, signal_flavin_peaks)\n",
    "\n",
    "flavin_array = signal_flavin_processed.to_numpy()\n",
    "scaler = StandardScaler().fit(flavin_array.transpose())\n",
    "signal_flavin_processed_scaled = scaler.transform(flavin_array.transpose())\n",
    "signal_flavin_processed_scaled = signal_flavin_processed_scaled.transpose()\n",
    "\n",
    "flavin_heatmap = plt.imshow(\n",
    "    signal_flavin_processed_scaled,\n",
    "    cmap = cm.RdBu_r,\n",
    "    interpolation='none',\n",
    ")\n",
    "peaks_heatmap = plt.imshow(\n",
    "    peaks_heatmap_mask,\n",
    "    interpolation='none',\n",
    ")\n",
    "plt.show()"
   ]
  },
  {
   "cell_type": "markdown",
   "id": "a243c6c5",
   "metadata": {},
   "source": [
    "Flavin time series and peaks, aligned"
   ]
  },
  {
   "cell_type": "markdown",
   "id": "49320b7d",
   "metadata": {},
   "source": [
    "# Plot histograms"
   ]
  },
  {
   "cell_type": "markdown",
   "id": "85a1a052",
   "metadata": {},
   "source": [
    "## Births"
   ]
  },
  {
   "cell_type": "markdown",
   "id": "4db580b5",
   "metadata": {},
   "source": [
    "Duration between 1st and 2nd births"
   ]
  },
  {
   "cell_type": "code",
   "execution_count": null,
   "id": "2b347602",
   "metadata": {},
   "outputs": [],
   "source": [
    "sampling_period = 5\n",
    "binsize = 5\n",
    "\n",
    "plt.hist(\n",
    "    second_births_intervals * sampling_period,\n",
    "    np.arange(0, binsize * (np.nanmax(second_births_intervals * sampling_period)//binsize + 2), binsize)\n",
    ")\n",
    "plt.xlabel('Time (min)')\n",
    "plt.ylabel('Frequency')\n",
    "plt.title('Distribution of duration between 1st and 2nd births')\n",
    "plt.show()"
   ]
  },
  {
   "cell_type": "markdown",
   "id": "7d8b735a",
   "metadata": {},
   "source": [
    "All births"
   ]
  },
  {
   "cell_type": "code",
   "execution_count": null,
   "id": "03fc0de5",
   "metadata": {},
   "outputs": [],
   "source": []
  },
  {
   "cell_type": "markdown",
   "id": "57a4cf17",
   "metadata": {},
   "source": [
    "## Flavin signal peaks"
   ]
  },
  {
   "cell_type": "markdown",
   "id": "ee0e3214",
   "metadata": {},
   "source": [
    "All peaks"
   ]
  },
  {
   "cell_type": "code",
   "execution_count": null,
   "id": "12acd9d5",
   "metadata": {},
   "outputs": [],
   "source": []
  },
  {
   "cell_type": "markdown",
   "id": "34d76977",
   "metadata": {},
   "source": [
    "## Difference between flavin signal peaks and corresponding first births"
   ]
  },
  {
   "cell_type": "code",
   "execution_count": null,
   "id": "8602da7c",
   "metadata": {},
   "outputs": [],
   "source": []
  },
  {
   "cell_type": "markdown",
   "id": "f2f90333",
   "metadata": {},
   "source": [
    "# Cross-correlation"
   ]
  },
  {
   "cell_type": "code",
   "execution_count": null,
   "id": "e6ca7fe1",
   "metadata": {},
   "outputs": [],
   "source": [
    "# https://docs.scipy.org/doc/scipy/reference/generated/scipy.signal.correlate.html\n",
    "\n",
    "from scipy import signal\n",
    "from sklearn.preprocessing import StandardScaler\n",
    "\n",
    "# Choose cell\n",
    "cellID = 476\n",
    "\n",
    "# Scale time series (NB: individually!  And I don't know whether it's a good idea)\n",
    "mCherry_transpose = signal_mCherry_processed.loc[cellID].to_numpy().reshape((-1,1))\n",
    "flavin_transpose = signal_flavin_processed.loc[cellID].to_numpy().reshape((-1,1))\n",
    "signal_mCherry_scaled = StandardScaler().fit_transform(mCherry_transpose)\n",
    "signal_flavin_scaled = StandardScaler().fit_transform(flavin_transpose)\n",
    "\n",
    "corr = signal.correlate(\n",
    "    signal_mCherry_scaled,\n",
    "    signal_flavin_scaled\n",
    ")\n",
    "lags = signal.correlation_lags(\n",
    "    len(signal_mCherry_scaled),\n",
    "    len(signal_flavin_scaled)\n",
    ")\n",
    "\n",
    "\n",
    "fig, axs = plt.subplots(3, 1)\n",
    "fig.subplots_adjust(hspace = 1)\n",
    "\n",
    "axs[0].plot(signal_mCherry_scaled)\n",
    "axs[0].set_title('mCherry, scaled')\n",
    "axs[0].set_xlabel('Time point')\n",
    "\n",
    "axs[1].plot(signal_flavin_scaled)\n",
    "axs[1].set_title('Flavin, scaled')\n",
    "axs[1].set_xlabel('Time point')\n",
    "\n",
    "axs[2].plot(lags, corr)\n",
    "axs[2].spines['left'].set_position('zero')\n",
    "axs[2].spines['bottom'].set_position('zero')\n",
    "axs[2].spines['top'].set_color('none')\n",
    "axs[2].spines['right'].set_color('none')\n",
    "axs[2].set_title('Cross-correlated signal')\n",
    "axs[2].set_xlabel('Lag')"
   ]
  },
  {
   "cell_type": "code",
   "execution_count": null,
   "id": "77b4bb17",
   "metadata": {},
   "outputs": [],
   "source": [
    "# for ref\n",
    "signal_flavin_processed.index.to_numpy()"
   ]
  }
 ],
 "metadata": {
  "kernelspec": {
   "display_name": "aliby",
   "language": "python",
   "name": "aliby"
  },
  "language_info": {
   "codemirror_mode": {
    "name": "ipython",
    "version": 3
   },
   "file_extension": ".py",
   "mimetype": "text/x-python",
   "name": "python",
   "nbconvert_exporter": "python",
   "pygments_lexer": "ipython3",
   "version": "3.7.9"
  }
 },
 "nbformat": 4,
 "nbformat_minor": 5
}
