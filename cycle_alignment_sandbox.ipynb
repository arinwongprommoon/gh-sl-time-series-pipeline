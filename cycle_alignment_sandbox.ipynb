{
 "cells": [
  {
   "cell_type": "markdown",
   "id": "554eacb1",
   "metadata": {},
   "source": [
    "**Purpose:** Investigate synchrony between the cell division and metabolic cycles.\n",
    "\n",
    "This is inspired by fig 1 of Bieler et al. (2014), show below.  It shows the relationship between the cell division and circadian cycles."
   ]
  },
  {
   "cell_type": "markdown",
   "id": "97fecc4b",
   "metadata": {},
   "source": [
    "![title](msb0010-0739-f1.jpg)"
   ]
  },
  {
   "cell_type": "markdown",
   "id": "a8350086",
   "metadata": {},
   "source": [
    "Figure 1. Circadian and cell cycle oscillators are tightly synchronized in NIH3T3 cells\n",
    "- A. Single-cell time traces showing the circadian YFP signal (black, identified maxima in blue denoted as p), together with cell division events (nuclear envelope breakdown, red, denoted as d). The top trace is typical and shows three divisions before the circadian peaks, the second trace shows an early first division.\n",
    "- B. Raster plot showing 3,160 traces (with at least two circadian peaks) aligned on the second circadian peak (blue), and sorted according to the interval between the first and second circadian peaks. Divisions (red) show a clear tendency to occur, on average, 5 h before the circadian peaks. A sparse group of early division events associated usually with longer circadian intervals is also visible.\n",
    "- C. Division times measured with respect to the subsequent circadian peak show a unimodal distribution centered at −5 h. Inset: longer circadian intervals correlate with mitosis occurring, on average, closer to the next peak (also visible in B).\n",
    "- D. Circadian phases at division (normalized division times) show a unimodal distribution. Inset: longer circadian intervals correlate with mitosis occurring at later circadian phases."
   ]
  },
  {
   "cell_type": "markdown",
   "id": "1b3677c6",
   "metadata": {},
   "source": [
    "**Aims:**\n",
    "- Import flavin signals and birth events from a population of same-strain cells subject to the same nutrient conditions.\n",
    "    - Start from the more reliable BY4741 or FY4 time series first, to iron out any issues.\n",
    "    - Real purpose is to do this with the mutants, especially with the `swe1_Del` from the Causton lab.  It's only going to be a matter of switching the dataset file.\n",
    "- Process data: cut time series to duration of interest (births matrix should be cut too), detrend flavin signals.\n",
    "- Align time series to the first birth event.\n",
    "- Locate the subsequent metabolic cycle.\n",
    "    - This may be through finding a peak, using the appropriate tolerance.\n",
    "    - Fitting an autoregressive model or Gaussian process may be helpful.\n",
    "    - I will also need to identify the troughs so that I only get one metabolic cycle (see heatmap in next main item).\n",
    "    - I expect this to be the most technically difficult.  If all else fails, plotting a heatmap with birth times overlaid 'for now' may still help produce insight.\n",
    "- Plot a heatmap that shows:\n",
    "    - Where the second birth event is in relation to the first birth event.\n",
    "    - Where the subsequent metabolic cycle is in relation to the first metabolic cycle.\n",
    "- Plot histograms that show the distributions of:\n",
    "    - Time differences between first and second birth events.\n",
    "    - Time differences between first birth event and peak of metabolic cycle."
   ]
  },
  {
   "cell_type": "markdown",
   "id": "37ff4917",
   "metadata": {},
   "source": [
    "**Paradigms:**\n",
    "- Use `aliby` data structures, i.e. `pandas` `DataFrames` with multi-indexing.\n",
    "    - Births has only been recently (2022-01-18) added to the `DataFrame` output.  Need to look at how it is done there first, and try to replicate.\n",
    "- Use `postprocessor` processes e.g. `fft` (Fourier transform), `autoreg` (autoregressive model -- add methods as appropriate).\n",
    "- Ultimate goal to put all the cells together in a script to put in `skeletons`, but some people prioritise having plots fast over having clean code."
   ]
  },
  {
   "cell_type": "code",
   "execution_count": null,
   "id": "ff8d30d6",
   "metadata": {},
   "outputs": [],
   "source": [
    "import PyQt5\n",
    "%matplotlib qt"
   ]
  },
  {
   "cell_type": "markdown",
   "id": "76f3c282",
   "metadata": {},
   "source": [
    "**When going through this again: if I repeat lines of code, put them in a function to make life easier.**"
   ]
  },
  {
   "cell_type": "markdown",
   "id": "2da9caab",
   "metadata": {},
   "source": [
    "# Import data"
   ]
  },
  {
   "cell_type": "markdown",
   "id": "7cbd7bcb",
   "metadata": {},
   "source": [
    "**Important note: must be mindful of how I'm dealing with TWO sets of signals -- flavin and births.  Potentially THREE if I include mCherry.**\n",
    "\n",
    "**Current code, copied from `svm_sandbox.ipynb`, deals with ONE set of signals; having two sets is another can of worms.  Name the data variables and manage them wisely.**"
   ]
  },
  {
   "cell_type": "markdown",
   "id": "dc833a15",
   "metadata": {},
   "source": [
    "Note: lots of redundancy & spaghettification introduced with mCherry signals.  In particular, a _lot_ of try-except structures that wouldn't be there if this is all in one pipeline with a good logical flow.  Organise this later."
   ]
  },
  {
   "cell_type": "code",
   "execution_count": null,
   "id": "b4ca06fc",
   "metadata": {},
   "outputs": [],
   "source": [
    "import numpy as np\n",
    "import pandas as pd\n",
    "import csv\n",
    "\n",
    "# PARAMETERS\n",
    "filename_prefix = './data/arin/Omero19979_'\n",
    "#filename_prefix = './data/arin/Omero20016_'\n",
    "#\n",
    "\n",
    "# Import flavin signals\n",
    "signal_flavin = pd.read_csv(filename_prefix+'flavin.csv')\n",
    "signal_flavin.replace(0, np.nan, inplace=True) # because the CSV is constructed like that :/\n",
    "\n",
    "# Import birth signals\n",
    "signal_births = pd.read_csv(filename_prefix+'births.csv')\n",
    "#signal_births.replace(0, np.nan, inplace=True)\n",
    "\n",
    "def convert_df_to_aliby(\n",
    "    signal,\n",
    "    strainlookup_df,\n",
    "):\n",
    "    # Import look-up table for strains (would prefer to directly CSV -> dict)\n",
    "    strainlookup_dict = dict(zip(strainlookup_df.position, strainlookup_df.strain))\n",
    "    \n",
    "    # Positions -> Strain (more informative)\n",
    "    signal = signal.replace({'position': strainlookup_dict})\n",
    "    signal.rename(columns = {\"position\": \"strain\"}, inplace = True)\n",
    "    signal = signal.drop(['distfromcentre'], axis = 1)\n",
    "\n",
    "    # Convert to multi-index dataframe\n",
    "    signal_temp = signal.iloc[:,2:]\n",
    "    multiindex = pd.MultiIndex.from_frame(signal[['strain', 'cellID']])\n",
    "    signal = pd.DataFrame(signal_temp.to_numpy(),\n",
    "                          index = multiindex)\n",
    "    \n",
    "    return signal\n",
    "\n",
    "strainlookup_df = pd.read_csv(filename_prefix+'strains.csv')\n",
    "signal_flavin = convert_df_to_aliby(signal_flavin, strainlookup_df)\n",
    "signal_births = convert_df_to_aliby(signal_births, strainlookup_df)\n",
    "\n",
    "# If there is mCherry, import that too\n",
    "try:\n",
    "    signal_mCherry = pd.read_csv(filename_prefix+'mCherry.csv')\n",
    "    signal_mCherry.replace(0, np.nan, inplace=True)\n",
    "    signal_mCherry = convert_df_to_aliby(signal_mCherry, strainlookup_df)\n",
    "except:\n",
    "    print('No mCherry signal')"
   ]
  },
  {
   "cell_type": "code",
   "execution_count": null,
   "id": "42c6fcb3",
   "metadata": {},
   "outputs": [],
   "source": [
    "signal_flavin"
   ]
  },
  {
   "cell_type": "code",
   "execution_count": null,
   "id": "cae3bd30",
   "metadata": {},
   "outputs": [],
   "source": [
    "signal_mCherry"
   ]
  },
  {
   "cell_type": "code",
   "execution_count": null,
   "id": "e95dcc2b",
   "metadata": {},
   "outputs": [],
   "source": [
    "signal_births"
   ]
  },
  {
   "cell_type": "markdown",
   "id": "23ce10e6",
   "metadata": {},
   "source": [
    "# Choose a list of cells as working data"
   ]
  },
  {
   "cell_type": "markdown",
   "id": "fcdb2d1f",
   "metadata": {},
   "source": [
    "List strains"
   ]
  },
  {
   "cell_type": "code",
   "execution_count": null,
   "id": "0624a85c",
   "metadata": {},
   "outputs": [],
   "source": [
    "signal_flavin.index.get_level_values(0).unique().to_list()"
   ]
  },
  {
   "cell_type": "markdown",
   "id": "039fefa1",
   "metadata": {},
   "source": [
    "Define `signal_flavin_wd` as working data"
   ]
  },
  {
   "cell_type": "code",
   "execution_count": null,
   "id": "d8b56d52",
   "metadata": {},
   "outputs": [],
   "source": [
    "strain = 'tsa1_Del_tsa2_Del'\n",
    "\n",
    "signal_flavin_wd = signal_flavin.loc[strain]\n",
    "signal_births_wd = signal_births.loc[strain]\n",
    "\n",
    "try:\n",
    "    signal_mCherry_wd = signal_mCherry.loc[strain]\n",
    "except:\n",
    "    print('No mCherry signal')\n",
    "    \n",
    "# REPLACE this with proper handling later!\n",
    "# If df is full of NaNs, re-define as empty so that subsequent try-expect routines\n",
    "# return errors.\n",
    "if np.sum(~signal_mCherry_wd.isnull().values) == 0:\n",
    "    signal_mCherry_wd = []"
   ]
  },
  {
   "cell_type": "code",
   "execution_count": null,
   "id": "61ab20be",
   "metadata": {},
   "outputs": [],
   "source": [
    "signal_mCherry_wd"
   ]
  },
  {
   "cell_type": "markdown",
   "id": "90d4328b",
   "metadata": {},
   "source": [
    "# Processing time series"
   ]
  },
  {
   "cell_type": "markdown",
   "id": "b012baa3",
   "metadata": {},
   "source": [
    "## Range"
   ]
  },
  {
   "cell_type": "markdown",
   "id": "2100dcc7",
   "metadata": {},
   "source": [
    "Chop up time series according to `interval_start` and `interval_end`, then remove cells that have NaNs.  Print number of cells."
   ]
  },
  {
   "cell_type": "code",
   "execution_count": null,
   "id": "6fbd8aea",
   "metadata": {},
   "outputs": [],
   "source": [
    "# PARAMETERS\n",
    "interval_start = 25\n",
    "interval_end = 168\n",
    "#\n",
    "\n",
    "signal_flavin_processed = signal_flavin_wd.iloc[:, interval_start:interval_end].dropna()\n",
    "signal_births_processed = signal_births_wd.iloc[:, interval_start:interval_end].dropna() # don't expect NaN here, but just for consistency\n",
    "\n",
    "try:\n",
    "    signal_mCherry_processed = signal_mCherry_wd.iloc[:, interval_start:interval_end].dropna()\n",
    "except:\n",
    "    print('No mCherry signal')\n",
    "\n",
    "# Note: number of rows from the two DataFrames may be different from now on.\n",
    "# This is expected because the flavin DataFrame has NaNs but the births doesn't.\n",
    "# This is okay because matching the two will be based on the 'cellID' index, which never changes."
   ]
  },
  {
   "cell_type": "markdown",
   "id": "fee51097",
   "metadata": {},
   "source": [
    "## Detrend"
   ]
  },
  {
   "cell_type": "markdown",
   "id": "ca80c31b",
   "metadata": {},
   "source": [
    "Using sliding window"
   ]
  },
  {
   "cell_type": "code",
   "execution_count": null,
   "id": "54633cd3",
   "metadata": {},
   "outputs": [],
   "source": [
    "# POTENTIAL ISSUE: This removes some time points.  Need to find a way to re-align births so that it makes sense.\n",
    "# I expect that there is a constant shift that is a function of the size of the sliding window.\n",
    "# ----> seems like no re-aligning needed???  After a cursory look at some time series & where their peaks should be.\n",
    "\n",
    "import matplotlib.pyplot as plt\n",
    "import seaborn as sns\n",
    "\n",
    "# PARAMETERS\n",
    "window = 45\n",
    "#\n",
    "\n",
    "fig, ax = plt.subplots()\n",
    "sns.heatmap(signal_flavin_processed)\n",
    "plt.title('Before detrending')\n",
    "plt.show()\n",
    "\n",
    "def moving_average(input_timeseries,\n",
    "                  window = 3):\n",
    "    processed_timeseries = np.cumsum(input_timeseries, dtype=float)\n",
    "    processed_timeseries[window:] = processed_timeseries[window:] - processed_timeseries[:-window]\n",
    "    return processed_timeseries[window - 1 :] /  window\n",
    "\n",
    "def detrend(signal, window):\n",
    "    signal = signal.div(signal.mean(axis = 1), axis = 0)\n",
    "    signal_movavg = signal.apply(lambda x: pd.Series(moving_average(x.values, window)), axis = 1)\n",
    "    signal_norm = signal.iloc(axis = 1)[window//2: -window//2] / signal_movavg.iloc[:,0:signal_movavg.shape[1]-1].values\n",
    "    return signal_norm\n",
    "\n",
    "signal_flavin_processed = detrend(signal_flavin_processed, window)\n",
    "\n",
    "fig, ax = plt.subplots()\n",
    "sns.heatmap(signal_flavin_processed)\n",
    "plt.title('After detrending')\n",
    "plt.show()\n",
    "\n",
    "# Re-align births because some time points were removed/shifted\n",
    "# Doing it this way so that column headers are consistent with the (modified) flavin DataFrame\n",
    "signal_births_processed = signal_births_processed.iloc(axis=1)[window//2: -window//2]\n",
    "\n",
    "try:\n",
    "    signal_mCherry_processed = detrend(signal_mCherry_processed, window)\n",
    "except:\n",
    "    print('No mCherry signal')"
   ]
  },
  {
   "cell_type": "markdown",
   "id": "df5ec8be",
   "metadata": {},
   "source": [
    "Plot heatmap before any alignment\n",
    "\n",
    "**(I really should have heatmap as a function...)**"
   ]
  },
  {
   "cell_type": "code",
   "execution_count": null,
   "id": "92289413",
   "metadata": {},
   "outputs": [],
   "source": [
    "from sklearn.preprocessing import StandardScaler\n",
    "import matplotlib.cm as cm\n",
    "\n",
    "# Produce masked array for births\n",
    "births_array = signal_births_processed.loc[signal_flavin_processed.index].to_numpy()\n",
    "births_heatmap_mask = np.ma.masked_where(births_array == 0, births_array)\n",
    "\n",
    "# Scale flavin signals\n",
    "flavin_array = signal_flavin_processed.to_numpy()\n",
    "scaler = StandardScaler().fit(flavin_array.transpose())\n",
    "signal_flavin_scaled = scaler.transform(flavin_array.transpose())\n",
    "signal_flavin_scaled = signal_flavin_scaled.transpose()\n",
    "\n",
    "# Define horizontal axis ticks and labels\n",
    "sampling_period = 5\n",
    "xtick_step = 60\n",
    "\n",
    "xtick_min = 0\n",
    "xtick_max = sampling_period * signal_flavin_scaled.shape[1]\n",
    "xticklabels = np.arange(xtick_min, xtick_max, xtick_step)\n",
    "xticks = [\n",
    "    int(\n",
    "        np.where(\n",
    "            (sampling_period * np.arange(signal_flavin_scaled.shape[1])) == label\n",
    "        )[0].item()\n",
    "    )\n",
    "    for label in xticklabels\n",
    "]\n",
    "\n",
    "flavin_heatmap = plt.imshow(\n",
    "    signal_flavin_scaled,\n",
    "    cmap = cm.RdBu_r,\n",
    "    interpolation='none',\n",
    ")\n",
    "births_heatmap = plt.imshow(\n",
    "    births_heatmap_mask,\n",
    "    interpolation='none',\n",
    ")\n",
    "plt.colorbar(flavin_heatmap, label='normalised flavin fluorescence (AU)')\n",
    "\n",
    "# Labelling\n",
    "plt.xticks(xticks, xticklabels)\n",
    "plt.xlabel('Time (min)')\n",
    "plt.ylabel('Cell')\n",
    "plt.title(strain)\n",
    "plt.show()"
   ]
  },
  {
   "cell_type": "code",
   "execution_count": null,
   "id": "05d9ac1e",
   "metadata": {},
   "outputs": [],
   "source": [
    "plt.plot(signal_flavin_scaled[6])"
   ]
  },
  {
   "cell_type": "code",
   "execution_count": null,
   "id": "45c7ee6a",
   "metadata": {},
   "outputs": [],
   "source": [
    "# Plot one flavin trace with births\n",
    "cell_index = 1\n",
    "\n",
    "time_axis = np.array(signal_births_processed.columns)\n",
    "birth_mask = signal_births_processed.loc[cell_index].to_numpy().astype(bool)\n",
    "\n",
    "plt.plot(signal_flavin_processed.columns,\n",
    "    signal_flavin_processed.loc[cell_index])\n",
    "for birth_time in time_axis[birth_mask]:\n",
    "    plt.axvline(birth_time, color='k', linestyle='--')\n",
    "plt.xlabel('Time (min)')\n",
    "plt.ylabel('Normalised flavin fluorescence (AU)')\n",
    "plt.title('Representative flavin signal with birth times indicated')"
   ]
  },
  {
   "cell_type": "markdown",
   "id": "824214ee",
   "metadata": {},
   "source": [
    "# Alignment"
   ]
  },
  {
   "cell_type": "markdown",
   "id": "62a47987",
   "metadata": {},
   "source": [
    "## To first birth"
   ]
  },
  {
   "cell_type": "markdown",
   "id": "2811d696",
   "metadata": {},
   "source": [
    "Save dataframes (I plan to remove this step later...)"
   ]
  },
  {
   "cell_type": "code",
   "execution_count": null,
   "id": "766f5790",
   "metadata": {},
   "outputs": [],
   "source": [
    "signal_flavin_save = signal_flavin_processed\n",
    "signal_births_save = signal_births_processed\n",
    "\n",
    "try:\n",
    "    signal_mCherry_save = signal_mCherry_processed\n",
    "except:\n",
    "    print('No mCherry signal')"
   ]
  },
  {
   "cell_type": "markdown",
   "id": "ef4fb400",
   "metadata": {},
   "source": [
    "### Align"
   ]
  },
  {
   "cell_type": "code",
   "execution_count": null,
   "id": "460c9ca0",
   "metadata": {},
   "outputs": [],
   "source": [
    "signal_births_aligned = signal_births_save\n",
    "signal_flavin_aligned = signal_flavin_save\n",
    "\n",
    "common_index = signal_flavin_aligned.index\n",
    "\n",
    "try:\n",
    "    signal_mCherry_aligned = signal_mCherry_save\n",
    "    common_index = common_index.intersection(signal_mCherry_aligned.index)\n",
    "except:\n",
    "    print('No mCherry signal 1')\n",
    "\n",
    "births_shifted_rows = []\n",
    "flavin_shifted_rows = []\n",
    "mCherry_shifted_rows = []\n",
    "# Match flavin and birth signals by cellID (shared and not changed)\n",
    "for cellID in common_index:\n",
    "    # Identify first birth and define shift\n",
    "    birth_locs = np.where(signal_births_processed.loc[cellID].to_numpy() == 1)[0]\n",
    "    if birth_locs.any():\n",
    "        shift = birth_locs[0]\n",
    "    else:\n",
    "        shift = 0\n",
    "    # Make first birth the first time point\n",
    "    # When shifted, the rest of the df is NaNs\n",
    "    births_shifted_rows.append(\n",
    "        signal_births_aligned.loc[[cellID]].shift(periods = -shift, axis = 'columns')\n",
    "    )\n",
    "    # Shift flavin signals accordingly\n",
    "    flavin_shifted_rows.append(\n",
    "        signal_flavin_aligned.loc[[cellID]].shift(periods = -shift, axis = 'columns')\n",
    "    )\n",
    "    # If exists, shift mCherry signal accordingly\n",
    "    try:\n",
    "        mCherry_shifted_rows.append(\n",
    "            signal_mCherry_aligned.loc[[cellID]].shift(periods = -shift, axis = 'columns')\n",
    "        )\n",
    "    except:\n",
    "        print('No mCherry signal 2')\n",
    "# Re-construct dataframes\n",
    "signal_births_aligned = pd.concat(births_shifted_rows, ignore_index = True)\n",
    "signal_births_aligned.set_index(common_index, inplace = True)\n",
    "\n",
    "signal_flavin_aligned = pd.concat(flavin_shifted_rows, ignore_index = True)\n",
    "signal_flavin_aligned.set_index(common_index, inplace = True)\n",
    "\n",
    "try:\n",
    "    signal_mCherry_aligned = pd.concat(mCherry_shifted_rows, ignore_index = True)\n",
    "    signal_mCherry_aligned.set_index(common_index, inplace = True)\n",
    "except:\n",
    "    print('No mCherry signal 3')"
   ]
  },
  {
   "cell_type": "code",
   "execution_count": null,
   "id": "c85ffe69",
   "metadata": {},
   "outputs": [],
   "source": [
    "signal_births_aligned"
   ]
  },
  {
   "cell_type": "markdown",
   "id": "2cae5474",
   "metadata": {},
   "source": [
    "Remove cells without births"
   ]
  },
  {
   "cell_type": "code",
   "execution_count": null,
   "id": "a946a038",
   "metadata": {},
   "outputs": [],
   "source": [
    "signal_births_drop = signal_births_processed.loc[signal_births_processed.sum(axis = 1) != 0, :]\n",
    "\n",
    "signal_births_aligned = signal_births_aligned.loc[\n",
    "    signal_births_drop.index.intersection(signal_births_aligned.index)\n",
    "]\n",
    "signal_flavin_aligned = signal_flavin_aligned.loc[\n",
    "    signal_births_drop.index.intersection(signal_flavin_aligned.index)\n",
    "]\n",
    "\n",
    "try:\n",
    "    signal_mCherry_aligned = signal_mCherry_aligned.loc[\n",
    "        signal_births_drop.index.intersection(signal_mCherry_aligned.index)\n",
    "    ]\n",
    "except:\n",
    "    print('No mCherry signal')"
   ]
  },
  {
   "cell_type": "markdown",
   "id": "a3d0d337",
   "metadata": {},
   "source": [
    "Arrange cells by interval between first and second birth"
   ]
  },
  {
   "cell_type": "code",
   "execution_count": null,
   "id": "00ac14fa",
   "metadata": {},
   "outputs": [],
   "source": [
    "# Find intervals between first and second births\n",
    "second_births_intervals = []\n",
    "for cellID in signal_births_aligned.index:\n",
    "    birth_locs = np.where(signal_births_aligned.loc[cellID].to_numpy() == 1)[0]\n",
    "    birth_locs = np.delete(birth_locs, 0) # the first element of this list is always zero\n",
    "    if birth_locs.any():\n",
    "        second_births_intervals.append(birth_locs[0]) # this is when the 2nd birth is in relation to the 1st\n",
    "    else:\n",
    "        second_births_intervals.append(None)\n",
    "# Absence of second birth represented by nan\n",
    "second_births_intervals = np.array(second_births_intervals, dtype=float)\n",
    "\n",
    "# Rearrange order of rows in dataframes according to time of second birth\n",
    "def rearrange_by_sorted_list(\n",
    "    df,\n",
    "    my_list,\n",
    "):\n",
    "    return df.reindex(df.index[np.argsort(my_list)].to_list())\n",
    "\n",
    "signal_births_aligned = rearrange_by_sorted_list(signal_births_aligned, second_births_intervals)\n",
    "signal_flavin_aligned = rearrange_by_sorted_list(signal_flavin_aligned, second_births_intervals)\n",
    "try:\n",
    "    signal_mCherry_aligned = rearrange_by_sorted_list(signal_mCherry_aligned, second_births_intervals)\n",
    "except:\n",
    "    print('No mCherry signal')"
   ]
  },
  {
   "cell_type": "markdown",
   "id": "a9ee2b1c",
   "metadata": {},
   "source": [
    "### Visualise in heatmaps"
   ]
  },
  {
   "cell_type": "markdown",
   "id": "17a02dd3",
   "metadata": {},
   "source": [
    "Align flavin time series by births"
   ]
  },
  {
   "cell_type": "code",
   "execution_count": null,
   "id": "c25870d5",
   "metadata": {},
   "outputs": [],
   "source": [
    "import seaborn as sns\n",
    "import matplotlib.pyplot as plt\n",
    "import matplotlib.cm as cm\n",
    "from sklearn.preprocessing import StandardScaler\n",
    "\n",
    "# Apparently matplotlib.pyplot.imshow() is better?\n",
    "# https://stackoverflow.com/questions/44012488/overlay-two-heatmaps-in-seaborn-one-being-frames-around-cells-in-the-other-fro\n",
    "\n",
    "# Produce masked array for births\n",
    "births_array = signal_births_aligned.to_numpy()\n",
    "births_heatmap_mask = np.ma.masked_where(births_array == 0, births_array)\n",
    "\n",
    "# Scale flavin signals\n",
    "flavin_array = signal_flavin_aligned.to_numpy()\n",
    "scaler = StandardScaler().fit(flavin_array.transpose())\n",
    "signal_flavin_aligned_scaled = scaler.transform(flavin_array.transpose())\n",
    "signal_flavin_aligned_scaled = signal_flavin_aligned_scaled.transpose()\n",
    "\n",
    "# Define horizontal axis ticks and labels\n",
    "sampling_period = 5\n",
    "xtick_step = 60\n",
    "\n",
    "xtick_min = 0\n",
    "xtick_max = sampling_period * signal_flavin_aligned_scaled.shape[1]\n",
    "xticklabels = np.arange(xtick_min, xtick_max, xtick_step)\n",
    "xticks = [\n",
    "    int(\n",
    "        np.where(\n",
    "            (sampling_period * np.arange(signal_flavin_aligned_scaled.shape[1])) == label\n",
    "        )[0].item()\n",
    "    )\n",
    "    for label in xticklabels\n",
    "]\n",
    "\n",
    "# Superimpose flavin and births heatmaps\n",
    "flavin_heatmap = plt.imshow(\n",
    "    signal_flavin_aligned_scaled,\n",
    "    cmap = cm.RdBu_r,\n",
    "    interpolation='none',\n",
    ")\n",
    "births_heatmap = plt.imshow(\n",
    "    births_heatmap_mask,\n",
    "    interpolation='none',\n",
    ")\n",
    "plt.colorbar(flavin_heatmap, label='normalised flavin fluorescence (AU)')\n",
    "\n",
    "# Labelling\n",
    "plt.xticks(xticks, xticklabels)\n",
    "plt.xlabel('Time (min)')\n",
    "plt.ylabel('Cell')\n",
    "plt.title(strain)\n",
    "plt.show()"
   ]
  },
  {
   "cell_type": "markdown",
   "id": "1fcac66e",
   "metadata": {},
   "source": [
    "mCherry"
   ]
  },
  {
   "cell_type": "code",
   "execution_count": null,
   "id": "205a4159",
   "metadata": {},
   "outputs": [],
   "source": [
    "# Scale mCherry signals\n",
    "mCherry_array = signal_mCherry_aligned.to_numpy()\n",
    "scaler = StandardScaler().fit(mCherry_array.transpose())\n",
    "signal_mCherry_aligned_scaled = scaler.transform(mCherry_array.transpose())\n",
    "signal_mCherry_aligned_scaled = signal_mCherry_aligned_scaled.transpose()\n",
    "\n",
    "# Superimpose mCherry and births heatmaps\n",
    "mCherry_heatmap = plt.imshow(\n",
    "    signal_mCherry_aligned_scaled,\n",
    "    cmap = cm.RdBu_r,\n",
    "    interpolation='none',\n",
    ")\n",
    "births_heatmap = plt.imshow(\n",
    "    births_heatmap_mask,\n",
    "    interpolation='none',\n",
    ")\n",
    "\n",
    "# Labelling\n",
    "plt.xticks(xticks, xticklabels)\n",
    "plt.xlabel('Time (min)')\n",
    "plt.ylabel('Cell')\n",
    "plt.title(strain)\n",
    "plt.show()"
   ]
  },
  {
   "cell_type": "markdown",
   "id": "79662b71",
   "metadata": {},
   "source": [
    "## To metabolic cycle peaks"
   ]
  },
  {
   "cell_type": "markdown",
   "id": "fb281bda",
   "metadata": {},
   "source": [
    "### Locate metabolic cycle peaks"
   ]
  },
  {
   "cell_type": "markdown",
   "id": "6b6b923c",
   "metadata": {},
   "source": [
    "Sandbox: `scipy.signal.find_peaks` for one signal"
   ]
  },
  {
   "cell_type": "code",
   "execution_count": null,
   "id": "65e8cc17",
   "metadata": {},
   "outputs": [],
   "source": [
    "# Isn't this just basically brute-forcing/tuning parameters until it makes sense?\n",
    "# I'm basically training a neural net (i.e. my brain) on finding parameters\n",
    "# for these peaks, and then applying these parameters to other time series,\n",
    "# hoping it sticks.\n",
    "\n",
    "# Would it make sense to:\n",
    "# (1) use a classifier to determine where this is oscillating in the first place, then\n",
    "# (2a) use a smoothing method (e.g. Savitzky-Golay) then find_peaks, or\n",
    "# (2b) use a model-fitting method (e.g AR)\n",
    "# (b) use a model-fitting or smoothing method?  Savitzky-Golay before find_peaks would help.\n",
    "\n",
    "from scipy.signal import find_peaks\n",
    "\n",
    "test_time_series = signal_flavin_processed.iloc[4].to_numpy() # is a good one\n",
    "# Otherwise:\n",
    "test_time_series = signal_flavin_processed.iloc[1].to_numpy()\n",
    "\n",
    "# For now, these parameters work well for the obviously oscillating BY4741 time series.\n",
    "# They don't work as well for the non-oscillating ones, but maybe there's no point,\n",
    "# especially given that we're good at identifying which ones are oscillating.\n",
    "peak_indices = find_peaks(\n",
    "    test_time_series,\n",
    "    distance = 10,\n",
    "    prominence = 0.035,\n",
    ")[0]\n",
    "\n",
    "plt.plot(test_time_series)\n",
    "plt.scatter(\n",
    "    peak_indices,\n",
    "    np.take(test_time_series, peak_indices),\n",
    ")\n",
    "plt.xlabel('Time point')\n",
    "plt.ylabel('Normalised flavin fluorescence (AU)')\n",
    "plt.show()"
   ]
  },
  {
   "cell_type": "markdown",
   "id": "a724dcbe",
   "metadata": {},
   "source": [
    "`scipy.signal.find_peaks` for a whole dataframe, produce a binary matrix stored in a new dataframe\n",
    "\n",
    "(This can become a post-process later)"
   ]
  },
  {
   "cell_type": "code",
   "execution_count": null,
   "id": "2134c0e4",
   "metadata": {},
   "outputs": [],
   "source": [
    "from scipy.signal import find_peaks\n",
    "\n",
    "def find_peaks_mask(\n",
    "    timeseries,\n",
    "    distance,\n",
    "    prominence,\n",
    "):\n",
    "    peak_indices = find_peaks(timeseries, distance = distance, prominence = prominence)[0]\n",
    "    mask = np.zeros(len(timeseries), dtype = int)\n",
    "    mask[peak_indices] = 1\n",
    "    \n",
    "    return mask\n",
    "\n",
    "signal_flavin_peaks = signal_flavin_processed.apply(\n",
    "    lambda x: find_peaks_mask(x, distance = 10, prominence = 0.035),\n",
    "    axis = 1, result_type = 'expand'\n",
    ")\n",
    "signal_flavin_peaks.columns = signal_flavin_processed.columns"
   ]
  },
  {
   "cell_type": "markdown",
   "id": "bda5d25c",
   "metadata": {},
   "source": [
    "### Align"
   ]
  },
  {
   "cell_type": "code",
   "execution_count": null,
   "id": "6fc834ea",
   "metadata": {},
   "outputs": [],
   "source": [
    "signal_peaks_save = signal_flavin_peaks\n",
    "signal_flavin_save = signal_flavin_processed"
   ]
  },
  {
   "cell_type": "code",
   "execution_count": null,
   "id": "a3a436ac",
   "metadata": {},
   "outputs": [],
   "source": [
    "signal_peaks_aligned = signal_peaks_save\n",
    "signal_flavin_aligned = signal_flavin_save\n",
    "\n",
    "common_index = signal_flavin_aligned.index\n",
    "\n",
    "peaks_shifted_rows = []\n",
    "flavin_shifted_rows = []\n",
    "# Match flavin and peak signals by cellID (shared and not changed)\n",
    "for cellID in common_index:\n",
    "    # Identify first peak and define shift\n",
    "    peak_locs = np.where(signal_peaks_aligned.loc[cellID].to_numpy() == 1)[0]\n",
    "    if peak_locs.any():\n",
    "        shift = peak_locs[0]\n",
    "    else:\n",
    "        shift = 0\n",
    "    # Make first peak the first time point\n",
    "    # When shifted, the rest of the df is NaNs\n",
    "    peaks_shifted_rows.append(\n",
    "        signal_peaks_aligned.loc[[cellID]].shift(periods = -shift, axis = 'columns')\n",
    "    )\n",
    "    # Shift flavin signals accordingly\n",
    "    flavin_shifted_rows.append(\n",
    "        signal_flavin_aligned.loc[[cellID]].shift(periods = -shift, axis = 'columns')\n",
    "    )\n",
    "\n",
    "# Re-construct dataframes\n",
    "signal_peaks_aligned = pd.concat(peaks_shifted_rows, ignore_index = True)\n",
    "signal_peaks_aligned.set_index(common_index, inplace = True)\n",
    "\n",
    "signal_flavin_aligned = pd.concat(flavin_shifted_rows, ignore_index = True)\n",
    "signal_flavin_aligned.set_index(common_index, inplace = True)"
   ]
  },
  {
   "cell_type": "markdown",
   "id": "f800882a",
   "metadata": {},
   "source": [
    "Arrange cells by interval between first and second flavin cycle peak"
   ]
  },
  {
   "cell_type": "code",
   "execution_count": null,
   "id": "0ad66fc8",
   "metadata": {},
   "outputs": [],
   "source": [
    "# Find intervals between first and second peaks\n",
    "second_peaks_intervals = []\n",
    "for cellID in signal_peaks_aligned.index:\n",
    "    peak_locs = np.where(signal_peaks_aligned.loc[cellID].to_numpy() == 1)[0]\n",
    "    peak_locs = np.delete(peak_locs, 0) # the first element of this list is always zero\n",
    "    if peak_locs.any():\n",
    "        second_peaks_intervals.append(peak_locs[0]) # this is when the 2nd birth is in relation to the 1st\n",
    "    else:\n",
    "        second_peaks_intervals.append(None)\n",
    "# Absence of second peak represented by nan\n",
    "second_peaks_intervals = np.array(second_peaks_intervals, dtype=float)\n",
    "\n",
    "# Rearrange order of rows in dataframes according to time of second birth\n",
    "def rearrange_by_sorted_list(\n",
    "    df,\n",
    "    my_list,\n",
    "):\n",
    "    return df.reindex(df.index[np.argsort(my_list)].to_list())\n",
    "\n",
    "signal_peaks_aligned = rearrange_by_sorted_list(signal_peaks_aligned, second_peaks_intervals)\n",
    "signal_flavin_aligned = rearrange_by_sorted_list(signal_flavin_aligned, second_peaks_intervals)"
   ]
  },
  {
   "cell_type": "markdown",
   "id": "f8241539",
   "metadata": {},
   "source": [
    "**Visualise:** average flavin time series\n",
    "\n",
    "NB: the time series here are *not* scaled; they will be scaled in the heatmap."
   ]
  },
  {
   "cell_type": "code",
   "execution_count": null,
   "id": "fc999401",
   "metadata": {},
   "outputs": [],
   "source": [
    "plt.plot(signal_flavin_aligned.mean(axis = 0))"
   ]
  },
  {
   "cell_type": "markdown",
   "id": "bd1579a8",
   "metadata": {},
   "source": [
    "Scaled, and with error bars"
   ]
  },
  {
   "cell_type": "code",
   "execution_count": null,
   "id": "f42b1db4",
   "metadata": {},
   "outputs": [],
   "source": [
    "# Scale\n",
    "flavin_array = signal_flavin_aligned.to_numpy()\n",
    "scaler = StandardScaler().fit(flavin_array.transpose())\n",
    "signal_flavin_aligned_scaled = scaler.transform(flavin_array.transpose())\n",
    "signal_flavin_aligned_scaled = signal_flavin_aligned_scaled.transpose()\n",
    "\n",
    "# Axes\n",
    "sampling_period = 5\n",
    "time_axis = np.array(signal_flavin_aligned.columns) * sampling_period\n",
    "\n",
    "mean_ts = signal_flavin_aligned_scaled.mean(axis = 0)\n",
    "stderr = signal_flavin_aligned_scaled.std(axis = 0) / np.sqrt(len(signal_flavin_aligned_scaled))\n",
    "plt.plot(time_axis, mean_ts, label = 'Mean')\n",
    "plt.fill_between(time_axis, mean_ts - stderr, mean_ts + stderr, color='lightblue', label = 'Standard error')\n",
    "plt.xlabel('Time (min)')\n",
    "plt.ylabel('Normalised flavin fluorescence (AU)')\n",
    "plt.title('Mean flavin signal, after alignment; ' + str(strain))\n",
    "plt.legend(loc = 'upper right')"
   ]
  },
  {
   "cell_type": "markdown",
   "id": "5a68fe44",
   "metadata": {},
   "source": [
    "### Visualise in heatmaps"
   ]
  },
  {
   "cell_type": "markdown",
   "id": "b9a22d52",
   "metadata": {},
   "source": [
    "Flavin time series and peaks, **not aligned**"
   ]
  },
  {
   "cell_type": "code",
   "execution_count": null,
   "id": "e4cd0c76",
   "metadata": {},
   "outputs": [],
   "source": [
    "import seaborn as sns\n",
    "import matplotlib.pyplot as plt\n",
    "import matplotlib.cm as cm\n",
    "from sklearn.preprocessing import StandardScaler\n",
    "\n",
    "# Produce masked array for peaks\n",
    "peaks_array = signal_births_aligned.to_numpy()\n",
    "peaks_heatmap_mask = np.ma.masked_where(signal_flavin_peaks == 0, signal_flavin_peaks)\n",
    "\n",
    "# Scale flavin signals\n",
    "flavin_array = signal_flavin_processed.to_numpy()\n",
    "scaler = StandardScaler().fit(flavin_array.transpose())\n",
    "signal_flavin_processed_scaled = scaler.transform(flavin_array.transpose())\n",
    "signal_flavin_processed_scaled = signal_flavin_processed_scaled.transpose()\n",
    "\n",
    "# Define horizontal axis ticks and labels\n",
    "sampling_period = 5\n",
    "xtick_step = 60\n",
    "\n",
    "xtick_min = 0\n",
    "xtick_max = sampling_period * signal_flavin_processed_scaled.shape[1]\n",
    "xticklabels = np.arange(xtick_min, xtick_max, xtick_step)\n",
    "xticks = [\n",
    "    int(\n",
    "        np.where(\n",
    "            (sampling_period * np.arange(signal_flavin_processed_scaled.shape[1])) == label\n",
    "        )[0].item()\n",
    "    )\n",
    "    for label in xticklabels\n",
    "]\n",
    "\n",
    "# Superimpose flavin and births heatmaps\n",
    "flavin_heatmap = plt.imshow(\n",
    "    signal_flavin_processed_scaled,\n",
    "    cmap = cm.RdBu_r,\n",
    "    interpolation='none',\n",
    ")\n",
    "peaks_heatmap = plt.imshow(\n",
    "    peaks_heatmap_mask,\n",
    "    interpolation='none',\n",
    ")\n",
    "plt.colorbar(flavin_heatmap, label='normalised flavin fluorescence (AU)')\n",
    "\n",
    "# Labelling\n",
    "plt.xticks(xticks, xticklabels)\n",
    "plt.xlabel('Time (min)')\n",
    "plt.ylabel('Cell')\n",
    "plt.title(strain)\n",
    "plt.show()"
   ]
  },
  {
   "cell_type": "markdown",
   "id": "0bd8cc48",
   "metadata": {},
   "source": [
    "Flavin time series and peaks, **aligned**"
   ]
  },
  {
   "cell_type": "code",
   "execution_count": null,
   "id": "19b44852",
   "metadata": {},
   "outputs": [],
   "source": [
    "import seaborn as sns\n",
    "import matplotlib.pyplot as plt\n",
    "import matplotlib.cm as cm\n",
    "from sklearn.preprocessing import StandardScaler\n",
    "\n",
    "# Produce masked array for peaks\n",
    "peaks_array = signal_peaks_aligned.to_numpy()\n",
    "peaks_heatmap_mask = np.ma.masked_where(peaks_array == 0, peaks_array)\n",
    "\n",
    "# Scale flavin signals\n",
    "flavin_array = signal_flavin_aligned.to_numpy()\n",
    "scaler = StandardScaler().fit(flavin_array.transpose())\n",
    "signal_flavin_aligned_scaled = scaler.transform(flavin_array.transpose())\n",
    "signal_flavin_aligned_scaled = signal_flavin_aligned_scaled.transpose()\n",
    "\n",
    "# Define horizontal axis ticks and labels\n",
    "sampling_period = 5\n",
    "xtick_step = 60\n",
    "\n",
    "xtick_min = 0\n",
    "xtick_max = sampling_period * signal_flavin_aligned_scaled.shape[1]\n",
    "xticklabels = np.arange(xtick_min, xtick_max, xtick_step)\n",
    "xticks = [\n",
    "    int(\n",
    "        np.where(\n",
    "            (sampling_period * np.arange(signal_flavin_aligned_scaled.shape[1])) == label\n",
    "        )[0].item()\n",
    "    )\n",
    "    for label in xticklabels\n",
    "]\n",
    "\n",
    "# Superimpose flavin and births heatmaps\n",
    "flavin_heatmap = plt.imshow(\n",
    "    signal_flavin_aligned_scaled,\n",
    "    cmap = cm.RdBu_r,\n",
    "    interpolation='none',\n",
    ")\n",
    "peaks_heatmap = plt.imshow(\n",
    "    peaks_heatmap_mask,\n",
    "    interpolation='none',\n",
    ")\n",
    "plt.colorbar(flavin_heatmap, label='normalised flavin fluorescence (AU)')\n",
    "\n",
    "# Labelling\n",
    "plt.xticks(xticks, xticklabels)\n",
    "plt.xlabel('Time (min)')\n",
    "plt.ylabel('Cell')\n",
    "plt.title(strain)\n",
    "plt.show()"
   ]
  },
  {
   "cell_type": "markdown",
   "id": "27b562ff",
   "metadata": {},
   "source": [
    "# Plot histograms"
   ]
  },
  {
   "cell_type": "markdown",
   "id": "9d937679",
   "metadata": {},
   "source": [
    "## Births"
   ]
  },
  {
   "cell_type": "markdown",
   "id": "b2ecf37a",
   "metadata": {},
   "source": [
    "Duration between 1st and 2nd births"
   ]
  },
  {
   "cell_type": "code",
   "execution_count": null,
   "id": "c119be04",
   "metadata": {},
   "outputs": [],
   "source": [
    "sampling_period = 5\n",
    "binsize = 5\n",
    "\n",
    "plt.hist(\n",
    "    second_births_intervals * sampling_period,\n",
    "    np.arange(0, binsize * (np.nanmax(second_births_intervals * sampling_period)//binsize + 2), binsize)\n",
    ")\n",
    "plt.xlabel('Time (min)')\n",
    "plt.ylabel('Frequency')\n",
    "plt.title('Distribution of duration between 1st and 2nd births')\n",
    "plt.show()"
   ]
  },
  {
   "cell_type": "markdown",
   "id": "5da06dbe",
   "metadata": {},
   "source": [
    "All births"
   ]
  },
  {
   "cell_type": "code",
   "execution_count": null,
   "id": "509d9c9d",
   "metadata": {},
   "outputs": [],
   "source": [
    "df = signal_births_aligned.apply(\n",
    "    lambda x: np.diff(np.where(np.array(x)>0)),\n",
    "    axis = 1\n",
    ")\n",
    "births_intervals = np.hstack(df.to_list()).ravel()\n",
    "\n",
    "sampling_period = 5\n",
    "binsize = 5\n",
    "\n",
    "plt.hist(\n",
    "    births_intervals * sampling_period,\n",
    "    np.arange(0, binsize * (np.nanmax(births_intervals * sampling_period)//binsize + 2), binsize)\n",
    ")\n",
    "plt.xlabel('Time (min)')\n",
    "plt.ylabel('Frequency')\n",
    "plt.title('Distribution of birth intervals')\n",
    "plt.show()"
   ]
  },
  {
   "cell_type": "markdown",
   "id": "5c7bd865",
   "metadata": {},
   "source": [
    "## Flavin signal peaks"
   ]
  },
  {
   "cell_type": "markdown",
   "id": "78a30b29",
   "metadata": {},
   "source": [
    "Duration between 1st and 2nd peaks"
   ]
  },
  {
   "cell_type": "code",
   "execution_count": null,
   "id": "6c8cd737",
   "metadata": {},
   "outputs": [],
   "source": [
    "sampling_period = 5\n",
    "binsize = 5\n",
    "\n",
    "plt.hist(\n",
    "    second_peaks_intervals * sampling_period,\n",
    "    np.arange(0, binsize * (np.nanmax(second_peaks_intervals * sampling_period)//binsize + 2), binsize)\n",
    ")\n",
    "plt.xlabel('Time (min)')\n",
    "plt.ylabel('Frequency')\n",
    "plt.title('Distribution of first flavin cycle lengths')\n",
    "plt.show()"
   ]
  },
  {
   "cell_type": "markdown",
   "id": "ae0fd472",
   "metadata": {},
   "source": [
    "All peaks"
   ]
  },
  {
   "cell_type": "code",
   "execution_count": null,
   "id": "f58e07e7",
   "metadata": {},
   "outputs": [],
   "source": [
    "df = signal_flavin_peaks.apply(\n",
    "    lambda x: np.diff(np.where(np.array(x)>0)),\n",
    "    axis = 1\n",
    ")\n",
    "peaks_intervals = np.hstack(df.to_list()).ravel()\n",
    "\n",
    "sampling_period = 5\n",
    "binsize = 5\n",
    "\n",
    "plt.hist(\n",
    "    peaks_intervals * sampling_period,\n",
    "    np.arange(0, binsize * (np.nanmax(peaks_intervals * sampling_period)//binsize + 2), binsize)\n",
    ")\n",
    "plt.xlabel('Time (min)')\n",
    "plt.ylabel('Frequency')\n",
    "plt.title('Distribution of flavin cycle lengths')\n",
    "plt.show()"
   ]
  },
  {
   "cell_type": "markdown",
   "id": "79778292",
   "metadata": {},
   "source": [
    "## Overlay"
   ]
  },
  {
   "cell_type": "markdown",
   "id": "639dc0e3",
   "metadata": {},
   "source": [
    "with median"
   ]
  },
  {
   "cell_type": "code",
   "execution_count": null,
   "id": "4ee64a1c",
   "metadata": {},
   "outputs": [],
   "source": [
    "#births_intervals = np.log(births_intervals)\n",
    "#peaks_intervals = np.log(peaks_intervals)\n",
    "\n",
    "common_max_duration = np.nanmax(np.concatenate((births_intervals, peaks_intervals)))\n",
    "sampling_period = 5\n",
    "binsize = 5\n",
    "bins = np.arange(0, binsize * ((common_max_duration * sampling_period)//binsize + 2), binsize)\n",
    "\n",
    "plt.hist(\n",
    "    peaks_intervals * sampling_period,\n",
    "    bins,\n",
    "    alpha = 0.5,\n",
    "    label = 'Flavin cycle lengths'\n",
    ")\n",
    "plt.hist(\n",
    "    births_intervals * sampling_period,\n",
    "    bins,\n",
    "    alpha = 0.5,\n",
    "    label = 'Cell division cycle lengths'\n",
    ")\n",
    "plt.axvline(\n",
    "    np.median(peaks_intervals * sampling_period),\n",
    "    color='b',\n",
    "    alpha = 0.5,\n",
    "    label = 'Median flavin cell cycle length'\n",
    ")\n",
    "plt.axvline(\n",
    "    np.median(births_intervals * sampling_period),\n",
    "    color='orange',\n",
    "    alpha = 0.5,\n",
    "    label = 'Median cell division cycle length'\n",
    ")\n",
    "plt.legend(loc = 'upper right')\n",
    "plt.xlabel('Time (min)')\n",
    "plt.ylabel('Frequency')\n",
    "plt.title('Distribution of cycle lengths')\n",
    "plt.show()"
   ]
  },
  {
   "cell_type": "markdown",
   "id": "52a6a453",
   "metadata": {},
   "source": [
    "## Difference between flavin signal peaks and corresponding first births"
   ]
  },
  {
   "cell_type": "code",
   "execution_count": null,
   "id": "ad769bf8",
   "metadata": {},
   "outputs": [],
   "source": [
    "# Seems technically difficult...\n",
    "# especially when there's a risk of no 1:1 correspondence due to identification errors\n",
    "# Need pretty extensive error handing and curation to pull this off...\n",
    "\n",
    "# OR...\n",
    "# Align the flavin peak binary matrix by births\n",
    "# And then get the distribution of where the first peaks are\n",
    "# This is how Bieler et al. (2014) did it -- they didn't exactly super-curate things."
   ]
  },
  {
   "cell_type": "markdown",
   "id": "f8950f29",
   "metadata": {},
   "source": [
    "# Cross-correlation"
   ]
  },
  {
   "cell_type": "code",
   "execution_count": null,
   "id": "f0b1e2b1",
   "metadata": {},
   "outputs": [],
   "source": [
    "# https://docs.scipy.org/doc/scipy/reference/generated/scipy.signal.correlate.html\n",
    "\n",
    "from scipy import signal\n",
    "from sklearn.preprocessing import StandardScaler\n",
    "\n",
    "# Choose cell\n",
    "cellID = 476\n",
    "\n",
    "# Scale time series (NB: individually!  And I don't know whether it's a good idea)\n",
    "mCherry_transpose = signal_mCherry_processed.loc[cellID].to_numpy().reshape((-1,1))\n",
    "flavin_transpose = signal_flavin_processed.loc[cellID].to_numpy().reshape((-1,1))\n",
    "signal_mCherry_scaled = StandardScaler().fit_transform(mCherry_transpose)\n",
    "signal_flavin_scaled = StandardScaler().fit_transform(flavin_transpose)\n",
    "\n",
    "corr = signal.correlate(\n",
    "    signal_mCherry_scaled,\n",
    "    signal_flavin_scaled\n",
    ")\n",
    "lags = signal.correlation_lags(\n",
    "    len(signal_mCherry_scaled),\n",
    "    len(signal_flavin_scaled)\n",
    ")\n",
    "\n",
    "\n",
    "fig, axs = plt.subplots(3, 1)\n",
    "fig.subplots_adjust(hspace = 1)\n",
    "\n",
    "axs[0].plot(signal_mCherry_scaled)\n",
    "axs[0].set_title('mCherry, scaled')\n",
    "axs[0].set_xlabel('Time point')\n",
    "\n",
    "axs[1].plot(signal_flavin_scaled)\n",
    "axs[1].set_title('Flavin, scaled')\n",
    "axs[1].set_xlabel('Time point')\n",
    "\n",
    "axs[2].plot(lags, corr)\n",
    "axs[2].spines['left'].set_position('zero')\n",
    "axs[2].spines['bottom'].set_position('zero')\n",
    "axs[2].spines['top'].set_color('none')\n",
    "axs[2].spines['right'].set_color('none')\n",
    "axs[2].set_title('Cross-correlated signal')\n",
    "axs[2].set_xlabel('Lag')"
   ]
  },
  {
   "cell_type": "code",
   "execution_count": null,
   "id": "e4556343",
   "metadata": {},
   "outputs": [],
   "source": [
    "# for ref\n",
    "signal_flavin_processed.index.to_numpy()"
   ]
  }
 ],
 "metadata": {
  "kernelspec": {
   "display_name": "aliby",
   "language": "python",
   "name": "aliby"
  },
  "language_info": {
   "codemirror_mode": {
    "name": "ipython",
    "version": 3
   },
   "file_extension": ".py",
   "mimetype": "text/x-python",
   "name": "python",
   "nbconvert_exporter": "python",
   "pygments_lexer": "ipython3",
   "version": "3.7.9"
  }
 },
 "nbformat": 4,
 "nbformat_minor": 5
}
