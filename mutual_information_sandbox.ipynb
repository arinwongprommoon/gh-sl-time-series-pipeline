{
 "cells": [
  {
   "cell_type": "markdown",
   "id": "07ee31fa",
   "metadata": {},
   "source": [
    "Aims:\n",
    "- Label some BY4741 time series as oscillating vs non-oscillating.  50 for now, can increase when needed.\n",
    "- Use this to train an SVM on PCAs, then compute MI.\n",
    "- See if it can tell apart oscillating and non-oscillating time series."
   ]
  },
  {
   "cell_type": "markdown",
   "id": "5cdf8ecd",
   "metadata": {},
   "source": [
    "Specify file name and sampling period"
   ]
  },
  {
   "cell_type": "code",
   "execution_count": null,
   "id": "f783e1c8",
   "metadata": {},
   "outputs": [],
   "source": [
    "%matplotlib inline"
   ]
  },
  {
   "cell_type": "markdown",
   "id": "fb6463ad",
   "metadata": {},
   "source": [
    "# Import data"
   ]
  },
  {
   "cell_type": "code",
   "execution_count": null,
   "id": "3ff871db",
   "metadata": {},
   "outputs": [],
   "source": [
    "import numpy as np\n",
    "import pandas as pd\n",
    "import csv\n",
    "\n",
    "# PARAMETERS\n",
    "filename_prefix = './data/arin/Omero19979_'\n",
    "#filename_prefix = './data/arin/Omero20016_'\n",
    "#\n",
    "\n",
    "# Import flavin signals\n",
    "signal = pd.read_csv(filename_prefix+'flavin.csv')\n",
    "signal.replace(0, np.nan, inplace=True) # because the CSV is constructed like that :/\n",
    "\n",
    "# Import look-up table for strains (would prefer to directly CSV -> dict)\n",
    "strainlookup_df = pd.read_csv(filename_prefix+'strains.csv')\n",
    "strainlookup_dict = dict(zip(strainlookup_df.position, strainlookup_df.strain))\n",
    "\n",
    "# Positions -> Strain (more informative)\n",
    "signal = signal.replace({'position': strainlookup_dict})\n",
    "signal.rename(columns = {\"position\": \"strain\"}, inplace = True)\n",
    "signal = signal.drop(['distfromcentre'], axis = 1)\n",
    "\n",
    "# Convert to multi-index dataframe\n",
    "signal_temp = signal.iloc[:,2:]\n",
    "multiindex = pd.MultiIndex.from_frame(signal[['strain', 'cellID']])\n",
    "signal = pd.DataFrame(signal_temp.to_numpy(),\n",
    "                      index = multiindex)\n",
    "\n",
    "signal"
   ]
  },
  {
   "cell_type": "markdown",
   "id": "95cc9c41",
   "metadata": {},
   "source": [
    "# Choose a list of cells as working data"
   ]
  },
  {
   "cell_type": "markdown",
   "id": "6f88255d",
   "metadata": {},
   "source": [
    "List strains"
   ]
  },
  {
   "cell_type": "code",
   "execution_count": null,
   "id": "b3596588",
   "metadata": {},
   "outputs": [],
   "source": [
    "signal.index.get_level_values(0).unique().to_list()"
   ]
  },
  {
   "cell_type": "markdown",
   "id": "bdbe359a",
   "metadata": {},
   "source": [
    "Define `signal_wd` as working data"
   ]
  },
  {
   "cell_type": "code",
   "execution_count": null,
   "id": "e62282af",
   "metadata": {},
   "outputs": [],
   "source": [
    "signal_wd = signal.loc[['swe1_Del', 'tsa1_Del_tsa2_Del']]\n",
    "\n",
    "signal_wd"
   ]
  },
  {
   "cell_type": "markdown",
   "id": "94e39f36",
   "metadata": {},
   "source": [
    "# Processing time series"
   ]
  },
  {
   "cell_type": "markdown",
   "id": "89bc606c",
   "metadata": {},
   "source": [
    "## Range"
   ]
  },
  {
   "cell_type": "markdown",
   "id": "5c1d1ba9",
   "metadata": {},
   "source": [
    "Chop up time series according to `interval_start` and `interval_end`, then remove cells that have NaNs."
   ]
  },
  {
   "cell_type": "code",
   "execution_count": null,
   "id": "b7a86354",
   "metadata": {},
   "outputs": [],
   "source": [
    "# PARAMETERS\n",
    "interval_start = 25\n",
    "interval_end = 168\n",
    "#\n",
    "\n",
    "signal_processed = signal_wd.iloc[:, interval_start:interval_end].dropna()\n",
    "\n",
    "signal_processed"
   ]
  },
  {
   "cell_type": "markdown",
   "id": "ce07d613",
   "metadata": {},
   "source": [
    "## Detrend"
   ]
  },
  {
   "cell_type": "markdown",
   "id": "7df9b0d9",
   "metadata": {},
   "source": [
    "Using sliding window"
   ]
  },
  {
   "cell_type": "code",
   "execution_count": null,
   "id": "fd086703",
   "metadata": {},
   "outputs": [],
   "source": [
    "import matplotlib.pyplot as plt\n",
    "import seaborn as sns\n",
    "\n",
    "# PARAMETERS\n",
    "window = 45\n",
    "#\n",
    "\n",
    "fig, ax = plt.subplots()\n",
    "sns.heatmap(signal_processed)\n",
    "plt.title('Before detrending')\n",
    "plt.show()\n",
    "\n",
    "def moving_average(input_timeseries,\n",
    "                  window = 3):\n",
    "    processed_timeseries = np.cumsum(input_timeseries, dtype=float)\n",
    "    processed_timeseries[window:] = processed_timeseries[window:] - processed_timeseries[:-window]\n",
    "    return processed_timeseries[window - 1 :] /  window\n",
    "\n",
    "signal_processed = signal_processed.div(signal_processed.mean(axis = 1), axis = 0)\n",
    "signal_movavg = signal_processed.apply(lambda x: pd.Series(moving_average(x.values, window)), axis = 1)\n",
    "signal_norm = signal_processed.iloc(axis = 1)[window//2: -window//2] / signal_movavg.iloc[:,0:signal_movavg.shape[1]-1].values\n",
    "\n",
    "fig, ax = plt.subplots()\n",
    "sns.heatmap(signal_norm)\n",
    "plt.title('After detrending')\n",
    "plt.show()\n",
    "\n",
    "signal_processed = signal_norm\n",
    "\n",
    "signal_processed"
   ]
  },
  {
   "cell_type": "markdown",
   "id": "bdf3873f",
   "metadata": {},
   "source": [
    "# Featurisation"
   ]
  },
  {
   "cell_type": "markdown",
   "id": "91984c3f",
   "metadata": {},
   "source": [
    "Use `catch22`"
   ]
  },
  {
   "cell_type": "code",
   "execution_count": null,
   "id": "cdb17d13",
   "metadata": {},
   "outputs": [],
   "source": [
    "from postprocessor.core.processes.catch22 import catch22Parameters, catch22\n",
    "\n",
    "catch22_processor = catch22(catch22Parameters.default())\n",
    "features = catch22_processor.run(signal_processed)\n",
    "\n",
    "sns.heatmap(features)"
   ]
  },
  {
   "cell_type": "markdown",
   "id": "3dd2cd27",
   "metadata": {},
   "source": [
    "# Labels"
   ]
  },
  {
   "cell_type": "markdown",
   "id": "c3033a48",
   "metadata": {},
   "source": [
    "Import oscillatory/non-oscillatory labels"
   ]
  },
  {
   "cell_type": "code",
   "execution_count": null,
   "id": "f81ca867",
   "metadata": {},
   "outputs": [],
   "source": [
    "filename_targets = 'categories_19979_detrend.csv'\n",
    "targets_df = pd.read_csv(filename_targets, header = None, index_col = 0)\n",
    "targets_df.index.names = ['cellID']\n",
    "targets = targets_df.loc[features.index.get_level_values('cellID')].to_numpy().flatten()\n",
    "\n",
    "targets"
   ]
  },
  {
   "cell_type": "code",
   "execution_count": null,
   "id": "a856d938",
   "metadata": {},
   "outputs": [],
   "source": [
    "import pandas as pd\n",
    "\n",
    "osc_list = [cell.flavin.category for cell in Wlist]\n",
    "freq_table = pd.Series(osc_list).value_counts()\n",
    "print(freq_table)"
   ]
  },
  {
   "cell_type": "markdown",
   "id": "194c8366",
   "metadata": {},
   "source": [
    "Put oscillations into array input for MI"
   ]
  },
  {
   "cell_type": "code",
   "execution_count": null,
   "id": "637799ea",
   "metadata": {},
   "outputs": [],
   "source": [
    "categories = ['0', '1']\n",
    "\n",
    "mi_data = [\n",
    "    np.vstack(tuple(\n",
    "        [cell.flavin.reading_processed\n",
    "             for cell in Wlist\n",
    "             if cell.flavin.category == category]))\n",
    "    for category in categories\n",
    "]"
   ]
  },
  {
   "cell_type": "markdown",
   "id": "0c68f9f8",
   "metadata": {},
   "source": [
    "Or, by strain:"
   ]
  },
  {
   "cell_type": "code",
   "execution_count": null,
   "id": "fde52d3f",
   "metadata": {},
   "outputs": [],
   "source": [
    "strains = list(set([cell.strain for cell in Wlist]))\n",
    "#strains = ['FY4', 'CEN_PK_Mat_A']\n",
    "\n",
    "mi_data = [\n",
    "    np.vstack(tuple(\n",
    "        [cell.flavin.reading_processed\n",
    "             for cell in Wlist\n",
    "             if cell.strain == strain]))\n",
    "    for strain in strains\n",
    "]"
   ]
  },
  {
   "cell_type": "markdown",
   "id": "afc04549",
   "metadata": {},
   "source": [
    "Viewing and visualising the data array"
   ]
  },
  {
   "cell_type": "code",
   "execution_count": null,
   "id": "746ae698",
   "metadata": {},
   "outputs": [],
   "source": [
    "mi_data"
   ]
  },
  {
   "cell_type": "code",
   "execution_count": null,
   "id": "0a781c50",
   "metadata": {},
   "outputs": [],
   "source": [
    "import seaborn as sns\n",
    "\n",
    "mi_data_min = min([np.min(group_array) for group_array in mi_data])\n",
    "mi_data_max = max([np.max(group_array) for group_array in mi_data])\n",
    "for group_index, group_array in enumerate(mi_data):\n",
    "    fig, ax = plt.subplots()\n",
    "    sns.heatmap(group_array, vmin = mi_data_min, vmax = mi_data_max, center = 0, cmap = 'vlag')\n",
    "    plt.title(strains[group_index])\n",
    "    plt.show()\n",
    "    \n",
    "fig, ax = plt.subplots()\n",
    "for group_index, group_array in enumerate(mi_data):\n",
    "    plt.plot(np.mean(group_array, axis=0), label=strains[group_index])\n",
    "plt.legend()\n",
    "plt.show()"
   ]
  },
  {
   "cell_type": "markdown",
   "id": "7bcce718",
   "metadata": {},
   "source": [
    "Train classifier via bootstrapping and compute MI"
   ]
  },
  {
   "cell_type": "code",
   "execution_count": null,
   "id": "2e92f810",
   "metadata": {},
   "outputs": [],
   "source": [
    "from MIdecoding import estimateMI, plotMIovertime\n",
    "\n",
    "results = estimateMI(mi_data, verbose=True, overtime=False, n_bootstraps=100)"
   ]
  },
  {
   "cell_type": "code",
   "execution_count": null,
   "id": "f7dfd6c2",
   "metadata": {},
   "outputs": [],
   "source": [
    "results"
   ]
  },
  {
   "cell_type": "markdown",
   "id": "a2d049aa",
   "metadata": {},
   "source": [
    "Random assignment of traces to groups"
   ]
  },
  {
   "cell_type": "code",
   "execution_count": null,
   "id": "5584e0b4",
   "metadata": {},
   "outputs": [],
   "source": [
    "#strains = \n",
    "#strains = list(set([cell.strain for cell in Wlist]))\n",
    "#strains = ['swe1_Del', 'tsa1_Del_tsa2_Del']\n",
    "\n",
    "stack_all = np.vstack(tuple(mi_data))\n",
    "random_categories = np.random.randint(len(strains), size = stack_all.shape[0])\n",
    "\n",
    "mi_random = [\n",
    "    np.vstack(tuple(\n",
    "        [time_series\n",
    "             for index, time_series in enumerate(stack_all)\n",
    "             if random_categories[index] == category]))\n",
    "    for category in range(len(strains))\n",
    "]\n",
    "\n",
    "mi_random_min = min([np.min(group_array) for group_array in mi_random])\n",
    "mi_random_max = max([np.max(group_array) for group_array in mi_random])\n",
    "for group_index, group_array in enumerate(mi_random):\n",
    "    fig, ax = plt.subplots()\n",
    "    sns.heatmap(group_array, vmin = mi_random_min, vmax = mi_random_max, center = 0, cmap = 'vlag')\n",
    "    plt.title(group_index)\n",
    "    plt.show()\n",
    "    \n",
    "fig, ax = plt.subplots()\n",
    "for group_index, group_array in enumerate(mi_random):\n",
    "    plt.plot(np.mean(group_array, axis=0), label=group_index)\n",
    "plt.legend()\n",
    "plt.show()\n",
    "\n",
    "results = estimateMI(mi_random, verbose=True, overtime=False, n_bootstraps=1000)"
   ]
  }
 ],
 "metadata": {
  "kernelspec": {
   "display_name": "aliby",
   "language": "python",
   "name": "aliby"
  },
  "language_info": {
   "codemirror_mode": {
    "name": "ipython",
    "version": 3
   },
   "file_extension": ".py",
   "mimetype": "text/x-python",
   "name": "python",
   "nbconvert_exporter": "python",
   "pygments_lexer": "ipython3",
   "version": "3.7.9"
  }
 },
 "nbformat": 4,
 "nbformat_minor": 5
}
