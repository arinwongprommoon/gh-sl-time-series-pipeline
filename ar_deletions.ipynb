{
 "cells": [
  {
   "cell_type": "markdown",
   "id": "75330d2c",
   "metadata": {},
   "source": [
    "Aims:\n",
    "- Do AR to fit model to time series and get features.  Trying frequency of oscillations for now, potential to expand to quality (height of peak of periodogram).\n",
    "- Do it with Causton strains.  With potential to switch to the experiment with the new CEN.PK if I have time.\n",
    "- Produce some plots for BYG201 (panel 6)"
   ]
  },
  {
   "cell_type": "markdown",
   "id": "216ea35c",
   "metadata": {},
   "source": [
    "Specify file name and sampling period"
   ]
  },
  {
   "cell_type": "code",
   "execution_count": 60,
   "id": "adab97ee",
   "metadata": {},
   "outputs": [
    {
     "name": "stdout",
     "output_type": "stream",
     "text": [
      "Using matplotlib backend: TkAgg\n"
     ]
    }
   ],
   "source": [
    "filename_prefix = './data/arin/Omero19979_'\n",
    "sampling_period = 5\n",
    "remain = 0.8\n",
    "\n",
    "%matplotlib"
   ]
  },
  {
   "cell_type": "markdown",
   "id": "9a68cc8a",
   "metadata": {},
   "source": [
    "Main shebang"
   ]
  },
  {
   "cell_type": "code",
   "execution_count": 61,
   "id": "4deb26db",
   "metadata": {},
   "outputs": [
    {
     "name": "stdout",
     "output_type": "stream",
     "text": [
      "[Errno 2] No such file or directory: './data/arin/Omero19979_mCherry.csv'\n",
      "No mCherry time series associated with this experiment: ./data/arin/Omero19979_\n"
     ]
    }
   ],
   "source": [
    "#!/usr/bin/env python3\n",
    "import os\n",
    "\n",
    "import numpy as np\n",
    "import scipy as sp\n",
    "import pandas as pd\n",
    "import itertools\n",
    "import matplotlib.pyplot as plt\n",
    "import sklearn.metrics\n",
    "import igraph as ig\n",
    "\n",
    "import pipeline.dataexport\n",
    "import pipeline.dataimport\n",
    "import pipeline.periodogram\n",
    "import pipeline.score\n",
    "import pipeline.tsman\n",
    "import pipeline.vis\n",
    "\n",
    "import featext.tsman\n",
    "import featext.graph\n",
    "#import featext.vis\n",
    "\n",
    "#import catch22\n",
    "#import leidenalg\n",
    "\n",
    "def add_classicalAttr(cell, oversampling_factor = 1):\n",
    "    \"\"\"Computes classical periodogram and adds PdgramAttr attributes\"\"\"\n",
    "    cell.flavin.classical.freqs, cell.flavin.classical.power = \\\n",
    "            pipeline.periodogram.classical(cell.time, cell.flavin.reading_processed,\n",
    "                                oversampling_factor = oversampling_factor)\n",
    "\n",
    "def add_bglsAttr(cell):\n",
    "    \"\"\"Computes BGLS and adds PdgramAttr attributes\"\"\"\n",
    "    cell.flavin.bgls = pipeline.PdgramAttr()\n",
    "    cell.flavin.bgls.label = 'Bayesian General Lomb-Scargle Periodogram'\n",
    "    cell.flavin.bgls.power_label = 'Probability'\n",
    "    err = np.ones(len(cell.flavin.reading_processed))*\\\n",
    "            np.sqrt(np.max(cell.flavin.reading_processed))\n",
    "    cell.flavin.bgls.freqs, cell.flavin.bgls.power = \\\n",
    "            pipeline.periodogram.bgls(cell.time, cell.flavin.reading_processed, err,\n",
    "                    plow = 30.0, phigh = 360.0, ofac = 5)\n",
    "\n",
    "def add_autoregAttr(cell):\n",
    "    \"\"\"\n",
    "    Computes autoregressive model-based periodogram and adds PdgramAttr\n",
    "    attributes\n",
    "    \"\"\"\n",
    "    cell.flavin.autoreg = pipeline.PdgramAttr()\n",
    "    cell.flavin.autoreg.label = \\\n",
    "            'Autogressive Model-Based Periodogram (Jia & Grima, 2020)'\n",
    "    cell.flavin.autoreg.power_label = 'Power'\n",
    "    freq_npoints = 1000\n",
    "    cell.flavin.autoreg.freqs, cell.flavin.autoreg.power = \\\n",
    "            pipeline.periodogram.autoreg(cell.time,\n",
    "                                         cell.flavin.reading_processed,\n",
    "                                         freq_npoints)\n",
    "\n",
    "# FLAVIN: import data and process objects\n",
    "\n",
    "# Import fluorescence info from CSVs\n",
    "Dset_flavin = pipeline.dataimport.import_timeseries(\n",
    "    filename_prefix+'flavin.csv', remain = remain)\n",
    "# dummy so I get code to not complain; will be re-factored later\n",
    "Dset_dcategory = [3] * len(Dset_flavin)\n",
    "Dset_births = pipeline.dataimport.import_births(\n",
    "    filename_prefix+'births.csv')\n",
    "\n",
    "# Arranges information into DatasetAttr objects\n",
    "Dset_data = pipeline.dataimport.CellAttr_from_datasets( \\\n",
    "        timeseries_df = Dset_flavin,\n",
    "        categories_array = Dset_dcategory,\n",
    "        births_df = Dset_births,\n",
    "        sampling_pd = sampling_period)\n",
    "Dset = pipeline.DatasetAttr(Dset_data)\n",
    "\n",
    "# Add labels\n",
    "strainlookup = pd.read_csv(filename_prefix+'strains.csv', \\\n",
    "                          index_col = 'position')\n",
    "for ii, cell in enumerate(Dset.cells):\n",
    "    cell.source = filename_prefix\n",
    "    cell.medium.base = 'Delft'\n",
    "    cell.medium.nutrients = {'glucose': 10}\n",
    "\n",
    "    cell.strain = strainlookup.loc[cell.position].strain\n",
    "\n",
    "    cell.flavin = pipeline.Fluo('flavin')\n",
    "    cell.flavin.exposure = 60\n",
    "    cell.flavin.reading = cell.y\n",
    "    cell.flavin.category = Dset_dcategory[ii]\n",
    "\n",
    "\n",
    "# mCherry: import data and process objects\n",
    "try:\n",
    "    Dset_mCherry_unsliced = pipeline.dataimport.import_timeseries(\n",
    "        filename_prefix+'mCherry.csv', remain = remain)\n",
    "    # restrict to cells with flavin readings\n",
    "    idx_both = list(set(Dset_flavin.cellID) & set(Dset_mCherry_unsliced.cellID))\n",
    "    Dset_mCherry = \\\n",
    "            Dset_mCherry_unsliced.loc[Dset_mCherry_unsliced.cellID.isin(idx_both)]\n",
    "\n",
    "    # Arranges information into DatasetAttr objects\n",
    "    # dummy -- will be better when I re-structure things... am just re-using a \n",
    "    # function for quick-and-dirty purposes, and it's obviously redundant\n",
    "    mCherry_data = pipeline.dataimport.CellAttr_from_datasets( \\\n",
    "            timeseries_df = Dset_mCherry,\n",
    "            categories_array = Dset_dcategory,\n",
    "            births_df = Dset_births,\n",
    "            sampling_pd = sampling_period)\n",
    "    mCherry = pipeline.DatasetAttr(mCherry_data)\n",
    "    mCherry_MATLABids = [cell.MATLABid for cell in mCherry.cells]\n",
    "\n",
    "    # Add labels\n",
    "    for ii, cell in enumerate(Dset.cells):\n",
    "        cell.mCherry = pipeline.Fluo('mCherry')\n",
    "        if cell.strain == 'htb2_mCherry_CRISPR':\n",
    "            cell.mCherry.exposure = 100\n",
    "        else:\n",
    "            cell.mCherry.exposure = 0\n",
    "\n",
    "        # loads in reading, cross-referencing by MATLABid.  This is awful, I know.\n",
    "        if cell.MATLABid in mCherry_MATLABids:\n",
    "            cell.mCherry.reading = \\\n",
    "                mCherry.cells[mCherry_MATLABids.index(cell.MATLABid)].y\n",
    "except FileNotFoundError as error:\n",
    "    print(error)\n",
    "    print(f'No mCherry time series associated with this experiment: {filename_prefix}')"
   ]
  },
  {
   "cell_type": "markdown",
   "id": "6a69ca0d",
   "metadata": {},
   "source": [
    "Define working dataset (list of cells)"
   ]
  },
  {
   "cell_type": "code",
   "execution_count": 80,
   "id": "dd83262e",
   "metadata": {},
   "outputs": [
    {
     "data": {
      "text/plain": [
       "589"
      ]
     },
     "execution_count": 80,
     "metadata": {},
     "output_type": "execute_result"
    }
   ],
   "source": [
    "Wlist = Dset.cells\n",
    "#Wlist = [cell for cell in Dset.cells if cell.strain == 'swe1_Del']\n",
    "len(Wlist)"
   ]
  },
  {
   "cell_type": "markdown",
   "id": "43cd07a0",
   "metadata": {},
   "source": [
    "Chop up time series (exclude the end in which there is starvation)"
   ]
  },
  {
   "cell_type": "code",
   "execution_count": 81,
   "id": "33be433d",
   "metadata": {},
   "outputs": [],
   "source": [
    "interval_start = 0\n",
    "interval_end = 168\n",
    "\n",
    "for cell in Wlist:\n",
    "    cell.time = cell.time[interval_start:interval_end]\n",
    "    cell.flavin.reading = cell.flavin.reading[interval_start:interval_end]"
   ]
  },
  {
   "cell_type": "markdown",
   "id": "eb0608bc",
   "metadata": {},
   "source": [
    "Remove cells than have NaNs.  AR doesn't like it."
   ]
  },
  {
   "cell_type": "code",
   "execution_count": 82,
   "id": "d44f19be",
   "metadata": {},
   "outputs": [
    {
     "data": {
      "text/plain": [
       "299"
      ]
     },
     "execution_count": 82,
     "metadata": {},
     "output_type": "execute_result"
    }
   ],
   "source": [
    "Wlist = [cell for cell in Wlist if not np.isnan(cell.flavin.reading).any()]\n",
    "len(Wlist)"
   ]
  },
  {
   "cell_type": "markdown",
   "id": "f5836f76",
   "metadata": {},
   "source": [
    "Add spectra"
   ]
  },
  {
   "cell_type": "code",
   "execution_count": 83,
   "id": "f38b77a8",
   "metadata": {},
   "outputs": [],
   "source": [
    "for cell in Wlist:\n",
    "    cell.flavin.reading_processed = cell.flavin.reading\n",
    "    #add_classicalAttr(cell, oversampling_factor = 1)\n",
    "    add_autoregAttr(cell)\n",
    "    #print(cell.cellid)"
   ]
  },
  {
   "cell_type": "code",
   "execution_count": 84,
   "id": "9dc85346",
   "metadata": {},
   "outputs": [
    {
     "data": {
      "text/plain": [
       "array([1.        , 1.00000225, 1.000009  , 1.00002027, 1.00003606,\n",
       "       1.00005641, 1.00008135, 1.00011091, 1.00014514, 1.0001841 ,\n",
       "       1.00022784, 1.00027644, 1.00032996, 1.00038848, 1.0004521 ,\n",
       "       1.0005209 , 1.00059499, 1.00067447, 1.00075947, 1.00085009,\n",
       "       1.00094647, 1.00104875, 1.00115705, 1.00127154, 1.00139236,\n",
       "       1.00151967, 1.00165364, 1.00179444, 1.00194225, 1.00209725,\n",
       "       1.00225963, 1.00242959, 1.00260733, 1.00279306, 1.00298699,\n",
       "       1.00318933, 1.00340032, 1.00362017, 1.00384913, 1.00408744,\n",
       "       1.00433534, 1.00459307, 1.0048609 , 1.00513908, 1.00542788,\n",
       "       1.00572756, 1.00603841, 1.00636069, 1.00669468, 1.00704068,\n",
       "       1.00739898, 1.00776986, 1.00815363, 1.00855059, 1.00896105,\n",
       "       1.0093853 , 1.00982367, 1.01027647, 1.01074402, 1.01122664,\n",
       "       1.01172466, 1.01223841, 1.01276821, 1.0133144 , 1.01387732,\n",
       "       1.0144573 , 1.01505469, 1.01566982, 1.01630305, 1.01695472,\n",
       "       1.01762518, 1.01831478, 1.01902388, 1.01975282, 1.02050196,\n",
       "       1.02127166, 1.02206228, 1.02287418, 1.0237077 , 1.02456322,\n",
       "       1.0254411 , 1.02634169, 1.02726536, 1.02821246, 1.02918337,\n",
       "       1.03017844, 1.03119802, 1.03224249, 1.0333122 , 1.03440751,\n",
       "       1.03552877, 1.03667635, 1.0378506 , 1.03905187, 1.04028051,\n",
       "       1.04153688, 1.04282131, 1.04413416, 1.04547577, 1.04684648,\n",
       "       1.04824661, 1.04967652, 1.05113652, 1.05262694, 1.0541481 ,\n",
       "       1.05570033, 1.05728392, 1.05889919, 1.06054644, 1.06222597,\n",
       "       1.06393806, 1.065683  , 1.06746106, 1.06927252, 1.07111763,\n",
       "       1.07299666, 1.07490983, 1.0768574 , 1.07883959, 1.08085662,\n",
       "       1.08290868, 1.08499599, 1.08711872, 1.08927705, 1.09147113,\n",
       "       1.09370111, 1.09596714, 1.09826931, 1.10060775, 1.10298254,\n",
       "       1.10539374, 1.10784141, 1.11032559, 1.1128463 , 1.11540353,\n",
       "       1.11799726, 1.12062744, 1.12329401, 1.12599687, 1.12873591,\n",
       "       1.131511  , 1.13432196, 1.13716859, 1.14005069, 1.14296798,\n",
       "       1.1459202 , 1.14890701, 1.15192808, 1.15498302, 1.15807141,\n",
       "       1.16119278, 1.16434665, 1.16753247, 1.17074967, 1.17399762,\n",
       "       1.17727566, 1.18058307, 1.1839191 , 1.18728292, 1.19067369,\n",
       "       1.19409047, 1.19753231, 1.20099818, 1.20448699, 1.2079976 ,\n",
       "       1.2115288 , 1.21507933, 1.21864786, 1.22223297, 1.2258332 ,\n",
       "       1.22944702, 1.23307281, 1.23670888, 1.24035347, 1.24400474,\n",
       "       1.24766078, 1.25131959, 1.25497907, 1.25863708, 1.26229136,\n",
       "       1.26593958, 1.2695793 , 1.27320802, 1.27682313, 1.28042193,\n",
       "       1.28400165, 1.28755941, 1.29109222, 1.29459703, 1.29807068,\n",
       "       1.30150992, 1.30491139, 1.30827166, 1.31158721, 1.31485439,\n",
       "       1.31806952, 1.32122877, 1.32432827, 1.32736404, 1.33033202,\n",
       "       1.33322808, 1.33604801, 1.33878751, 1.34144224, 1.34400776,\n",
       "       1.34647961, 1.34885323, 1.35112404, 1.35328741, 1.35533866,\n",
       "       1.35727309, 1.35908596, 1.36077253, 1.36232803, 1.36374771,\n",
       "       1.36502682, 1.36616062, 1.36714439, 1.36797345, 1.36864318,\n",
       "       1.36914901, 1.36948641, 1.36965095, 1.3696383 , 1.36944421,\n",
       "       1.36906454, 1.36849528, 1.36773256, 1.36677264, 1.36561197,\n",
       "       1.36424713, 1.3626749 , 1.36089227, 1.3588964 , 1.35668468,\n",
       "       1.35425474, 1.35160441, 1.34873181, 1.34563528, 1.34231343,\n",
       "       1.33876515, 1.33498959, 1.3309862 , 1.32675471, 1.32229516,\n",
       "       1.31760787, 1.31269346, 1.30755289, 1.30218737, 1.29659847,\n",
       "       1.29078802, 1.28475819, 1.27851142, 1.27205047, 1.26537838,\n",
       "       1.25849848, 1.25141439, 1.24412999, 1.23664943, 1.2289771 ,\n",
       "       1.22111768, 1.21307602, 1.20485726, 1.19646669, 1.18790985,\n",
       "       1.17919243, 1.17032031, 1.16129952, 1.15213623, 1.14283674,\n",
       "       1.13340747, 1.12385494, 1.11418572, 1.1044065 , 1.09452399,\n",
       "       1.08454493, 1.07447611, 1.06432432, 1.05409633, 1.0437989 ,\n",
       "       1.03343877, 1.02302263, 1.01255709, 1.00204871, 0.99150397,\n",
       "       0.98092926, 0.97033086, 0.95971494, 0.94908755, 0.93845463,\n",
       "       0.92782195, 0.91719516, 0.90657977, 0.89598112, 0.8854044 ,\n",
       "       0.87485462, 0.86433665, 0.85385517, 0.8434147 , 0.83301958,\n",
       "       0.82267397, 0.81238186, 0.80214707, 0.79197323, 0.78186381,\n",
       "       0.7718221 , 0.7618512 , 0.75195407, 0.74213348, 0.73239203,\n",
       "       0.72273218, 0.7131562 , 0.70366623, 0.69426423, 0.68495203,\n",
       "       0.6757313 , 0.66660358, 0.65757025, 0.6486326 , 0.63979173,\n",
       "       0.63104865, 0.62240426, 0.6138593 , 0.60541444, 0.59707022,\n",
       "       0.58882708, 0.58068535, 0.57264529, 0.56470704, 0.55687067,\n",
       "       0.54913617, 0.54150343, 0.53397229, 0.5265425 , 0.51921375,\n",
       "       0.51198568, 0.50485784, 0.49782975, 0.49090086, 0.48407059,\n",
       "       0.47733828, 0.47070327, 0.46416482, 0.45772217, 0.45137454,\n",
       "       0.44512108, 0.43896094, 0.43289324, 0.42691707, 0.42103148,\n",
       "       0.41523554, 0.40952827, 0.40390867, 0.39837576, 0.3929285 ,\n",
       "       0.38756588, 0.38228686, 0.37709039, 0.37197543, 0.36694091,\n",
       "       0.36198579, 0.35710898, 0.35230945, 0.34758611, 0.3429379 ,\n",
       "       0.33836377, 0.33386266, 0.3294335 , 0.32507525, 0.32078686,\n",
       "       0.31656728, 0.31241549, 0.30833046, 0.30431115, 0.30035657,\n",
       "       0.2964657 , 0.29263755, 0.28887113, 0.28516547, 0.28151959,\n",
       "       0.27793254, 0.27440337, 0.27093115, 0.26751494, 0.26415384,\n",
       "       0.26084693, 0.25759333, 0.25439216, 0.25124254, 0.24814362,\n",
       "       0.24509455, 0.24209449, 0.23914263, 0.23623815, 0.23338025,\n",
       "       0.23056815, 0.22780106, 0.22507822, 0.22239889, 0.21976232,\n",
       "       0.21716777, 0.21461454, 0.21210191, 0.20962919, 0.2071957 ,\n",
       "       0.20480076, 0.20244371, 0.2001239 , 0.19784069, 0.19559344,\n",
       "       0.19338155, 0.1912044 , 0.1890614 , 0.18695195, 0.18487548,\n",
       "       0.18283142, 0.18081921, 0.17883831, 0.17688817, 0.17496828,\n",
       "       0.1730781 , 0.17121712, 0.16938486, 0.1675808 , 0.16580448,\n",
       "       0.16405541, 0.16233313, 0.16063718, 0.15896711, 0.15732248,\n",
       "       0.15570285, 0.15410781, 0.15253692, 0.15098979, 0.149466  ,\n",
       "       0.14796516, 0.14648689, 0.1450308 , 0.14359651, 0.14218367,\n",
       "       0.14079191, 0.13942087, 0.13807021, 0.13673959, 0.13542867,\n",
       "       0.13413712, 0.13286462, 0.13161086, 0.13037552, 0.12915829,\n",
       "       0.12795889, 0.126777  , 0.12561236, 0.12446466, 0.12333364,\n",
       "       0.12221902, 0.12112054, 0.12003792, 0.11897092, 0.11791927,\n",
       "       0.11688274, 0.11586107, 0.11485402, 0.11386137, 0.11288288,\n",
       "       0.11191831, 0.11096746, 0.11003011, 0.10910603, 0.10819501,\n",
       "       0.10729686, 0.10641136, 0.10553832, 0.10467755, 0.10382885,\n",
       "       0.10299202, 0.1021669 , 0.10135329, 0.10055101, 0.0997599 ,\n",
       "       0.09897978, 0.09821048, 0.09745183, 0.09670368, 0.09596586,\n",
       "       0.09523821, 0.09452059, 0.09381283, 0.0931148 , 0.09242634,\n",
       "       0.09174731, 0.09107757, 0.09041699, 0.08976542, 0.08912274,\n",
       "       0.08848881, 0.0878635 , 0.08724669, 0.08663826, 0.08603807,\n",
       "       0.08544602, 0.08486198, 0.08428584, 0.08371748, 0.0831568 ,\n",
       "       0.08260368, 0.08205802, 0.08151971, 0.08098864, 0.08046472,\n",
       "       0.07994785, 0.07943792, 0.07893484, 0.07843851, 0.07794885,\n",
       "       0.07746575, 0.07698914, 0.07651891, 0.07605499, 0.07559729,\n",
       "       0.07514572, 0.0747002 , 0.07426066, 0.073827  , 0.07339915,\n",
       "       0.07297704, 0.07256059, 0.07214973, 0.07174438, 0.07134447,\n",
       "       0.07094992, 0.07056068, 0.07017667, 0.06979783, 0.06942408,\n",
       "       0.06905537, 0.06869164, 0.06833281, 0.06797882, 0.06762963,\n",
       "       0.06728516, 0.06694536, 0.06661018, 0.06627954, 0.06595341,\n",
       "       0.06563173, 0.06531443, 0.06500148, 0.06469282, 0.06438839,\n",
       "       0.06408815, 0.06379204, 0.06350003, 0.06321206, 0.06292809,\n",
       "       0.06264806, 0.06237195, 0.06209969, 0.06183125, 0.06156658,\n",
       "       0.06130565, 0.0610484 , 0.06079481, 0.06054483, 0.06029842,\n",
       "       0.06005555, 0.05981616, 0.05958024, 0.05934774, 0.05911862,\n",
       "       0.05889286, 0.0586704 , 0.05845123, 0.05823531, 0.0580226 ,\n",
       "       0.05781308, 0.0576067 , 0.05740345, 0.05720328, 0.05700617,\n",
       "       0.05681209, 0.05662101, 0.0564329 , 0.05624773, 0.05606548,\n",
       "       0.05588611, 0.05570961, 0.05553594, 0.05536508, 0.05519701,\n",
       "       0.05503169, 0.05486911, 0.05470924, 0.05455206, 0.05439754,\n",
       "       0.05424567, 0.05409641, 0.05394975, 0.05380567, 0.05366414,\n",
       "       0.05352515, 0.05338867, 0.05325468, 0.05312317, 0.05299412,\n",
       "       0.0528675 , 0.0527433 , 0.0526215 , 0.05250208, 0.05238503,\n",
       "       0.05227033, 0.05215795, 0.05204789, 0.05194013, 0.05183466,\n",
       "       0.05173145, 0.05163049, 0.05153177, 0.05143527, 0.05134098,\n",
       "       0.05124888, 0.05115897, 0.05107122, 0.05098562, 0.05090217,\n",
       "       0.05082084, 0.05074163, 0.05066452, 0.05058951, 0.05051658,\n",
       "       0.05044571, 0.0503769 , 0.05031014, 0.05024542, 0.05018272,\n",
       "       0.05012203, 0.05006336, 0.05000667, 0.04995198, 0.04989926,\n",
       "       0.04984851, 0.04979972, 0.04975287, 0.04970797, 0.04966501,\n",
       "       0.04962397, 0.04958484, 0.04954763, 0.04951232, 0.0494789 ,\n",
       "       0.04944737, 0.04941772, 0.04938994, 0.04936403, 0.04933998,\n",
       "       0.04931779, 0.04929744, 0.04927894, 0.04926227, 0.04924743,\n",
       "       0.04923441, 0.04922322, 0.04921383, 0.04920626, 0.04920048,\n",
       "       0.04919651, 0.04919433, 0.04919393, 0.04919532, 0.04919849,\n",
       "       0.04920344, 0.04921015, 0.04921863, 0.04922887, 0.04924087,\n",
       "       0.04925462, 0.04927012, 0.04928737, 0.04930635, 0.04932708,\n",
       "       0.04934954, 0.04937373, 0.04939965, 0.04942729, 0.04945665,\n",
       "       0.04948772, 0.04952051, 0.04955501, 0.04959121, 0.04962912,\n",
       "       0.04966873, 0.04971003, 0.04975302, 0.0497977 , 0.04984406,\n",
       "       0.04989211, 0.04994183, 0.04999323, 0.0500463 , 0.05010104,\n",
       "       0.05015744, 0.05021549, 0.05027521, 0.05033657, 0.05039958,\n",
       "       0.05046424, 0.05053053, 0.05059846, 0.05066801, 0.0507392 ,\n",
       "       0.050812  , 0.05088642, 0.05096244, 0.05104007, 0.05111931,\n",
       "       0.05120013, 0.05128254, 0.05136654, 0.05145211, 0.05153925,\n",
       "       0.05162795, 0.0517182 , 0.05181   , 0.05190335, 0.05199822,\n",
       "       0.05209462, 0.05219254, 0.05229196, 0.05239288, 0.05249529,\n",
       "       0.05259917, 0.05270453, 0.05281134, 0.0529196 , 0.0530293 ,\n",
       "       0.05314041, 0.05325294, 0.05336687, 0.05348218, 0.05359887,\n",
       "       0.05371691, 0.05383629, 0.05395701, 0.05407903, 0.05420235,\n",
       "       0.05432694, 0.0544528 , 0.0545799 , 0.05470823, 0.05483775,\n",
       "       0.05496847, 0.05510034, 0.05523336, 0.0553675 , 0.05550273,\n",
       "       0.05563904, 0.05577639, 0.05591477, 0.05605415, 0.05619449,\n",
       "       0.05633578, 0.05647799, 0.05662108, 0.05676502, 0.05690979,\n",
       "       0.05705534, 0.05720166, 0.0573487 , 0.05749643, 0.05764481,\n",
       "       0.05779381, 0.05794339, 0.05809351, 0.05824413, 0.05839521,\n",
       "       0.0585467 , 0.05869857, 0.05885076, 0.05900324, 0.05915596,\n",
       "       0.05930886, 0.05946191, 0.05961505, 0.05976823, 0.0599214 ,\n",
       "       0.0600745 , 0.06022748, 0.06038029, 0.06053287, 0.06068516,\n",
       "       0.0608371 , 0.06098863, 0.06113969, 0.06129022, 0.06144015,\n",
       "       0.06158943, 0.06173798, 0.06188573, 0.06203263, 0.0621786 ,\n",
       "       0.06232356, 0.06246746, 0.06261022, 0.06275176, 0.06289201,\n",
       "       0.0630309 , 0.06316835, 0.06330428, 0.06343862, 0.06357129,\n",
       "       0.06370221, 0.0638313 , 0.06395848, 0.06408367, 0.06420679,\n",
       "       0.06432775, 0.06444648, 0.06456289, 0.0646769 , 0.06478843,\n",
       "       0.06489739, 0.0650037 , 0.06510727, 0.06520802, 0.06530588,\n",
       "       0.06540074, 0.06549254, 0.06558119, 0.06566661, 0.06574871,\n",
       "       0.06582741, 0.06590264, 0.06597431, 0.06604234, 0.06610666,\n",
       "       0.06616718, 0.06622384, 0.06627656, 0.06632526, 0.06636987,\n",
       "       0.06641032, 0.06644654, 0.06647846, 0.06650602, 0.06652916,\n",
       "       0.0665478 , 0.0665619 , 0.06657139, 0.06657621, 0.06657632,\n",
       "       0.06657166, 0.06656218, 0.06654784, 0.0665286 , 0.0665044 ,\n",
       "       0.06647522, 0.06644102, 0.06640176, 0.06635742, 0.06630796,\n",
       "       0.06625337, 0.06619363, 0.06612871, 0.06605861, 0.0659833 ,\n",
       "       0.06590279, 0.06581707, 0.06572613, 0.06562999, 0.06552864,\n",
       "       0.06542209, 0.06531036, 0.06519346, 0.06507141, 0.06494423,\n",
       "       0.06481194, 0.06467458, 0.06453218, 0.06438477, 0.06423239,\n",
       "       0.06407508, 0.06391288, 0.06374585, 0.06357403, 0.06339748,\n",
       "       0.06321625, 0.0630304 , 0.06284   , 0.0626451 , 0.06244578,\n",
       "       0.0622421 , 0.06203413, 0.06182196, 0.06160565, 0.06138528,\n",
       "       0.06116094, 0.06093271, 0.06070066, 0.06046489, 0.06022549,\n",
       "       0.05998254, 0.05973613, 0.05948635, 0.05923331, 0.05897708,\n",
       "       0.05871777, 0.05845547, 0.05819028, 0.0579223 , 0.05765162,\n",
       "       0.05737834, 0.05710256, 0.05682438, 0.05654389, 0.0562612 ,\n",
       "       0.05597641, 0.05568961, 0.0554009 , 0.05511039, 0.05481816,\n",
       "       0.05452432, 0.05422896, 0.05393218, 0.05363408, 0.05333474,\n",
       "       0.05303426, 0.05273275, 0.05243027, 0.05212694, 0.05182283,\n",
       "       0.05151804, 0.05121266, 0.05090676, 0.05060044, 0.05029377,\n",
       "       0.04998685, 0.04967974, 0.04937253, 0.0490653 , 0.04875812,\n",
       "       0.04845107, 0.04814422, 0.04783764, 0.0475314 , 0.04722557,\n",
       "       0.04692021, 0.0466154 , 0.04631119, 0.04600764, 0.04570482,\n",
       "       0.04540278, 0.04510158, 0.04480128, 0.04450192, 0.04420356,\n",
       "       0.04390625, 0.04361004, 0.04331497, 0.0430211 , 0.04272845,\n",
       "       0.04243708, 0.04214703, 0.04185832, 0.04157101, 0.04128513,\n",
       "       0.04100071, 0.04071778, 0.04043638, 0.04015654, 0.03987828,\n",
       "       0.03960163, 0.03932662, 0.03905328, 0.03878161, 0.03851166,\n",
       "       0.03824344, 0.03797697, 0.03771226, 0.03744934, 0.03718822,\n",
       "       0.03692892, 0.03667144, 0.03641581, 0.03616204, 0.03591013,\n",
       "       0.0356601 , 0.03541196, 0.03516571, 0.03492136, 0.03467892,\n",
       "       0.03443839, 0.03419978, 0.03396309, 0.03372833, 0.03349549,\n",
       "       0.03326459, 0.03303562, 0.03280858, 0.03258347, 0.03236029])"
      ]
     },
     "execution_count": 84,
     "metadata": {},
     "output_type": "execute_result"
    }
   ],
   "source": [
    "Wlist[10].flavin.autoreg.power"
   ]
  },
  {
   "cell_type": "code",
   "execution_count": 85,
   "id": "28f07443",
   "metadata": {},
   "outputs": [
    {
     "data": {
      "text/plain": [
       "[<matplotlib.lines.Line2D at 0x7f0e2aca0b50>]"
      ]
     },
     "execution_count": 85,
     "metadata": {},
     "output_type": "execute_result"
    }
   ],
   "source": [
    "plt.plot(Wlist[60].flavin.autoreg.freqs,\n",
    "        Wlist[60].flavin.autoreg.power)"
   ]
  },
  {
   "cell_type": "code",
   "execution_count": 95,
   "id": "534d72bf",
   "metadata": {},
   "outputs": [
    {
     "name": "stdout",
     "output_type": "stream",
     "text": [
      "[          inf           inf           inf           inf           inf\n",
      "           inf           inf           inf           inf           inf\n",
      "  225.                   inf           inf           inf           inf\n",
      "           inf           inf           inf           inf           inf\n",
      "  287.06896552           inf           inf  175.26315789           inf\n",
      "  256.15384615  587.64705882           inf           inf           inf\n",
      "           inf           inf           inf           inf           inf\n",
      "           inf           inf           inf  367.27941176  406.09756098\n",
      "           inf           inf           inf           inf           inf\n",
      "           inf           inf  242.47572816           inf           inf\n",
      "           inf           inf           inf           inf           inf\n",
      "           inf           inf           inf           inf           inf\n",
      "           inf           inf           inf           inf           inf\n",
      "           inf           inf           inf           inf           inf\n",
      "           inf           inf           inf           inf           inf\n",
      "           inf           inf  262.89473684           inf           inf\n",
      "  257.4742268            inf           inf           inf           inf\n",
      "           inf           inf           inf           inf           inf\n",
      "           inf           inf           inf           inf           inf\n",
      "           inf           inf  339.79591837           inf           inf\n",
      "           inf           inf           inf           inf  158.57142857\n",
      "           inf           inf           inf           inf           inf\n",
      " 1062.76595745           inf           inf           inf           inf\n",
      "           inf           inf           inf           inf           inf\n",
      "           inf           inf           inf           inf           inf\n",
      "           inf           inf           inf           inf           inf\n",
      "           inf           inf           inf           inf           inf\n",
      "           inf           inf           inf  409.42622951           inf\n",
      "           inf           inf           inf           inf           inf\n",
      "           inf           inf           inf           inf           inf\n",
      "           inf           inf           inf           inf           inf\n",
      "           inf           inf           inf           inf           inf\n",
      "           inf           inf           inf           inf           inf\n",
      "           inf           inf           inf           inf           inf\n",
      "           inf           inf           inf           inf           inf\n",
      "           inf           inf           inf  254.84693878           inf\n",
      "  257.4742268            inf           inf           inf           inf\n",
      "           inf           inf           inf           inf           inf\n",
      "           inf           inf           inf           inf           inf\n",
      "           inf           inf           inf           inf           inf\n",
      "           inf           inf           inf           inf           inf\n",
      "           inf           inf           inf           inf           inf\n",
      "           inf           inf           inf           inf           inf\n",
      "           inf           inf           inf           inf           inf\n",
      "           inf           inf           inf           inf           inf\n",
      "           inf           inf           inf           inf           inf\n",
      "           inf           inf           inf           inf           inf\n",
      "           inf           inf           inf           inf           inf\n",
      "           inf           inf           inf           inf           inf\n",
      "           inf           inf           inf           inf           inf\n",
      "           inf           inf           inf           inf           inf\n",
      "           inf           inf           inf  172.24137931           inf\n",
      "           inf           inf           inf           inf   75.22590361\n",
      "           inf           inf           inf           inf           inf\n",
      "           inf           inf  230.1843318   466.82242991           inf\n",
      "           inf           inf           inf           inf           inf\n",
      "           inf           inf           inf           inf           inf\n",
      "           inf           inf           inf           inf           inf\n",
      "  144.36416185           inf           inf           inf           inf\n",
      "           inf           inf           inf   82.01970443]\n"
     ]
    },
    {
     "name": "stderr",
     "output_type": "stream",
     "text": [
      "/home/arin/.pyenv/versions/3.7.9/envs/time-series-pipeline/lib/python3.7/site-packages/ipykernel_launcher.py:2: RuntimeWarning: divide by zero encountered in true_divide\n",
      "  \n"
     ]
    }
   ],
   "source": [
    "mylist = [cell.flavin.autoreg.freqs[np.argmax(cell.flavin.autoreg.power)] for cell in Wlist]\n",
    "foo = 1/np.array(mylist)\n",
    "print(foo)"
   ]
  },
  {
   "cell_type": "code",
   "execution_count": 100,
   "id": "05f58b55",
   "metadata": {},
   "outputs": [
    {
     "data": {
      "text/plain": [
       "(<Figure size 640x480 with 1 Axes>,\n",
       " <AxesSubplot:title={'center':'Autofluorescence of cell 588 over time'}, xlabel='Time (min)', ylabel='Autofluorescence (AU)'>)"
      ]
     },
     "execution_count": 100,
     "metadata": {},
     "output_type": "execute_result"
    }
   ],
   "source": [
    "Wlist[298].plot_ts()"
   ]
  },
  {
   "cell_type": "code",
   "execution_count": 99,
   "id": "c0cbf7b2",
   "metadata": {},
   "outputs": [
    {
     "data": {
      "text/plain": [
       "(<Figure size 640x480 with 1 Axes>,\n",
       " <AxesSubplot:title={'center':'Autogressive Model-Based Periodogram (Jia & Grima, 2020)'}, xlabel='Frequency ($min^{-1}$)', ylabel='Power'>)"
      ]
     },
     "execution_count": 99,
     "metadata": {},
     "output_type": "execute_result"
    }
   ],
   "source": [
    "Wlist[298].flavin.plot_ps(pdgram='autoreg', pd=False)"
   ]
  },
  {
   "cell_type": "markdown",
   "id": "437545b1",
   "metadata": {},
   "source": [
    "PROBLEM: there's only one swe1Δ cell that the AR identifies as oscillating.  Changes definitely need to be made to the algorithm.  Perhaps this is where the model selection comes in, but there's _no way_ I'll be able to explore this in time for the conference."
   ]
  }
 ],
 "metadata": {
  "kernelspec": {
   "display_name": "Python 3",
   "language": "python",
   "name": "python3"
  },
  "language_info": {
   "codemirror_mode": {
    "name": "ipython",
    "version": 3
   },
   "file_extension": ".py",
   "mimetype": "text/x-python",
   "name": "python",
   "nbconvert_exporter": "python",
   "pygments_lexer": "ipython3",
   "version": "3.7.9"
  }
 },
 "nbformat": 4,
 "nbformat_minor": 5
}
