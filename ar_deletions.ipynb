{
 "cells": [
  {
   "cell_type": "markdown",
   "id": "75330d2c",
   "metadata": {},
   "source": [
    "Aims:\n",
    "- Do AR to fit model to time series and get features.  Trying frequency of oscillations for now, potential to expand to quality (height of peak of periodogram).\n",
    "- Do it with Causton strains.  With potential to switch to the experiment with the new CEN.PK if I have time.\n",
    "- Produce some plots for BYG201 (panel 6)"
   ]
  },
  {
   "cell_type": "markdown",
   "id": "216ea35c",
   "metadata": {},
   "source": [
    "Specify file name and sampling period"
   ]
  },
  {
   "cell_type": "code",
   "execution_count": 212,
   "id": "adab97ee",
   "metadata": {},
   "outputs": [
    {
     "name": "stdout",
     "output_type": "stream",
     "text": [
      "Using matplotlib backend: TkAgg\n"
     ]
    }
   ],
   "source": [
    "#filename_prefix = './data/arin/Omero19979_'\n",
    "filename_prefix = './data/arin/Omero20016_'\n",
    "sampling_period = 5\n",
    "remain = 0.8\n",
    "\n",
    "%matplotlib"
   ]
  },
  {
   "cell_type": "markdown",
   "id": "9a68cc8a",
   "metadata": {},
   "source": [
    "Main shebang"
   ]
  },
  {
   "cell_type": "code",
   "execution_count": 213,
   "id": "4deb26db",
   "metadata": {},
   "outputs": [
    {
     "name": "stdout",
     "output_type": "stream",
     "text": [
      "[Errno 2] No such file or directory: './data/arin/Omero20016_mCherry.csv'\n",
      "No mCherry time series associated with this experiment: ./data/arin/Omero20016_\n"
     ]
    }
   ],
   "source": [
    "#!/usr/bin/env python3\n",
    "import os\n",
    "\n",
    "import numpy as np\n",
    "import scipy as sp\n",
    "import pandas as pd\n",
    "import itertools\n",
    "import matplotlib.pyplot as plt\n",
    "import sklearn.metrics\n",
    "import igraph as ig\n",
    "\n",
    "import pipeline.dataexport\n",
    "import pipeline.dataimport\n",
    "import pipeline.periodogram\n",
    "import pipeline.score\n",
    "import pipeline.tsman\n",
    "import pipeline.vis\n",
    "\n",
    "import featext.tsman\n",
    "import featext.graph\n",
    "#import featext.vis\n",
    "\n",
    "#import catch22\n",
    "#import leidenalg\n",
    "\n",
    "def add_classicalAttr(cell, oversampling_factor = 1):\n",
    "    \"\"\"Computes classical periodogram and adds PdgramAttr attributes\"\"\"\n",
    "    cell.flavin.classical.freqs, cell.flavin.classical.power = \\\n",
    "            pipeline.periodogram.classical(cell.time, cell.flavin.reading_processed,\n",
    "                                oversampling_factor = oversampling_factor)\n",
    "\n",
    "def add_bglsAttr(cell):\n",
    "    \"\"\"Computes BGLS and adds PdgramAttr attributes\"\"\"\n",
    "    cell.flavin.bgls = pipeline.PdgramAttr()\n",
    "    cell.flavin.bgls.label = 'Bayesian General Lomb-Scargle Periodogram'\n",
    "    cell.flavin.bgls.power_label = 'Probability'\n",
    "    err = np.ones(len(cell.flavin.reading_processed))*\\\n",
    "            np.sqrt(np.max(cell.flavin.reading_processed))\n",
    "    cell.flavin.bgls.freqs, cell.flavin.bgls.power = \\\n",
    "            pipeline.periodogram.bgls(cell.time, cell.flavin.reading_processed, err,\n",
    "                    plow = 30.0, phigh = 360.0, ofac = 5)\n",
    "\n",
    "def add_autoregAttr(cell):\n",
    "    \"\"\"\n",
    "    Computes autoregressive model-based periodogram and adds PdgramAttr\n",
    "    attributes\n",
    "    \"\"\"\n",
    "    cell.flavin.autoreg = pipeline.PdgramAttr()\n",
    "    cell.flavin.autoreg.label = \\\n",
    "            'Autogressive Model-Based Periodogram (Jia & Grima, 2020)'\n",
    "    cell.flavin.autoreg.power_label = 'Power'\n",
    "    freq_npoints = 1000\n",
    "    cell.flavin.autoreg.freqs, cell.flavin.autoreg.power = \\\n",
    "            pipeline.periodogram.autoreg(cell.time,\n",
    "                                         cell.flavin.reading_processed,\n",
    "                                         freq_npoints)\n",
    "\n",
    "# FLAVIN: import data and process objects\n",
    "\n",
    "# Import fluorescence info from CSVs\n",
    "Dset_flavin = pipeline.dataimport.import_timeseries(\n",
    "    filename_prefix+'flavin.csv', remain = remain)\n",
    "# dummy so I get code to not complain; will be re-factored later\n",
    "Dset_dcategory = [3] * len(Dset_flavin)\n",
    "Dset_births = pipeline.dataimport.import_births(\n",
    "    filename_prefix+'births.csv')\n",
    "\n",
    "# Arranges information into DatasetAttr objects\n",
    "Dset_data = pipeline.dataimport.CellAttr_from_datasets( \\\n",
    "        timeseries_df = Dset_flavin,\n",
    "        categories_array = Dset_dcategory,\n",
    "        births_df = Dset_births,\n",
    "        sampling_pd = sampling_period)\n",
    "Dset = pipeline.DatasetAttr(Dset_data)\n",
    "\n",
    "# Add labels\n",
    "strainlookup = pd.read_csv(filename_prefix+'strains.csv', \\\n",
    "                          index_col = 'position')\n",
    "for ii, cell in enumerate(Dset.cells):\n",
    "    cell.source = filename_prefix\n",
    "    cell.medium.base = 'Delft'\n",
    "    cell.medium.nutrients = {'glucose': 10}\n",
    "\n",
    "    cell.strain = strainlookup.loc[cell.position].strain\n",
    "\n",
    "    cell.flavin = pipeline.Fluo('flavin')\n",
    "    cell.flavin.exposure = 60\n",
    "    cell.flavin.reading = cell.y\n",
    "    cell.flavin.category = Dset_dcategory[ii]\n",
    "\n",
    "\n",
    "# mCherry: import data and process objects\n",
    "try:\n",
    "    Dset_mCherry_unsliced = pipeline.dataimport.import_timeseries(\n",
    "        filename_prefix+'mCherry.csv', remain = remain)\n",
    "    # restrict to cells with flavin readings\n",
    "    idx_both = list(set(Dset_flavin.cellID) & set(Dset_mCherry_unsliced.cellID))\n",
    "    Dset_mCherry = \\\n",
    "            Dset_mCherry_unsliced.loc[Dset_mCherry_unsliced.cellID.isin(idx_both)]\n",
    "\n",
    "    # Arranges information into DatasetAttr objects\n",
    "    # dummy -- will be better when I re-structure things... am just re-using a \n",
    "    # function for quick-and-dirty purposes, and it's obviously redundant\n",
    "    mCherry_data = pipeline.dataimport.CellAttr_from_datasets( \\\n",
    "            timeseries_df = Dset_mCherry,\n",
    "            categories_array = Dset_dcategory,\n",
    "            births_df = Dset_births,\n",
    "            sampling_pd = sampling_period)\n",
    "    mCherry = pipeline.DatasetAttr(mCherry_data)\n",
    "    mCherry_MATLABids = [cell.MATLABid for cell in mCherry.cells]\n",
    "\n",
    "    # Add labels\n",
    "    for ii, cell in enumerate(Dset.cells):\n",
    "        cell.mCherry = pipeline.Fluo('mCherry')\n",
    "        if cell.strain == 'htb2_mCherry_CRISPR':\n",
    "            cell.mCherry.exposure = 100\n",
    "        else:\n",
    "            cell.mCherry.exposure = 0\n",
    "\n",
    "        # loads in reading, cross-referencing by MATLABid.  This is awful, I know.\n",
    "        if cell.MATLABid in mCherry_MATLABids:\n",
    "            cell.mCherry.reading = \\\n",
    "                mCherry.cells[mCherry_MATLABids.index(cell.MATLABid)].y\n",
    "except FileNotFoundError as error:\n",
    "    print(error)\n",
    "    print(f'No mCherry time series associated with this experiment: {filename_prefix}')"
   ]
  },
  {
   "cell_type": "markdown",
   "id": "6a69ca0d",
   "metadata": {},
   "source": [
    "Define working dataset (list of cells)"
   ]
  },
  {
   "cell_type": "code",
   "execution_count": 214,
   "id": "dd83262e",
   "metadata": {},
   "outputs": [
    {
     "data": {
      "text/plain": [
       "1330"
      ]
     },
     "execution_count": 214,
     "metadata": {},
     "output_type": "execute_result"
    }
   ],
   "source": [
    "Wlist = Dset.cells\n",
    "#Wlist = [cell for cell in Dset.cells if cell.strain == 'swe1_Del']\n",
    "len(Wlist)"
   ]
  },
  {
   "cell_type": "markdown",
   "id": "43cd07a0",
   "metadata": {},
   "source": [
    "Chop up time series (exclude the end in which there is starvation)"
   ]
  },
  {
   "cell_type": "code",
   "execution_count": 215,
   "id": "33be433d",
   "metadata": {},
   "outputs": [],
   "source": [
    "interval_start = 0\n",
    "interval_end = 168\n",
    "\n",
    "for cell in Wlist:\n",
    "    cell.time = cell.time[interval_start:interval_end]\n",
    "    cell.flavin.reading = cell.flavin.reading[interval_start:interval_end]"
   ]
  },
  {
   "cell_type": "markdown",
   "id": "eb0608bc",
   "metadata": {},
   "source": [
    "Remove cells than have NaNs.  AR doesn't like it."
   ]
  },
  {
   "cell_type": "code",
   "execution_count": 216,
   "id": "d44f19be",
   "metadata": {},
   "outputs": [
    {
     "data": {
      "text/plain": [
       "668"
      ]
     },
     "execution_count": 216,
     "metadata": {},
     "output_type": "execute_result"
    }
   ],
   "source": [
    "Wlist = [cell for cell in Wlist if not np.isnan(cell.flavin.reading).any()]\n",
    "len(Wlist)"
   ]
  },
  {
   "cell_type": "code",
   "execution_count": 217,
   "id": "d193ebb7",
   "metadata": {},
   "outputs": [
    {
     "name": "stdout",
     "output_type": "stream",
     "text": [
      "Counter({'zwf1_Del': 446, 'by4741': 222})\n"
     ]
    }
   ],
   "source": [
    "from collections import Counter\n",
    "count_strain = Counter([cell.strain for cell in Wlist])\n",
    "print(count_strain)"
   ]
  },
  {
   "cell_type": "markdown",
   "id": "f5836f76",
   "metadata": {},
   "source": [
    "Add spectra"
   ]
  },
  {
   "cell_type": "code",
   "execution_count": 218,
   "id": "f38b77a8",
   "metadata": {},
   "outputs": [],
   "source": [
    "for cell in Wlist:\n",
    "    cell.flavin.reading_processed = cell.flavin.reading\n",
    "    #add_classicalAttr(cell, oversampling_factor = 1)\n",
    "    add_autoregAttr(cell)\n",
    "    #print(cell.cellid)"
   ]
  },
  {
   "cell_type": "code",
   "execution_count": 87,
   "id": "9dc85346",
   "metadata": {},
   "outputs": [
    {
     "data": {
      "text/plain": [
       "array([1.        , 0.99960487, 0.99842137, 0.99645508, 0.99371524,\n",
       "       0.99021466, 0.98596953, 0.98099925, 0.97532622, 0.9689756 ,\n",
       "       0.96197501, 0.95435428, 0.94614513, 0.93738086, 0.92809602,\n",
       "       0.91832615, 0.90810745, 0.89747647, 0.88646988, 0.87512415,\n",
       "       0.86347538, 0.85155903, 0.83940974, 0.82706118, 0.81454586,\n",
       "       0.80189504, 0.78913861, 0.77630502, 0.76342121, 0.75051256,\n",
       "       0.73760292, 0.7247145 , 0.71186799, 0.69908249, 0.68637558,\n",
       "       0.67376338, 0.66126053, 0.6488803 , 0.63663463, 0.62453418,\n",
       "       0.61258841, 0.60080564, 0.5891931 , 0.57775703, 0.56650271,\n",
       "       0.55543456, 0.54455618, 0.5338704 , 0.52337937, 0.51308459,\n",
       "       0.50298701, 0.493087  , 0.48338449, 0.47387894, 0.46456943,\n",
       "       0.4554547 , 0.44653315, 0.43780291, 0.42926187, 0.42090769,\n",
       "       0.41273785, 0.40474966, 0.39694031, 0.38930683, 0.3818462 ,\n",
       "       0.37455529, 0.36743092, 0.36046984, 0.3536688 , 0.34702449,\n",
       "       0.34053361, 0.33419286, 0.32799893, 0.32194855, 0.31603843,\n",
       "       0.31026536, 0.30462611, 0.29911753, 0.29373649, 0.28847991,\n",
       "       0.28334476, 0.27832804, 0.27342685, 0.26863829, 0.26395955,\n",
       "       0.25938787, 0.25492054, 0.25055491, 0.2462884 , 0.24211849,\n",
       "       0.23804268, 0.23405858, 0.23016383, 0.22635613, 0.22263324,\n",
       "       0.21899298, 0.21543321, 0.21195186, 0.20854691, 0.2052164 ,\n",
       "       0.20195841, 0.19877107, 0.19565256, 0.19260113, 0.18961504,\n",
       "       0.18669264, 0.18383229, 0.18103241, 0.17829146, 0.17560794,\n",
       "       0.1729804 , 0.17040743, 0.16788765, 0.16541972, 0.16300234,\n",
       "       0.16063425, 0.15831421, 0.15604104, 0.15381357, 0.15163066,\n",
       "       0.14949123, 0.1473942 , 0.14533854, 0.14332324, 0.14134731,\n",
       "       0.1394098 , 0.13750979, 0.13564637, 0.13381867, 0.13202582,\n",
       "       0.13026701, 0.12854142, 0.12684827, 0.1251868 , 0.12355626,\n",
       "       0.12195594, 0.12038512, 0.11884313, 0.11732929, 0.11584297,\n",
       "       0.11438353, 0.11295035, 0.11154285, 0.11016044, 0.10880255,\n",
       "       0.10746864, 0.10615816, 0.10487061, 0.10360546, 0.10236222,\n",
       "       0.10114041, 0.09993957, 0.09875923, 0.09759895, 0.09645829,\n",
       "       0.09533684, 0.09423417, 0.09314989, 0.09208361, 0.09103495,\n",
       "       0.09000353, 0.08898898, 0.08799097, 0.08700914, 0.08604315,\n",
       "       0.08509269, 0.08415742, 0.08323705, 0.08233125, 0.08143975,\n",
       "       0.08056224, 0.07969844, 0.07884809, 0.07801091, 0.07718664,\n",
       "       0.07637501, 0.0755758 , 0.07478873, 0.07401359, 0.07325014,\n",
       "       0.07249815, 0.07175739, 0.07102766, 0.07030874, 0.06960042,\n",
       "       0.0689025 , 0.06821479, 0.06753708, 0.0668692 , 0.06621096,\n",
       "       0.06556217, 0.06492267, 0.06429228, 0.06367083, 0.06305816,\n",
       "       0.06245411, 0.06185851, 0.06127123, 0.0606921 , 0.06012098,\n",
       "       0.05955773, 0.0590022 , 0.05845426, 0.05791377, 0.05738061,\n",
       "       0.05685464, 0.05633573, 0.05582377, 0.05531863, 0.05482019,\n",
       "       0.05432834, 0.05384297, 0.05336396, 0.05289121, 0.05242461,\n",
       "       0.05196405, 0.05150944, 0.05106067, 0.05061764, 0.05018026,\n",
       "       0.04974844, 0.04932209, 0.0489011 , 0.0484854 , 0.04807491,\n",
       "       0.04766952, 0.04726917, 0.04687376, 0.04648322, 0.04609748,\n",
       "       0.04571645, 0.04534006, 0.04496823, 0.0446009 , 0.04423799,\n",
       "       0.04387943, 0.04352515, 0.0431751 , 0.04282919, 0.04248737,\n",
       "       0.04214958, 0.04181575, 0.04148582, 0.04115973, 0.04083742,\n",
       "       0.04051884, 0.04020393, 0.03989264, 0.0395849 , 0.03928067,\n",
       "       0.03897989, 0.03868252, 0.0383885 , 0.03809778, 0.03781032,\n",
       "       0.03752606, 0.03724496, 0.03696698, 0.03669206, 0.03642017,\n",
       "       0.03615126, 0.03588529, 0.03562221, 0.03536198, 0.03510457,\n",
       "       0.03484993, 0.03459803, 0.03434882, 0.03410227, 0.03385834,\n",
       "       0.033617  , 0.0333782 , 0.03314192, 0.03290811, 0.03267675,\n",
       "       0.0324478 , 0.03222122, 0.03199699, 0.03177508, 0.03155544,\n",
       "       0.03133806, 0.0311229 , 0.03090993, 0.03069912, 0.03049044,\n",
       "       0.03028387, 0.03007937, 0.02987692, 0.02967649, 0.02947806,\n",
       "       0.0292816 , 0.02908709, 0.02889449, 0.02870378, 0.02851494,\n",
       "       0.02832795, 0.02814278, 0.02795941, 0.02777781, 0.02759796,\n",
       "       0.02741984, 0.02724344, 0.02706871, 0.02689566, 0.02672424,\n",
       "       0.02655446, 0.02638627, 0.02621967, 0.02605463, 0.02589114,\n",
       "       0.02572917, 0.02556871, 0.02540974, 0.02525224, 0.02509619,\n",
       "       0.02494157, 0.02478837, 0.02463657, 0.02448616, 0.02433711,\n",
       "       0.02418941, 0.02404305, 0.023898  , 0.02375426, 0.0236118 ,\n",
       "       0.02347062, 0.02333069, 0.02319201, 0.02305455, 0.0229183 ,\n",
       "       0.02278326, 0.0226494 , 0.02251671, 0.02238518, 0.0222548 ,\n",
       "       0.02212555, 0.02199741, 0.02187038, 0.02174445, 0.02161959,\n",
       "       0.0214958 , 0.02137307, 0.02125139, 0.02113074, 0.02101111,\n",
       "       0.02089249, 0.02077486, 0.02065823, 0.02054257, 0.02042788,\n",
       "       0.02031414, 0.02020135, 0.02008949, 0.01997856, 0.01986854,\n",
       "       0.01975942, 0.0196512 , 0.01954386, 0.0194374 , 0.0193318 ,\n",
       "       0.01922706, 0.01912317, 0.01902011, 0.01891789, 0.01881648,\n",
       "       0.01871589, 0.0186161 , 0.0185171 , 0.01841889, 0.01832146,\n",
       "       0.01822479, 0.01812889, 0.01803375, 0.01793935, 0.01784568,\n",
       "       0.01775275, 0.01766054, 0.01756905, 0.01747827, 0.01738818,\n",
       "       0.01729879, 0.01721009, 0.01712207, 0.01703472, 0.01694803,\n",
       "       0.01686201, 0.01677664, 0.01669191, 0.01660783, 0.01652438,\n",
       "       0.01644155, 0.01635935, 0.01627776, 0.01619678, 0.0161164 ,\n",
       "       0.01603662, 0.01595743, 0.01587883, 0.0158008 , 0.01572335,\n",
       "       0.01564646, 0.01557014, 0.01549438, 0.01541917, 0.0153445 ,\n",
       "       0.01527038, 0.01519679, 0.01512373, 0.0150512 , 0.01497919,\n",
       "       0.01490769, 0.01483671, 0.01476623, 0.01469625, 0.01462677,\n",
       "       0.01455778, 0.01448928, 0.01442126, 0.01435372, 0.01428666,\n",
       "       0.01422006, 0.01415393, 0.01408826, 0.01402305, 0.01395829,\n",
       "       0.01389397, 0.0138301 , 0.01376667, 0.01370368, 0.01364112,\n",
       "       0.01357899, 0.01351728, 0.01345599, 0.01339512, 0.01333466,\n",
       "       0.01327461, 0.01321496, 0.01315572, 0.01309688, 0.01303843,\n",
       "       0.01298037, 0.0129227 , 0.01286541, 0.01280851, 0.01275198,\n",
       "       0.01269583, 0.01264005, 0.01258463, 0.01252958, 0.01247489,\n",
       "       0.01242056, 0.01236659, 0.01231296, 0.01225969, 0.01220676,\n",
       "       0.01215417, 0.01210193, 0.01205002, 0.01199845, 0.0119472 ,\n",
       "       0.01189629, 0.0118457 , 0.01179544, 0.01174549, 0.01169586,\n",
       "       0.01164655, 0.01159755, 0.01154886, 0.01150048, 0.0114524 ,\n",
       "       0.01140462, 0.01135714, 0.01130996, 0.01126308, 0.01121648,\n",
       "       0.01117018, 0.01112416, 0.01107843, 0.01103298, 0.01098781,\n",
       "       0.01094292, 0.0108983 , 0.01085396, 0.01080989, 0.01076608,\n",
       "       0.01072255, 0.01067928, 0.01063627, 0.01059352, 0.01055103,\n",
       "       0.0105088 , 0.01046682, 0.01042509, 0.01038362, 0.01034239,\n",
       "       0.01030141, 0.01026067, 0.01022017, 0.01017992, 0.0101399 ,\n",
       "       0.01010012, 0.01006058, 0.01002126, 0.00998218, 0.00994333,\n",
       "       0.00990471, 0.00986631, 0.00982813, 0.00979018, 0.00975245,\n",
       "       0.00971494, 0.00967764, 0.00964056, 0.0096037 , 0.00956704,\n",
       "       0.0095306 , 0.00949437, 0.00945834, 0.00942252, 0.0093869 ,\n",
       "       0.00935149, 0.00931628, 0.00928126, 0.00924645, 0.00921183,\n",
       "       0.00917741, 0.00914318, 0.00910914, 0.0090753 , 0.00904164,\n",
       "       0.00900817, 0.00897489, 0.0089418 , 0.00890888, 0.00887616,\n",
       "       0.00884361, 0.00881124, 0.00877905, 0.00874704, 0.0087152 ,\n",
       "       0.00868354, 0.00865205, 0.00862073, 0.00858959, 0.00855861,\n",
       "       0.0085278 , 0.00849716, 0.00846669, 0.00843638, 0.00840624,\n",
       "       0.00837625, 0.00834643, 0.00831677, 0.00828727, 0.00825792,\n",
       "       0.00822873, 0.0081997 , 0.00817083, 0.0081421 , 0.00811353,\n",
       "       0.00808511, 0.00805684, 0.00802872, 0.00800074, 0.00797292,\n",
       "       0.00794524, 0.0079177 , 0.00789031, 0.00786307, 0.00783596,\n",
       "       0.007809  , 0.00778217, 0.00775549, 0.00772894, 0.00770253,\n",
       "       0.00767626, 0.00765012, 0.00762411, 0.00759824, 0.00757251,\n",
       "       0.0075469 , 0.00752143, 0.00749608, 0.00747086, 0.00744578,\n",
       "       0.00742082, 0.00739598, 0.00737127, 0.00734669, 0.00732223,\n",
       "       0.00729789, 0.00727368, 0.00724958, 0.00722561, 0.00720176,\n",
       "       0.00717802, 0.00715441, 0.00713091, 0.00710753, 0.00708426,\n",
       "       0.00706111, 0.00703808, 0.00701516, 0.00699235, 0.00696965,\n",
       "       0.00694707, 0.00692459, 0.00690223, 0.00687997, 0.00685782,\n",
       "       0.00683578, 0.00681385, 0.00679203, 0.00677031, 0.00674869,\n",
       "       0.00672718, 0.00670577, 0.00668447, 0.00666327, 0.00664217,\n",
       "       0.00662117, 0.00660028, 0.00657948, 0.00655878, 0.00653818,\n",
       "       0.00651768, 0.00649727, 0.00647697, 0.00645675, 0.00643664,\n",
       "       0.00641662, 0.00639669, 0.00637686, 0.00635712, 0.00633747,\n",
       "       0.00631791, 0.00629845, 0.00627908, 0.00625979, 0.0062406 ,\n",
       "       0.0062215 , 0.00620248, 0.00618355, 0.00616471, 0.00614596,\n",
       "       0.00612729, 0.00610871, 0.00609022, 0.00607181, 0.00605348,\n",
       "       0.00603524, 0.00601708, 0.00599901, 0.00598101, 0.0059631 ,\n",
       "       0.00594527, 0.00592752, 0.00590985, 0.00589226, 0.00587475,\n",
       "       0.00585732, 0.00583997, 0.0058227 , 0.0058055 , 0.00578838,\n",
       "       0.00577134, 0.00575437, 0.00573748, 0.00572066, 0.00570392,\n",
       "       0.00568726, 0.00567066, 0.00565414, 0.0056377 , 0.00562132,\n",
       "       0.00560502, 0.00558879, 0.00557263, 0.00555655, 0.00554053,\n",
       "       0.00552458, 0.00550871, 0.0054929 , 0.00547716, 0.00546149,\n",
       "       0.00544589, 0.00543035, 0.00541488, 0.00539948, 0.00538415,\n",
       "       0.00536888, 0.00535368, 0.00533854, 0.00532347, 0.00530847,\n",
       "       0.00529352, 0.00527864, 0.00526383, 0.00524908, 0.00523439,\n",
       "       0.00521976, 0.0052052 , 0.00519069, 0.00517625, 0.00516187,\n",
       "       0.00514755, 0.0051333 , 0.0051191 , 0.00510496, 0.00509088,\n",
       "       0.00507686, 0.0050629 , 0.00504899, 0.00503515, 0.00502136,\n",
       "       0.00500763, 0.00499396, 0.00498034, 0.00496678, 0.00495328,\n",
       "       0.00493983, 0.00492644, 0.0049131 , 0.00489982, 0.00488659,\n",
       "       0.00487342, 0.0048603 , 0.00484723, 0.00483422, 0.00482126,\n",
       "       0.00480836, 0.00479551, 0.00478271, 0.00476996, 0.00475726,\n",
       "       0.00474461, 0.00473202, 0.00471948, 0.00470699, 0.00469454,\n",
       "       0.00468215, 0.00466981, 0.00465752, 0.00464527, 0.00463308,\n",
       "       0.00462093, 0.00460884, 0.00459679, 0.00458479, 0.00457283,\n",
       "       0.00456093, 0.00454907, 0.00453726, 0.0045255 , 0.00451378,\n",
       "       0.00450211, 0.00449048, 0.0044789 , 0.00446737, 0.00445588,\n",
       "       0.00444443, 0.00443304, 0.00442168, 0.00441037, 0.00439911,\n",
       "       0.00438788, 0.0043767 , 0.00436557, 0.00435448, 0.00434343,\n",
       "       0.00433242, 0.00432146, 0.00431054, 0.00429966, 0.00428882,\n",
       "       0.00427803, 0.00426728, 0.00425656, 0.00424589, 0.00423526,\n",
       "       0.00422467, 0.00421412, 0.00420361, 0.00419314, 0.00418272,\n",
       "       0.00417233, 0.00416198, 0.00415166, 0.00414139, 0.00413116,\n",
       "       0.00412097, 0.00411081, 0.00410069, 0.00409061, 0.00408057,\n",
       "       0.00407057, 0.0040606 , 0.00405067, 0.00404078, 0.00403092,\n",
       "       0.0040211 , 0.00401132, 0.00400158, 0.00399187, 0.00398219,\n",
       "       0.00397256, 0.00396295, 0.00395339, 0.00394386, 0.00393436,\n",
       "       0.0039249 , 0.00391547, 0.00390608, 0.00389673, 0.0038874 ,\n",
       "       0.00387812, 0.00386886, 0.00385964, 0.00385045, 0.0038413 ,\n",
       "       0.00383218, 0.00382309, 0.00381404, 0.00380502, 0.00379603,\n",
       "       0.00378707, 0.00377815, 0.00376926, 0.0037604 , 0.00375157,\n",
       "       0.00374277, 0.00373401, 0.00372528, 0.00371658, 0.0037079 ,\n",
       "       0.00369927, 0.00369066, 0.00368208, 0.00367353, 0.00366502,\n",
       "       0.00365653, 0.00364807, 0.00363965, 0.00363125, 0.00362288,\n",
       "       0.00361454, 0.00360624, 0.00359796, 0.00358971, 0.00358149,\n",
       "       0.0035733 , 0.00356513, 0.003557  , 0.00354889, 0.00354082,\n",
       "       0.00353277, 0.00352475, 0.00351675, 0.00350879, 0.00350085,\n",
       "       0.00349294, 0.00348506, 0.0034772 , 0.00346937, 0.00346157,\n",
       "       0.0034538 , 0.00344605, 0.00343833, 0.00343063, 0.00342297,\n",
       "       0.00341533, 0.00340771, 0.00340012, 0.00339256, 0.00338502,\n",
       "       0.00337751, 0.00337002, 0.00336256, 0.00335513, 0.00334772,\n",
       "       0.00334033, 0.00333297, 0.00332564, 0.00331833, 0.00331104,\n",
       "       0.00330378, 0.00329655, 0.00328934, 0.00328215, 0.00327498,\n",
       "       0.00326784, 0.00326073, 0.00325364, 0.00324657, 0.00323953,\n",
       "       0.00323251, 0.00322551, 0.00321853, 0.00321158, 0.00320466,\n",
       "       0.00319775, 0.00319087, 0.00318401, 0.00317717, 0.00317036,\n",
       "       0.00316357, 0.0031568 , 0.00315005, 0.00314333, 0.00313663,\n",
       "       0.00312995, 0.00312329, 0.00311665, 0.00311004, 0.00310344,\n",
       "       0.00309687, 0.00309032, 0.00308379, 0.00307729, 0.0030708 ,\n",
       "       0.00306433, 0.00305789, 0.00305147, 0.00304506, 0.00303868,\n",
       "       0.00303232, 0.00302598, 0.00301966, 0.00301336, 0.00300708,\n",
       "       0.00300082, 0.00299458, 0.00298836, 0.00298216, 0.00297598,\n",
       "       0.00296982, 0.00296368, 0.00295756, 0.00295146, 0.00294538,\n",
       "       0.00293931, 0.00293327, 0.00292725, 0.00292124, 0.00291526,\n",
       "       0.00290929, 0.00290334, 0.00289741, 0.0028915 , 0.00288561,\n",
       "       0.00287974, 0.00287388, 0.00286804, 0.00286223, 0.00285643,\n",
       "       0.00285064, 0.00284488, 0.00283913, 0.00283341, 0.0028277 ,\n",
       "       0.002822  , 0.00281633, 0.00281067, 0.00280503, 0.00279941,\n",
       "       0.00279381, 0.00278822, 0.00278265, 0.0027771 , 0.00277156,\n",
       "       0.00276604, 0.00276054, 0.00275506, 0.00274959, 0.00274414,\n",
       "       0.00273871, 0.00273329, 0.00272789, 0.0027225 , 0.00271713,\n",
       "       0.00271178, 0.00270645, 0.00270113, 0.00269583, 0.00269054,\n",
       "       0.00268527, 0.00268001, 0.00267478, 0.00266955, 0.00266435,\n",
       "       0.00265915, 0.00265398, 0.00264882, 0.00264367, 0.00263854,\n",
       "       0.00263343, 0.00262833, 0.00262325, 0.00261818, 0.00261313])"
      ]
     },
     "execution_count": 87,
     "metadata": {},
     "output_type": "execute_result"
    }
   ],
   "source": [
    "Wlist[10].flavin.autoreg.power"
   ]
  },
  {
   "cell_type": "code",
   "execution_count": 88,
   "id": "28f07443",
   "metadata": {},
   "outputs": [
    {
     "data": {
      "text/plain": [
       "[<matplotlib.lines.Line2D at 0x7f36caf79c10>]"
      ]
     },
     "execution_count": 88,
     "metadata": {},
     "output_type": "execute_result"
    }
   ],
   "source": [
    "plt.plot(Wlist[60].flavin.autoreg.freqs,\n",
    "        Wlist[60].flavin.autoreg.power)"
   ]
  },
  {
   "cell_type": "markdown",
   "id": "f5a04d90",
   "metadata": {},
   "source": [
    "Compute period of 'smoothed periodogram', if appropriate"
   ]
  },
  {
   "cell_type": "code",
   "execution_count": 219,
   "id": "171037e4",
   "metadata": {},
   "outputs": [
    {
     "name": "stderr",
     "output_type": "stream",
     "text": [
      "/home/arin/git/time-series-pipeline/pipeline/__init__.py:60: RuntimeWarning: divide by zero encountered in true_divide\n",
      "  self.pd = (1/self.freqs[self.power == max(self.power)])[0]\n"
     ]
    }
   ],
   "source": [
    "for cell in Wlist:\n",
    "    cell.flavin.autoreg.add_pd()"
   ]
  },
  {
   "cell_type": "code",
   "execution_count": 220,
   "id": "cbafad26",
   "metadata": {},
   "outputs": [
    {
     "name": "stdout",
     "output_type": "stream",
     "text": [
      "(60, 'by4741', 324.35064935064935, 1.033093917126172)\n",
      "(84, 'by4741', 76.2595419847328, 1.2917321989502435)\n",
      "(88, 'by4741', 396.4285714285714, 2.7606926919762866)\n",
      "(113, 'by4741', 846.6101694915253, 1.2438885301372997)\n",
      "(118, 'by4741', 423.30508474576266, 3.3845169916223217)\n",
      "(129, 'by4741', 1611.2903225806451, 1.0254685975843596)\n",
      "(168, 'by4741', 205.55555555555554, 1.633464329977339)\n",
      "(185, 'by4741', 832.4999999999999, 1.1269088217744476)\n",
      "(210, 'by4741', 117.80660377358488, 1.8954716255748314)\n",
      "(248, 'zwf1_Del', 177.12765957446808, 1.342261097226908)\n",
      "(253, 'zwf1_Del', 132.14285714285714, 7.8700392523428615)\n",
      "(254, 'zwf1_Del', 1427.142857142857, 1.000145969380893)\n",
      "(263, 'zwf1_Del', 306.441717791411, 1.0394663786216307)\n",
      "(265, 'zwf1_Del', 247.27722772277224, 1.0616378716155064)\n",
      "(268, 'zwf1_Del', 129.06976744186045, 3.4440913990685487)\n",
      "(270, 'zwf1_Del', 225.0, 4.965025580877776)\n",
      "(285, 'zwf1_Del', 354.25531914893617, 1.060761284654342)\n",
      "(304, 'zwf1_Del', 212.5531914893617, 3.088823947068518)\n",
      "(322, 'zwf1_Del', 236.7298578199052, 1.161699301070567)\n",
      "(338, 'zwf1_Del', 520.3124999999999, 1.0304961600342522)\n",
      "(344, 'zwf1_Del', 182.96703296703296, 6.414452513771846)\n",
      "(348, 'zwf1_Del', 264.2857142857143, 1.1301785328930303)\n",
      "(351, 'zwf1_Del', 393.3070866141732, 1.0644081833146073)\n",
      "(355, 'zwf1_Del', 163.23529411764704, 2.478407475881748)\n",
      "(362, 'zwf1_Del', 1427.142857142857, 1.0001146347018381)\n",
      "(363, 'zwf1_Del', 229.12844036697246, 1.1684457340058059)\n",
      "(364, 'zwf1_Del', 356.7857142857143, 1.3003880627095132)\n",
      "(387, 'zwf1_Del', 256.15384615384613, 1.094351610624427)\n",
      "(391, 'zwf1_Del', 458.2568807339449, 1.039147859781829)\n",
      "(408, 'zwf1_Del', 567.6136363636364, 1.34677106239459)\n",
      "(420, 'zwf1_Del', 133.2, 1.1188504037608042)\n",
      "(450, 'zwf1_Del', 203.8775510204081, 1.349982262341201)\n",
      "(455, 'zwf1_Del', 169.89795918367346, 2.2963271748547784)\n",
      "(482, 'zwf1_Del', 387.20930232558135, 1.0097519426813775)\n",
      "(502, 'zwf1_Del', 344.4827586206896, 1.0455184982654333)\n",
      "(511, 'zwf1_Del', 475.7142857142857, 1.01049595114241)\n",
      "(535, 'zwf1_Del', 458.2568807339449, 1.013497748227963)\n",
      "(538, 'zwf1_Del', 155.12422360248445, 1.2946953427763588)\n",
      "(540, 'zwf1_Del', 426.92307692307696, 1.0092349834716652)\n",
      "(569, 'zwf1_Del', 213.46153846153848, 1.3178485495947658)\n",
      "(577, 'zwf1_Del', 555.0, 1.0099663414992714)\n",
      "(585, 'zwf1_Del', 375.563909774436, 1.319427555006016)\n",
      "(589, 'zwf1_Del', 328.6184210526315, 1.6649352340692782)\n",
      "(590, 'zwf1_Del', 337.49999999999994, 1.0210494721425893)\n",
      "(595, 'zwf1_Del', 190.64885496183203, 2.492807549111744)\n",
      "(596, 'zwf1_Del', 370.0, 1.1174640068645196)\n",
      "(604, 'zwf1_Del', 1513.6363636363635, 1.0002987418751832)\n",
      "(613, 'zwf1_Del', 202.22672064777328, 2.558597189692955)\n",
      "(622, 'zwf1_Del', 287.0689655172414, 1.1914938638650217)\n",
      "(634, 'zwf1_Del', 193.60465116279067, 1.0787531201244394)\n",
      "(640, 'zwf1_Del', 218.12227074235807, 1.4672100001398911)\n",
      "(641, 'zwf1_Del', 277.5, 1.0754205930238703)\n"
     ]
    }
   ],
   "source": [
    "oscillating_cells = [(list_position, cell.strain, cell.flavin.autoreg.pd, max(cell.flavin.autoreg.power))\n",
    "         for (list_position, cell) in enumerate(Wlist)\n",
    "         if np.isfinite(cell.flavin.autoreg.pd)]\n",
    "for element in oscillating_cells:\n",
    "    print(element)"
   ]
  },
  {
   "cell_type": "code",
   "execution_count": 225,
   "id": "05f58b55",
   "metadata": {},
   "outputs": [
    {
     "name": "stdout",
     "output_type": "stream",
     "text": [
      "[0.0029029]\n",
      "[344.48275862]\n"
     ]
    }
   ],
   "source": [
    "list_position = 502\n",
    "\n",
    "Wlist[list_position].plot_ts()\n",
    "Wlist[list_position].flavin.plot_ps(pdgram='autoreg', pd=False)\n",
    "from scipy.signal import find_peaks\n",
    "peaks, _ = find_peaks(Wlist[list_position].flavin.autoreg.power)\n",
    "print(Wlist[list_position].flavin.autoreg.freqs[peaks])\n",
    "print(1/np.array(Wlist[list_position].flavin.autoreg.freqs[peaks]))"
   ]
  },
  {
   "cell_type": "markdown",
   "id": "437545b1",
   "metadata": {},
   "source": [
    "PROBLEM: there's only one swe1Δ cell that the AR identifies as oscillating.  Changes definitely need to be made to the algorithm.  Perhaps this is where the model selection comes in, but there's _no way_ I'll be able to explore this in time for the conference."
   ]
  },
  {
   "cell_type": "markdown",
   "id": "41a7357e",
   "metadata": {},
   "source": [
    "# For poster"
   ]
  },
  {
   "cell_type": "markdown",
   "id": "f99a744b",
   "metadata": {},
   "source": [
    "Causton - tsa1 tsa2"
   ]
  },
  {
   "cell_type": "code",
   "execution_count": 165,
   "id": "288a75cf",
   "metadata": {},
   "outputs": [
    {
     "data": {
      "text/plain": [
       "array([  41.75      ,   82.85      ,  152.83333333,  202.85      ,\n",
       "        247.88333333,  337.88333333,  347.86666667,  422.88333333,\n",
       "        492.86666667,  502.85      ,  577.88333333,  592.9       ,\n",
       "        652.88333333,  707.9       ,  737.91666667,  812.93333333,\n",
       "        857.88333333,  892.93333333, 1017.93333333])"
      ]
     },
     "execution_count": 165,
     "metadata": {},
     "output_type": "execute_result"
    }
   ],
   "source": [
    "Wlist[264].births"
   ]
  },
  {
   "cell_type": "code",
   "execution_count": 177,
   "id": "6cd2fadf",
   "metadata": {},
   "outputs": [
    {
     "name": "stdout",
     "output_type": "stream",
     "text": [
      "18\n"
     ]
    },
    {
     "data": {
      "text/plain": [
       "Text(0, 0.5, 'Fluorescence, zero-centred (AU)')"
      ]
     },
     "execution_count": 177,
     "metadata": {},
     "output_type": "execute_result"
    }
   ],
   "source": [
    "from pipeline.ar_grima2020 import AR_Fit, AR_Power, optimise_ar_order\n",
    "\n",
    "# Inputs\n",
    "births = np.array([41.75, 82.85, 152.83, 202.85, 247.88, 347.87, 422.88, 502.85, 577.88, 652.88, 707.9, 737.92, 812.93])\n",
    "timeaxis = Wlist[264].time\n",
    "timeseries = Wlist[264].flavin.reading - np.mean(Wlist[264].flavin.reading)\n",
    "\n",
    "# Model TS\n",
    "optimal_ar_order = optimise_ar_order(timeseries, int(3*np.sqrt(len(timeseries))))\n",
    "print(optimal_ar_order)\n",
    "model = AR_Fit(timeseries, optimal_ar_order)\n",
    "timeseries_modelled = np.empty(model.length)\n",
    "for index in range(model.length):\n",
    "    if index < optimal_ar_order:\n",
    "        timeseries_modelled[index] = timeseries[index]\n",
    "    else:\n",
    "        preceding_points = timeseries[index-optimal_ar_order:index]\n",
    "        linear_combination = np.dot(model.ar_coeffs[1::], preceding_points[::-1])\n",
    "        timeseries_modelled[index] = linear_combination"
   ]
  },
  {
   "cell_type": "code",
   "execution_count": 201,
   "id": "d771cb9f",
   "metadata": {},
   "outputs": [
    {
     "data": {
      "text/plain": [
       "Text(0, 0.5, 'Fluorescence, zero-centred (AU)')"
      ]
     },
     "execution_count": 201,
     "metadata": {},
     "output_type": "execute_result"
    }
   ],
   "source": [
    "# Plot time series\n",
    "fig, ax = plt.subplots()\n",
    "fig.set_size_inches((10,4))\n",
    "ax.plot(timeaxis, timeseries, '#b785d5', label = 'Biological time series')\n",
    "ax.plot(timeaxis, timeseries_modelled, '#430467', label = 'Autoregressive model')\n",
    "for birth_count, birth in enumerate(births):\n",
    "    if birth_count == 0:\n",
    "        ax.axvline(birth, ymin = 0, ymax = 1, color = '#6f0aaa', linestyle = '--', label = 'Birth event')\n",
    "    else:\n",
    "        ax.axvline(birth, ymin = 0, ymax = 1, color = '#6f0aaa', linestyle = '--')\n",
    "ax.set_xlim([0,840])\n",
    "ax.set_xticks(np.linspace(0,800,9))\n",
    "ax.legend()\n",
    "plt.title('Autoregressive model overlaid on biological time series')\n",
    "plt.title('tsa1Δ tsa2Δ')\n",
    "plt.xlabel('Time (min)')\n",
    "plt.ylabel('Fluorescence, zero-centred (AU)')"
   ]
  },
  {
   "cell_type": "code",
   "execution_count": 209,
   "id": "f514147d",
   "metadata": {},
   "outputs": [],
   "source": [
    "# Plot periodogram\n",
    "freqs = Wlist[264].flavin.autoreg.freqs\n",
    "power = Wlist[264].flavin.autoreg.power\n",
    "peak_indices, _ = find_peaks(Wlist[264].flavin.autoreg.power)\n",
    "peak_locs = freqs[peak_indices]\n",
    "\n",
    "fig, ax = plt.subplots()\n",
    "ax.plot(freqs, power, '#430467')\n",
    "for peak_index in peak_indices:\n",
    "    ax.axvline(freqs[peak_index], ymin = 0, ymax = power[peak_index],\n",
    "               color = '#6f0aaa', linestyle = ':')\n",
    "ax.set_xlim([0,0.02])\n",
    "ax.set_xticks(np.linspace(0,0.02,5))\n",
    "#ax.set_ylim([0,14])\n",
    "ax.set_xlabel('Frequency ($min^{-1}$)')\n",
    "ax.set_ylabel('Power (dimensionless)')\n",
    "ax.set_title('Autoregressive Model-Based Periodogram')\n",
    "plt.show()"
   ]
  }
 ],
 "metadata": {
  "kernelspec": {
   "display_name": "Python 3",
   "language": "python",
   "name": "python3"
  },
  "language_info": {
   "codemirror_mode": {
    "name": "ipython",
    "version": 3
   },
   "file_extension": ".py",
   "mimetype": "text/x-python",
   "name": "python",
   "nbconvert_exporter": "python",
   "pygments_lexer": "ipython3",
   "version": "3.7.9"
  }
 },
 "nbformat": 4,
 "nbformat_minor": 5
}
