{
 "cells": [
  {
   "cell_type": "markdown",
   "metadata": {},
   "source": [
    "Aim: reconstruct the model fitted to one (or all) of the time series, and draw"
   ]
  },
  {
   "cell_type": "code",
   "execution_count": 16,
   "metadata": {},
   "outputs": [
    {
     "name": "stdout",
     "output_type": "stream",
     "text": [
      "Using matplotlib backend: Qt5Agg\n"
     ]
    }
   ],
   "source": [
    "%matplotlib"
   ]
  },
  {
   "cell_type": "code",
   "execution_count": 57,
   "metadata": {},
   "outputs": [
    {
     "name": "stdout",
     "output_type": "stream",
     "text": [
      "72\n",
      "202\n"
     ]
    }
   ],
   "source": [
    "# Getting the cell objects with the time series and AR stuff\n",
    "# Just doing this for the 2020-02-07 dataset for the time being\n",
    "\n",
    "import numpy as np\n",
    "import scipy as sp\n",
    "import pandas as pd\n",
    "import itertools\n",
    "import matplotlib.pyplot as plt\n",
    "\n",
    "import pipeline.dataimport\n",
    "import pipeline.periodogram\n",
    "import pipeline.tsman\n",
    "import pipeline.vis\n",
    "\n",
    "working_directory = './data/arin/'\n",
    "\n",
    "# Import information for flavin exposure experiment from files\n",
    "Flavin_rawdata = pipeline.dataimport.import_timeseries( \\\n",
    "        working_directory+'Flavinexpostest3_ffcorr_small.csv')\n",
    "Flavin_dcategory = pipeline.dataimport.import_categories( \\\n",
    "        working_directory+'Flavinexpostest3_ffcorr_small_OscillationEvals.txt')\n",
    "Flavin_births = pipeline.dataimport.import_births( \\\n",
    "        working_directory+'Flavinexpostest3_ffcorr_small_births.csv')\n",
    "\n",
    "# Arranges information into DatasetAttr objects\n",
    "Flavin_data = pipeline.dataimport.CellAttr_from_datasets( \\\n",
    "        timeseries_df = Flavin_rawdata,\n",
    "        categories_array = Flavin_dcategory,\n",
    "        births_df = Flavin_births)\n",
    "Flavin = pipeline.DatasetAttr(Flavin_data)\n",
    "\n",
    "# Add just the labels so as not to break things\n",
    "for ii, cell in enumerate(Flavin.cells):\n",
    "    cell.flavin.reading = cell.y\n",
    "    cell.flavin.category = Flavin_dcategory[ii]\n",
    "    \n",
    "def add_classicalAttr(cell, oversampling_factor = 1):\n",
    "    \"\"\"Computes classical periodogram and adds PdgramAttr attributes\"\"\"\n",
    "    cell.flavin.classical.freqs, cell.flavin.classical.power = \\\n",
    "            pipeline.periodogram.classical(cell.time, cell.flavin.reading_processed,\n",
    "                                oversampling_factor = oversampling_factor)\n",
    "\n",
    "def add_autoregAttr(cell):\n",
    "    \"\"\"\n",
    "    Computes autoregressive model-based periodogram and adds PdgramAttr\n",
    "    attributes\n",
    "    \"\"\"\n",
    "    cell.flavin.autoreg = pipeline.PdgramAttr()\n",
    "    cell.flavin.autoreg.label = \\\n",
    "            'Autogressive Model-Based Periodogram (Jia & Grima, 2020)'\n",
    "    cell.flavin.autoreg.power_label = 'Power'\n",
    "    freq_npoints = 1000\n",
    "    cell.flavin.autoreg.freqs, cell.flavin.autoreg.power = \\\n",
    "            pipeline.periodogram.autoreg(cell.time,\n",
    "                                         cell.flavin.reading_processed,\n",
    "                                         freq_npoints)\n",
    "for cell in Flavin.cells:\n",
    "    cell.flavin.reading_processed = \\\n",
    "        pipeline.tsman.stdfilter(cell.flavin.reading, Fs = 1/2.5)\n",
    "\n",
    "pipeline.tsman.population_detrend(Flavin.cells, 'flavin.reading_processed')\n",
    "\n",
    "for cell in [Flavin.cells[72], Flavin.cells[202]]:\n",
    "    # Fourier\n",
    "    add_classicalAttr(cell, oversampling_factor = 1)\n",
    "    # AR\n",
    "    add_autoregAttr(cell)\n",
    "    print(cell.cellid)"
   ]
  },
  {
   "cell_type": "code",
   "execution_count": 65,
   "metadata": {},
   "outputs": [
    {
     "data": {
      "text/plain": [
       "(<Figure size 640x480 with 1 Axes>,\n",
       " <AxesSubplot:title={'center':'Autofluorescence of cell 202 over time'}, xlabel='Time (min)', ylabel='Autofluorescence (AU)'>)"
      ]
     },
     "execution_count": 65,
     "metadata": {},
     "output_type": "execute_result"
    }
   ],
   "source": [
    "cell_index = 202\n",
    "Flavin.cells[cell_index].plot_ts(y_attr='flavin.reading_processed')"
   ]
  },
  {
   "cell_type": "code",
   "execution_count": 66,
   "metadata": {},
   "outputs": [
    {
     "name": "stdout",
     "output_type": "stream",
     "text": [
      "Optimal AR order: 4\n",
      "Mean: 0.005362111031981859\n",
      "Length of timeseries: 360\n",
      "First element: -0.019890735783270184\n",
      "Autocorrelation function coefficients (R):\n",
      " [0.00186265 0.00135426 0.00124595 0.00111805 0.00108519]\n",
      "Autoregression coefficients (phi):\n",
      " [1.         0.46829827 0.21444837 0.0342722  0.13314676]\n",
      "Noise parameter: 0.0007784530439600838\n"
     ]
    }
   ],
   "source": [
    "timeseries = Flavin.cells[cell_index].flavin.reading_processed\n",
    "\n",
    "from pipeline.ar_grima2020 import AR_Fit, AR_Power, optimise_ar_order\n",
    "\n",
    "optimal_ar_order = optimise_ar_order(timeseries, int(3*np.sqrt(len(timeseries))))\n",
    "print(f'Optimal AR order: {optimal_ar_order}')\n",
    "\n",
    "model = AR_Fit(timeseries, optimal_ar_order)\n",
    "print(f\"Mean: {model.mean}\")\n",
    "print(f\"Length of timeseries: {model.length}\")\n",
    "print(f\"First element: {model.timeseries[0]}\")\n",
    "print(f\"Autocorrelation function coefficients (R):\\n {model.sample_acfs}\")\n",
    "print(f\"Autoregression coefficients (phi):\\n {model.ar_coeffs}\")\n",
    "print(f\"Noise parameter: {model.noise_param}\")"
   ]
  },
  {
   "cell_type": "code",
   "execution_count": 67,
   "metadata": {},
   "outputs": [],
   "source": [
    "timeseries_modelled = np.empty(model.length)\n",
    "for index in range(model.length):\n",
    "    if index < optimal_ar_order:\n",
    "        timeseries_modelled[index] = timeseries[index]\n",
    "    else:\n",
    "        preceding_points = timeseries[index-1:index-optimal_ar_order-1:-1] #check for OBOEs\n",
    "        linear_combination = sum([phi*n\n",
    "                                 for phi in model.ar_coeffs[1::]\n",
    "                                 for n in preceding_points]) # matrix multiplication?\n",
    "        timeseries_modelled[index] = (1/model.ar_coeffs[0])*(linear_combination - model.noise_param**2)"
   ]
  },
  {
   "cell_type": "code",
   "execution_count": 8,
   "metadata": {},
   "outputs": [
    {
     "data": {
      "text/plain": [
       "1.0"
      ]
     },
     "execution_count": 8,
     "metadata": {},
     "output_type": "execute_result"
    }
   ],
   "source": [
    "model.ar_coeffs[0]"
   ]
  },
  {
   "cell_type": "code",
   "execution_count": 68,
   "metadata": {},
   "outputs": [
    {
     "data": {
      "text/plain": [
       "[<matplotlib.lines.Line2D at 0x7f1215608f10>]"
      ]
     },
     "execution_count": 68,
     "metadata": {},
     "output_type": "execute_result"
    }
   ],
   "source": [
    "plt.plot(timeseries)"
   ]
  },
  {
   "cell_type": "code",
   "execution_count": 69,
   "metadata": {},
   "outputs": [
    {
     "data": {
      "text/plain": [
       "[<matplotlib.lines.Line2D at 0x7f12155fa580>]"
      ]
     },
     "execution_count": 69,
     "metadata": {},
     "output_type": "execute_result"
    }
   ],
   "source": [
    "plt.plot(timeseries_modelled)"
   ]
  },
  {
   "cell_type": "markdown",
   "metadata": {},
   "source": [
    "Comments\n",
    "- Seems like the frequency sort of checks out\n",
    "- But not the amplitude.  Though that can be scaled.  It's less important than the frequency.  What is the scaling factor?\n",
    "- Do I have to take the first n time points, or can I grab something somewhere in the middle?  It will definitely produce a different output, but will the frequency change?\n",
    "- Definitely a great way to smooth out the time series.\n",
    "- Is the order related to quality by any chance??"
   ]
  },
  {
   "cell_type": "code",
   "execution_count": 46,
   "metadata": {},
   "outputs": [
    {
     "data": {
      "text/plain": [
       "(<Figure size 640x480 with 1 Axes>,\n",
       " <AxesSubplot:title={'center':'Periodogram (spectrum)'}, xlabel='Frequency ($min^{-1}$)', ylabel='Power (dimensionless)'>)"
      ]
     },
     "execution_count": 46,
     "metadata": {},
     "output_type": "execute_result"
    }
   ],
   "source": [
    "Flavin.cells[cell_index].flavin.plot_ps(pdgram='classical')"
   ]
  },
  {
   "cell_type": "code",
   "execution_count": 70,
   "metadata": {},
   "outputs": [],
   "source": [
    "fig, ax = plt.subplots()\n",
    "ax.plot(Flavin.cells[cell_index].flavin.classical.freqs,\n",
    "       Flavin.cells[cell_index].flavin.classical.power)\n",
    "ax.set_xlim([0,0.02])\n",
    "ax.set_ylim([0,110])\n",
    "ax.set_xlabel('Frequency ($min^{-1}$)')\n",
    "ax.set_ylabel('Power (dimensionless)')\n",
    "ax.set_title('Fourier spectrum')\n",
    "plt.show()"
   ]
  },
  {
   "cell_type": "code",
   "execution_count": 47,
   "metadata": {},
   "outputs": [
    {
     "data": {
      "text/plain": [
       "(<Figure size 640x480 with 1 Axes>,\n",
       " <AxesSubplot:title={'center':'Autogressive Model-Based Periodogram (Jia & Grima, 2020)'}, xlabel='Frequency ($min^{-1}$)', ylabel='Power'>)"
      ]
     },
     "execution_count": 47,
     "metadata": {},
     "output_type": "execute_result"
    }
   ],
   "source": [
    "Flavin.cells[cell_index].flavin.plot_ps(pdgram='autoreg')"
   ]
  },
  {
   "cell_type": "code",
   "execution_count": 71,
   "metadata": {},
   "outputs": [],
   "source": [
    "fig, ax = plt.subplots()\n",
    "ax.plot(Flavin.cells[cell_index].flavin.autoreg.freqs,\n",
    "       Flavin.cells[cell_index].flavin.autoreg.power)\n",
    "ax.set_xlim([0,0.02])\n",
    "ax.set_ylim([0,14])\n",
    "ax.set_xlabel('Frequency ($min^{-1}$)')\n",
    "ax.set_ylabel('Power (dimensionless)')\n",
    "ax.set_title('Autoregressive Model-Based Periodogram')\n",
    "plt.show()"
   ]
  }
 ],
 "metadata": {
  "kernelspec": {
   "display_name": "Python 3",
   "language": "python",
   "name": "python3"
  },
  "language_info": {
   "codemirror_mode": {
    "name": "ipython",
    "version": 3
   },
   "file_extension": ".py",
   "mimetype": "text/x-python",
   "name": "python",
   "nbconvert_exporter": "python",
   "pygments_lexer": "ipython3",
   "version": "3.8.5"
  }
 },
 "nbformat": 4,
 "nbformat_minor": 4
}
