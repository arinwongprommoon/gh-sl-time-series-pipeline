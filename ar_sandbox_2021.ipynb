{
 "cells": [
  {
   "cell_type": "markdown",
   "metadata": {},
   "source": [
    "Aim: reconstruct the model fitted to one (or all) of the time series, and draw"
   ]
  },
  {
   "cell_type": "code",
   "execution_count": 1,
   "metadata": {},
   "outputs": [
    {
     "name": "stdout",
     "output_type": "stream",
     "text": [
      "Using matplotlib backend: Qt5Agg\n"
     ]
    }
   ],
   "source": [
    "%matplotlib"
   ]
  },
  {
   "cell_type": "code",
   "execution_count": 2,
   "metadata": {},
   "outputs": [
    {
     "name": "stdout",
     "output_type": "stream",
     "text": [
      "72\n",
      "202\n"
     ]
    }
   ],
   "source": [
    "# Getting the cell objects with the time series and AR stuff\n",
    "# Just doing this for the 2020-02-07 dataset for the time being\n",
    "\n",
    "import numpy as np\n",
    "import scipy as sp\n",
    "import pandas as pd\n",
    "import itertools\n",
    "import matplotlib.pyplot as plt\n",
    "\n",
    "import pipeline.dataimport\n",
    "import pipeline.periodogram\n",
    "import pipeline.tsman\n",
    "import pipeline.vis\n",
    "\n",
    "working_directory = './data/arin/'\n",
    "\n",
    "# Import information for flavin exposure experiment from files\n",
    "Flavin_rawdata = pipeline.dataimport.import_timeseries( \\\n",
    "        working_directory+'Flavinexpostest3_ffcorr_small.csv')\n",
    "Flavin_dcategory = pipeline.dataimport.import_categories( \\\n",
    "        working_directory+'Flavinexpostest3_ffcorr_small_OscillationEvals.txt')\n",
    "Flavin_births = pipeline.dataimport.import_births( \\\n",
    "        working_directory+'Flavinexpostest3_ffcorr_small_births.csv')\n",
    "\n",
    "# Arranges information into DatasetAttr objects\n",
    "Flavin_data = pipeline.dataimport.CellAttr_from_datasets( \\\n",
    "        timeseries_df = Flavin_rawdata,\n",
    "        categories_array = Flavin_dcategory,\n",
    "        births_df = Flavin_births)\n",
    "Flavin = pipeline.DatasetAttr(Flavin_data)\n",
    "\n",
    "# Add just the labels so as not to break things\n",
    "for ii, cell in enumerate(Flavin.cells):\n",
    "    cell.flavin.reading = cell.y\n",
    "    cell.flavin.category = Flavin_dcategory[ii]\n",
    "    \n",
    "def add_classicalAttr(cell, oversampling_factor = 1):\n",
    "    \"\"\"Computes classical periodogram and adds PdgramAttr attributes\"\"\"\n",
    "    cell.flavin.classical.freqs, cell.flavin.classical.power = \\\n",
    "            pipeline.periodogram.classical(cell.time, cell.flavin.reading_processed,\n",
    "                                oversampling_factor = oversampling_factor)\n",
    "\n",
    "def add_autoregAttr(cell):\n",
    "    \"\"\"\n",
    "    Computes autoregressive model-based periodogram and adds PdgramAttr\n",
    "    attributes\n",
    "    \"\"\"\n",
    "    cell.flavin.autoreg = pipeline.PdgramAttr()\n",
    "    cell.flavin.autoreg.label = \\\n",
    "            'Autogressive Model-Based Periodogram (Jia & Grima, 2020)'\n",
    "    cell.flavin.autoreg.power_label = 'Power'\n",
    "    freq_npoints = 1000\n",
    "    cell.flavin.autoreg.freqs, cell.flavin.autoreg.power = \\\n",
    "            pipeline.periodogram.autoreg(cell.time,\n",
    "                                         cell.flavin.reading_processed,\n",
    "                                         freq_npoints)\n",
    "for cell in Flavin.cells:\n",
    "    cell.flavin.reading_processed = \\\n",
    "        pipeline.tsman.stdfilter(cell.flavin.reading, Fs = 1/2.5)\n",
    "\n",
    "pipeline.tsman.population_detrend(Flavin.cells, 'flavin.reading_processed')\n",
    "\n",
    "for cell in [Flavin.cells[72], Flavin.cells[202]]:\n",
    "    # Fourier\n",
    "    add_classicalAttr(cell, oversampling_factor = 1)\n",
    "    # AR\n",
    "    add_autoregAttr(cell)\n",
    "    print(cell.cellid)"
   ]
  },
  {
   "cell_type": "code",
   "execution_count": 52,
   "metadata": {},
   "outputs": [
    {
     "data": {
      "text/plain": [
       "(<Figure size 640x480 with 1 Axes>,\n",
       " <AxesSubplot:title={'center':'Autofluorescence of cell 202 over time'}, xlabel='Time (min)', ylabel='Autofluorescence (AU)'>)"
      ]
     },
     "execution_count": 52,
     "metadata": {},
     "output_type": "execute_result"
    }
   ],
   "source": [
    "cell_index = 202\n",
    "Flavin.cells[cell_index].plot_ts(y_attr='flavin.reading_processed')"
   ]
  },
  {
   "cell_type": "code",
   "execution_count": 53,
   "metadata": {},
   "outputs": [
    {
     "name": "stdout",
     "output_type": "stream",
     "text": [
      "Optimal AR order: 4\n",
      "Mean: 0.005362111031981859\n",
      "Length of timeseries: 360\n",
      "First element: -0.019890735783270184\n",
      "Autocorrelation function coefficients (R):\n",
      " [0.00186265 0.00135426 0.00124595 0.00111805 0.00108519]\n",
      "Autoregression coefficients (phi):\n",
      " [1.         0.46829827 0.21444837 0.0342722  0.13314676]\n",
      "Noise parameter: 0.0007784530439600838\n"
     ]
    }
   ],
   "source": [
    "# Fitting and estimating parameters\n",
    "timeseries = Flavin.cells[cell_index].flavin.reading_processed\n",
    "timeaxis = Flavin.cells[cell_index].time\n",
    "\n",
    "from pipeline.ar_grima2020 import AR_Fit, AR_Power, optimise_ar_order\n",
    "\n",
    "optimal_ar_order = optimise_ar_order(timeseries, int(3*np.sqrt(len(timeseries))))\n",
    "print(f'Optimal AR order: {optimal_ar_order}')\n",
    "\n",
    "model = AR_Fit(timeseries, optimal_ar_order)\n",
    "print(f\"Mean: {model.mean}\")\n",
    "print(f\"Length of timeseries: {model.length}\")\n",
    "print(f\"First element: {model.timeseries[0]}\")\n",
    "print(f\"Autocorrelation function coefficients (R):\\n {model.sample_acfs}\")\n",
    "print(f\"Autoregression coefficients (phi):\\n {model.ar_coeffs}\")\n",
    "print(f\"Noise parameter: {model.noise_param}\")"
   ]
  },
  {
   "cell_type": "code",
   "execution_count": 54,
   "metadata": {},
   "outputs": [
    {
     "name": "stdout",
     "output_type": "stream",
     "text": [
      "Complex roots:\n",
      " [-1.07172158-0.99284438j -1.07172158+0.99284438j  0.94302073-1.62161152j\n",
      "  0.94302073+1.62161152j]\n",
      "Absolute values:\n",
      " [1.46093364 1.46093364 1.87587633 1.87587633]\n"
     ]
    }
   ],
   "source": [
    "# Checks if phi values satisfies unit circle condition\n",
    "from numpy.polynomial import Polynomial\n",
    "phi_polynomial = Polynomial(model.ar_coeffs)\n",
    "print(f\"Complex roots:\\n {phi_polynomial.roots()}\")\n",
    "print(f\"Absolute values:\\n {np.abs(phi_polynomial.roots())}\")"
   ]
  },
  {
   "cell_type": "code",
   "execution_count": 55,
   "metadata": {},
   "outputs": [],
   "source": [
    "# Compute model time series (reverse-engineering from parameters)\n",
    "timeseries_modelled = np.empty(model.length)\n",
    "for index in range(model.length):\n",
    "    if index < optimal_ar_order:\n",
    "        timeseries_modelled[index] = timeseries[index]\n",
    "    else:\n",
    "        preceding_points = timeseries[index-optimal_ar_order:index]\n",
    "        linear_combination = np.dot(model.ar_coeffs[1::], preceding_points[::-1])\n",
    "        timeseries_modelled[index] = linear_combination"
   ]
  },
  {
   "cell_type": "code",
   "execution_count": 7,
   "metadata": {},
   "outputs": [
    {
     "data": {
      "text/plain": [
       "1.0"
      ]
     },
     "execution_count": 7,
     "metadata": {},
     "output_type": "execute_result"
    }
   ],
   "source": [
    "model.ar_coeffs[0]"
   ]
  },
  {
   "cell_type": "code",
   "execution_count": 39,
   "metadata": {},
   "outputs": [
    {
     "data": {
      "text/plain": [
       "Text(0, 0.5, 'Fluorescence (AU)')"
      ]
     },
     "execution_count": 39,
     "metadata": {},
     "output_type": "execute_result"
    }
   ],
   "source": [
    "# Time series\n",
    "plt.plot(timeaxis, timeseries)\n",
    "plt.title('Biological time series')\n",
    "plt.xlabel('Time (min)')\n",
    "plt.ylabel('Fluorescence (AU)')"
   ]
  },
  {
   "cell_type": "code",
   "execution_count": 40,
   "metadata": {},
   "outputs": [
    {
     "data": {
      "text/plain": [
       "Text(0, 0.5, 'Fluorescence (AU)')"
      ]
     },
     "execution_count": 40,
     "metadata": {},
     "output_type": "execute_result"
    }
   ],
   "source": [
    "# Model\n",
    "plt.plot(timeaxis, timeseries_modelled)\n",
    "plt.title('Autoregressive model')\n",
    "plt.xlabel('Time (min)')\n",
    "plt.ylabel('Fluorescence (AU)')"
   ]
  },
  {
   "cell_type": "code",
   "execution_count": 57,
   "metadata": {},
   "outputs": [
    {
     "data": {
      "text/plain": [
       "Text(0, 0.5, 'Fluorescence (AU)')"
      ]
     },
     "execution_count": 57,
     "metadata": {},
     "output_type": "execute_result"
    }
   ],
   "source": [
    "# Overlay\n",
    "fig, ax = plt.subplots()\n",
    "fig.set_size_inches((10,4))\n",
    "ax.plot(timeaxis, timeseries, '#b785d5', label = 'Biological time series')\n",
    "ax.plot(timeaxis, timeseries_modelled, '#430467', label = 'Autoregressive model')\n",
    "ax.legend()\n",
    "#plt.title('Autoregressive model overlaid on biological time series')\n",
    "plt.title('Bad quality time series')\n",
    "plt.xlabel('Time (min)')\n",
    "plt.ylabel('Fluorescence (AU)')"
   ]
  },
  {
   "cell_type": "markdown",
   "metadata": {},
   "source": [
    "Comments\n",
    "- Not all phi values satisfy the unit circle condition, but it could just be the result of numerical method upon numerical method; the absolute values are quite close to 1 anyway.\n",
    "- Do I have to take the first n time points, or can I grab something somewhere in the middle?  It will definitely produce a different output, but will the frequency change?\n",
    "- Definitely a great way to smooth out the time series.\n",
    "- Is the order related to quality by any chance??"
   ]
  },
  {
   "cell_type": "code",
   "execution_count": 11,
   "metadata": {},
   "outputs": [
    {
     "data": {
      "text/plain": [
       "(<Figure size 640x480 with 1 Axes>,\n",
       " <AxesSubplot:title={'center':'Periodogram (spectrum)'}, xlabel='Frequency ($min^{-1}$)', ylabel='Power (dimensionless)'>)"
      ]
     },
     "execution_count": 11,
     "metadata": {},
     "output_type": "execute_result"
    }
   ],
   "source": [
    "Flavin.cells[cell_index].flavin.plot_ps(pdgram='classical')"
   ]
  },
  {
   "cell_type": "code",
   "execution_count": 58,
   "metadata": {},
   "outputs": [],
   "source": [
    "fig, ax = plt.subplots()\n",
    "ax.plot(Flavin.cells[cell_index].flavin.classical.freqs,\n",
    "       Flavin.cells[cell_index].flavin.classical.power,\n",
    "       '#b785d5')\n",
    "ax.set_xlim([0,0.02])\n",
    "ax.set_xticks(np.linspace(0,0.02,5))\n",
    "ax.set_ylim([0,110])\n",
    "ax.set_xlabel('Frequency ($min^{-1}$)')\n",
    "ax.set_ylabel('Power (dimensionless)')\n",
    "ax.set_title('Fourier spectrum')\n",
    "plt.show()"
   ]
  },
  {
   "cell_type": "code",
   "execution_count": 13,
   "metadata": {},
   "outputs": [
    {
     "data": {
      "text/plain": [
       "(<Figure size 640x480 with 1 Axes>,\n",
       " <AxesSubplot:title={'center':'Autogressive Model-Based Periodogram (Jia & Grima, 2020)'}, xlabel='Frequency ($min^{-1}$)', ylabel='Power'>)"
      ]
     },
     "execution_count": 13,
     "metadata": {},
     "output_type": "execute_result"
    }
   ],
   "source": [
    "Flavin.cells[cell_index].flavin.plot_ps(pdgram='autoreg')"
   ]
  },
  {
   "cell_type": "code",
   "execution_count": 59,
   "metadata": {},
   "outputs": [],
   "source": [
    "fig, ax = plt.subplots()\n",
    "ax.plot(Flavin.cells[cell_index].flavin.autoreg.freqs,\n",
    "       Flavin.cells[cell_index].flavin.autoreg.power,\n",
    "       '#430467')\n",
    "ax.set_xlim([0,0.02])\n",
    "ax.set_xticks(np.linspace(0,0.02,5))\n",
    "ax.set_ylim([0,14])\n",
    "ax.set_xlabel('Frequency ($min^{-1}$)')\n",
    "ax.set_ylabel('Power (dimensionless)')\n",
    "ax.set_title('Autoregressive Model-Based Periodogram')\n",
    "plt.show()"
   ]
  },
  {
   "cell_type": "code",
   "execution_count": 14,
   "metadata": {},
   "outputs": [
    {
     "name": "stdout",
     "output_type": "stream",
     "text": [
      "22.019471372219606\n",
      "1.0\n",
      "22.019471372219606\n"
     ]
    }
   ],
   "source": [
    "c = max(Flavin.cells[cell_index].flavin.classical.power)\n",
    "a = max(Flavin.cells[cell_index].flavin.autoreg.power)\n",
    "print(c)\n",
    "print(a)\n",
    "print(c/a)"
   ]
  }
 ],
 "metadata": {
  "kernelspec": {
   "display_name": "Python 3",
   "language": "python",
   "name": "python3"
  },
  "language_info": {
   "codemirror_mode": {
    "name": "ipython",
    "version": 3
   },
   "file_extension": ".py",
   "mimetype": "text/x-python",
   "name": "python",
   "nbconvert_exporter": "python",
   "pygments_lexer": "ipython3",
   "version": "3.8.5"
  }
 },
 "nbformat": 4,
 "nbformat_minor": 4
}
