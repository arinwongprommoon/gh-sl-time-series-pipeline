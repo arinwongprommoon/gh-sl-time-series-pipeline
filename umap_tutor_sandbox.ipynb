{
 "cells": [
  {
   "cell_type": "code",
   "execution_count": null,
   "id": "8c1f51aa",
   "metadata": {},
   "outputs": [],
   "source": [
    "import numpy as np\n",
    "from sklearn.datasets import load_digits\n",
    "from sklearn.model_selection import train_test_split\n",
    "from sklearn.preprocessing import StandardScaler\n",
    "import matplotlib.pyplot as plt\n",
    "import seaborn as sns\n",
    "import pandas as pd\n",
    "%matplotlib inline\n",
    "\n",
    "sns.set(style='white', context='notebook', rc={'figure.figsize':(14,10)})"
   ]
  },
  {
   "cell_type": "markdown",
   "id": "0a38bfe1",
   "metadata": {},
   "source": [
    "# Penguins"
   ]
  },
  {
   "cell_type": "markdown",
   "id": "0807e506",
   "metadata": {},
   "source": [
    "Load penguins dataset.\n",
    "\n",
    "Features include:\n",
    "1. Culmen length\n",
    "2. Culmen depth\n",
    "3. Flipper length\n",
    "4. Body mass"
   ]
  },
  {
   "cell_type": "code",
   "execution_count": null,
   "id": "4d90d05c",
   "metadata": {},
   "outputs": [],
   "source": [
    "penguins = pd.read_csv(\"https://github.com/allisonhorst/palmerpenguins/raw/5b5891f01b52ae26ad8cb9755ec93672f49328a8/data/penguins_size.csv\")\n",
    "penguins.head()"
   ]
  },
  {
   "cell_type": "markdown",
   "id": "9dd9e6cc",
   "metadata": {},
   "source": [
    "Get rid of NaNs and count species"
   ]
  },
  {
   "cell_type": "code",
   "execution_count": null,
   "id": "b3b71c3a",
   "metadata": {},
   "outputs": [],
   "source": [
    "penguins = penguins.dropna()\n",
    "penguins.species_short.value_counts()"
   ]
  },
  {
   "cell_type": "markdown",
   "id": "ad2a1429",
   "metadata": {},
   "source": [
    "Visualise features, with nodes coloured by species.  This helps visualise an otherwise 4-dimensional space."
   ]
  },
  {
   "cell_type": "code",
   "execution_count": null,
   "id": "f323175a",
   "metadata": {},
   "outputs": [],
   "source": [
    "sns.pairplot(penguins, hue='species_short')"
   ]
  },
  {
   "cell_type": "markdown",
   "id": "27e20edd",
   "metadata": {},
   "source": [
    "UMAP pipeline: reduce dimensionality\n",
    "\n",
    "Note: I tried it and each iteration gives a different 'rotation', but the gist of it is the same each time."
   ]
  },
  {
   "cell_type": "code",
   "execution_count": null,
   "id": "bd078843",
   "metadata": {},
   "outputs": [],
   "source": [
    "import umap\n",
    "\n",
    "# Instantiates class\n",
    "reducer = umap.UMAP()\n",
    "\n",
    "# Pull out the quantitative data (i.e. features) and normalise\n",
    "penguin_data = penguins[\n",
    "    [\n",
    "        \"culmen_length_mm\",\n",
    "        \"culmen_depth_mm\",\n",
    "        \"flipper_length_mm\",\n",
    "        \"body_mass_g\",\n",
    "    ]\n",
    "].values\n",
    "scaled_penguin_data = StandardScaler().fit_transform(penguin_data)\n",
    "\n",
    "# Fit reducer to features and transform.\n",
    "# This reduces it to two dimensions\n",
    "# (is there an option to change to 3 dimensions?  n dimensions?)\n",
    "embedding = reducer.fit_transform(scaled_penguin_data)"
   ]
  },
  {
   "cell_type": "markdown",
   "id": "25d28a8a",
   "metadata": {},
   "source": [
    "Plot"
   ]
  },
  {
   "cell_type": "code",
   "execution_count": null,
   "id": "2512e5ba",
   "metadata": {},
   "outputs": [],
   "source": [
    "plt.scatter(\n",
    "    embedding[:, 0],\n",
    "    embedding[:, 1],\n",
    "    c=[sns.color_palette()[x] for x in penguins.species_short.map({\"Adelie\":0, \"Chinstrap\":1, \"Gentoo\":2})])\n",
    "plt.gca().set_aspect('equal', 'datalim')\n",
    "plt.title('UMAP projection of the Penguin dataset', fontsize=24)"
   ]
  },
  {
   "cell_type": "markdown",
   "id": "1dc09202",
   "metadata": {},
   "source": [
    "# Digits"
   ]
  },
  {
   "cell_type": "code",
   "execution_count": null,
   "id": "7bfe52b4",
   "metadata": {},
   "outputs": [],
   "source": [
    "# Load data\n",
    "digits = load_digits()"
   ]
  },
  {
   "cell_type": "code",
   "execution_count": null,
   "id": "ffe924f6",
   "metadata": {},
   "outputs": [],
   "source": [
    "# Visualise some of the data -- they are images\n",
    "fig, ax_array = plt.subplots(20, 20)\n",
    "axes = ax_array.flatten()\n",
    "for i, ax in enumerate(axes):\n",
    "    ax.imshow(digits.images[i], cmap='gray_r')\n",
    "plt.setp(axes, xticks=[], yticks=[], frame_on=False)\n",
    "plt.tight_layout(h_pad=0.5, w_pad=0.01)"
   ]
  },
  {
   "cell_type": "code",
   "execution_count": null,
   "id": "d01b96d8",
   "metadata": {},
   "outputs": [],
   "source": [
    "# First approach: scatterplot matrix of features\n",
    "# Here, the features are the intensities (white <--> black) of each of the 64 pixels, 64 features in total.\n",
    "# These scatterplots shows just 10 features and how it is difficult to discern which features are the most important.\n",
    "digits_df = pd.DataFrame(digits.data[:,1:11])\n",
    "digits_df['digit'] = pd.Series(digits.target).map(lambda x: 'Digit {}'.format(x))\n",
    "sns.pairplot(digits_df, hue='digit', palette='Spectral')"
   ]
  },
  {
   "cell_type": "code",
   "execution_count": null,
   "id": "afda38b9",
   "metadata": {},
   "outputs": [],
   "source": [
    "# Fit reducer (with seed)\n",
    "reducer = umap.UMAP(random_state=42)\n",
    "reducer.fit(digits.data)\n",
    "\n",
    "# Access transform\n",
    "embedding = reducer.transform(digits.data)\n",
    "\n",
    "# Plot and colour by class (i.e. digit)\n",
    "plt.scatter(embedding[:, 0], embedding[:, 1], c=digits.target, cmap='Spectral', s=5)\n",
    "plt.gca().set_aspect('equal', 'datalim')\n",
    "plt.colorbar(boundaries=np.arange(11)-0.5).set_ticks(np.arange(10))\n",
    "plt.title('UMAP projection of the Digits dataset', fontsize=24);"
   ]
  }
 ],
 "metadata": {
  "kernelspec": {
   "display_name": "aliby",
   "language": "python",
   "name": "aliby"
  },
  "language_info": {
   "codemirror_mode": {
    "name": "ipython",
    "version": 3
   },
   "file_extension": ".py",
   "mimetype": "text/x-python",
   "name": "python",
   "nbconvert_exporter": "python",
   "pygments_lexer": "ipython3",
   "version": "3.7.9"
  }
 },
 "nbformat": 4,
 "nbformat_minor": 5
}
