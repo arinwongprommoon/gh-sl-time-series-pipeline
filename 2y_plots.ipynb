{
 "cells": [
  {
   "cell_type": "markdown",
   "metadata": {},
   "source": [
    "# General"
   ]
  },
  {
   "cell_type": "markdown",
   "metadata": {},
   "source": [
    "Specify file name and sampling period"
   ]
  },
  {
   "cell_type": "code",
   "execution_count": 79,
   "metadata": {},
   "outputs": [
    {
     "name": "stdout",
     "output_type": "stream",
     "text": [
      "Using matplotlib backend: Qt5Agg\n"
     ]
    },
    {
     "data": {
      "text/plain": [
       "<module 'pipeline.vis' from '/home/arin/phd/phd-time-series-pipeline/pipeline/vis.py'>"
      ]
     },
     "execution_count": 79,
     "metadata": {},
     "output_type": "execute_result"
    }
   ],
   "source": [
    "filename_prefix = './data/arin/Omero20016_'\n",
    "sampling_period = 5\n",
    "remain = 0.8\n",
    "\n",
    "%matplotlib"
   ]
  },
  {
   "cell_type": "markdown",
   "metadata": {},
   "source": [
    "Main shebang (this probably isn't the purpose of a jupyter notebook)"
   ]
  },
  {
   "cell_type": "code",
   "execution_count": 84,
   "metadata": {},
   "outputs": [],
   "source": [
    "#!/usr/bin/env python3\n",
    "import os\n",
    "\n",
    "import numpy as np\n",
    "import scipy as sp\n",
    "import pandas as pd\n",
    "import itertools\n",
    "import matplotlib.pyplot as plt\n",
    "import sklearn.metrics\n",
    "import igraph as ig\n",
    "\n",
    "import pipeline.dataexport\n",
    "import pipeline.dataimport\n",
    "import pipeline.periodogram\n",
    "import pipeline.score\n",
    "import pipeline.tsman\n",
    "import pipeline.vis\n",
    "\n",
    "import featext.tsman\n",
    "import featext.graph\n",
    "import featext.vis\n",
    "\n",
    "import catch22\n",
    "import leidenalg\n",
    "\n",
    "def add_classicalAttr(cell, oversampling_factor = 1):\n",
    "    \"\"\"Computes classical periodogram and adds PdgramAttr attributes\"\"\"\n",
    "    cell.flavin.classical.freqs, cell.flavin.classical.power = \\\n",
    "            pipeline.periodogram.classical(cell.time, cell.flavin.reading_processed,\n",
    "                                oversampling_factor = oversampling_factor)\n",
    "\n",
    "def add_bglsAttr(cell):\n",
    "    \"\"\"Computes BGLS and adds PdgramAttr attributes\"\"\"\n",
    "    cell.flavin.bgls = pipeline.PdgramAttr()\n",
    "    cell.flavin.bgls.label = 'Bayesian General Lomb-Scargle Periodogram'\n",
    "    cell.flavin.bgls.power_label = 'Probability'\n",
    "    err = np.ones(len(cell.flavin.reading_processed))*\\\n",
    "            np.sqrt(np.max(cell.flavin.reading_processed))\n",
    "    cell.flavin.bgls.freqs, cell.flavin.bgls.power = \\\n",
    "            pipeline.periodogram.bgls(cell.time, cell.flavin.reading_processed, err,\n",
    "                    plow = 30.0, phigh = 360.0, ofac = 5)\n",
    "\n",
    "def add_autoregAttr(cell):\n",
    "    \"\"\"\n",
    "    Computes autoregressive model-based periodogram and adds PdgramAttr\n",
    "    attributes\n",
    "    \"\"\"\n",
    "    cell.flavin.autoreg = pipeline.PdgramAttr()\n",
    "    cell.flavin.autoreg.label = \\\n",
    "            'Autogressive Model-Based Periodogram (Jia & Grima, 2020)'\n",
    "    cell.flavin.autoreg.power_label = 'Power'\n",
    "    freq_npoints = 1000\n",
    "    cell.flavin.autoreg.freqs, cell.flavin.autoreg.power = \\\n",
    "            pipeline.periodogram.autoreg(cell.time,\n",
    "                                         cell.flavin.reading_processed,\n",
    "                                         freq_npoints)\n",
    "\n",
    "# FLAVIN: import data and process objects\n",
    "\n",
    "# Import fluorescence info from CSVs\n",
    "Dset_flavin = pipeline.dataimport.import_timeseries(\n",
    "    filename_prefix+'flavin.csv', remain = remain)\n",
    "# dummy so I get code to not complain; will be re-factored later\n",
    "Dset_dcategory = [3] * len(Dset_flavin)\n",
    "Dset_births = pipeline.dataimport.import_births(\n",
    "    filename_prefix+'births.csv')\n",
    "\n",
    "# Arranges information into DatasetAttr objects\n",
    "Dset_data = pipeline.dataimport.CellAttr_from_datasets( \\\n",
    "        timeseries_df = Dset_flavin,\n",
    "        categories_array = Dset_dcategory,\n",
    "        births_df = Dset_births,\n",
    "        sampling_pd = sampling_period)\n",
    "Dset = pipeline.DatasetAttr(Dset_data)\n",
    "\n",
    "# Add labels\n",
    "strainlookup = pd.read_csv(filename_prefix+'strains.csv', \\\n",
    "                          index_col = 'position')\n",
    "for ii, cell in enumerate(Dset.cells):\n",
    "    cell.source = filename_prefix\n",
    "    cell.medium.base = 'Delft'\n",
    "    cell.medium.nutrients = {'glucose': 10}\n",
    "\n",
    "    cell.strain = strainlookup.loc[cell.position].strain\n",
    "\n",
    "    cell.flavin = pipeline.Fluo('flavin')\n",
    "    cell.flavin.exposure = 60\n",
    "    cell.flavin.reading = cell.y\n",
    "    cell.flavin.category = Dset_dcategory[ii]\n",
    "\n",
    "\n",
    "# mCherry: import data and process objects\n",
    "try:\n",
    "    Dset_mCherry_unsliced = pipeline.dataimport.import_timeseries(\n",
    "        filename_prefix+'mCherry.csv', remain = remain)\n",
    "    # restrict to cells with flavin readings\n",
    "    idx_both = list(set(Dset_flavin.cellID) & set(Dset_mCherry_unsliced.cellID))\n",
    "    Dset_mCherry = \\\n",
    "            Dset_mCherry_unsliced.loc[Dset_mCherry_unsliced.cellID.isin(idx_both)]\n",
    "\n",
    "    # Arranges information into DatasetAttr objects\n",
    "    # dummy -- will be better when I re-structure things... am just re-using a \n",
    "    # function for quick-and-dirty purposes, and it's obviously redundant\n",
    "    mCherry_data = pipeline.dataimport.CellAttr_from_datasets( \\\n",
    "            timeseries_df = Dset_mCherry,\n",
    "            categories_array = Dset_dcategory,\n",
    "            births_df = Dset_births,\n",
    "            sampling_pd = sampling_period)\n",
    "    mCherry = pipeline.DatasetAttr(mCherry_data)\n",
    "    mCherry_MATLABids = [cell.MATLABid for cell in mCherry.cells]\n",
    "\n",
    "    # Add labels\n",
    "    for ii, cell in enumerate(Dset.cells):\n",
    "        cell.mCherry = pipeline.Fluo('mCherry')\n",
    "        if cell.strain == 'htb2_mCherry_CRISPR':\n",
    "            cell.mCherry.exposure = 100\n",
    "        else:\n",
    "            cell.mCherry.exposure = 0\n",
    "\n",
    "        # loads in reading, cross-referencing by MATLABid.  This is awful, I know.\n",
    "        if cell.MATLABid in mCherry_MATLABids:\n",
    "            cell.mCherry.reading = \\\n",
    "                mCherry.cells[mCherry_MATLABids.index(cell.MATLABid)].y\n",
    "except FileNotFoundError as error:\n",
    "    print(error)\n",
    "    print(f'No mCherry time series associated with this experiment: {filename_prefix}')"
   ]
  },
  {
   "cell_type": "markdown",
   "metadata": {},
   "source": [
    "Define working dataset (list of cells)"
   ]
  },
  {
   "cell_type": "code",
   "execution_count": 19,
   "metadata": {},
   "outputs": [
    {
     "data": {
      "text/plain": [
       "1330"
      ]
     },
     "execution_count": 19,
     "metadata": {},
     "output_type": "execute_result"
    }
   ],
   "source": [
    "Wlist = Dset.cells\n",
    "#Wlist = [cell for cell in Dset.cells if cell.strain == 'FY4']\n",
    "len(Wlist)"
   ]
  },
  {
   "cell_type": "markdown",
   "metadata": {},
   "source": [
    "Optional: filters"
   ]
  },
  {
   "cell_type": "code",
   "execution_count": null,
   "metadata": {},
   "outputs": [],
   "source": [
    "for cell in itertools.chain(Wlist):\n",
    "    cell.flavin.reading_processed = \\\n",
    "            pipeline.tsman.stdfilter(cell.flavin.reading, Fs = 1/sampling_period)\n",
    "pipeline.tsman.population_detrend(Wlist, 'flavin.reading_processed')"
   ]
  },
  {
   "cell_type": "markdown",
   "metadata": {},
   "source": [
    "Optional: chop up time series"
   ]
  },
  {
   "cell_type": "code",
   "execution_count": 127,
   "metadata": {},
   "outputs": [],
   "source": [
    "interval_start = 0\n",
    "interval_end = 168\n",
    "\n",
    "for cell in Wlist:\n",
    "    cell.time = cell.time[interval_start:interval_end]\n",
    "    cell.flavin.reading = cell.flavin.reading[interval_start:interval_end]"
   ]
  },
  {
   "cell_type": "markdown",
   "metadata": {},
   "source": [
    "Optional: normalise for heatmap"
   ]
  },
  {
   "cell_type": "code",
   "execution_count": 40,
   "metadata": {},
   "outputs": [],
   "source": [
    "for cell in Wlist:\n",
    "    ts_mean = np.nanmean(cell.flavin.reading)\n",
    "    ts_range = np.nanmax(cell.flavin.reading) - np.nanmin(cell.flavin.reading)\n",
    "    cell.flavin.reading_processed = (cell.flavin.reading - ts_mean)/ts_range"
   ]
  },
  {
   "cell_type": "markdown",
   "metadata": {},
   "source": [
    "Optional: add spectra"
   ]
  },
  {
   "cell_type": "code",
   "execution_count": null,
   "metadata": {},
   "outputs": [],
   "source": [
    "for cell in Wlist:\n",
    "    cell.flavin.reading_processed = cell.flavin.reading\n",
    "    add_classicalAttr(cell, oversampling_factor = 1)\n",
    "    #add_bglsAttr(cell)\n",
    "    add_autoregAttr(cell)"
   ]
  },
  {
   "cell_type": "markdown",
   "metadata": {},
   "source": [
    "General plotting"
   ]
  },
  {
   "cell_type": "code",
   "execution_count": 20,
   "metadata": {
    "scrolled": true
   },
   "outputs": [
    {
     "name": "stdout",
     "output_type": "stream",
     "text": [
      "zwf1_Del\n",
      "1002\n",
      "14\n"
     ]
    }
   ],
   "source": [
    "cell_index = 1001\n",
    "y_attr = 'flavin.reading'\n",
    "\n",
    "Wlist[cell_index].plot_ts(y_attr=y_attr)\n",
    "print(Wlist[cell_index].strain)\n",
    "print(Wlist[cell_index].MATLABid)\n",
    "print(Wlist[cell_index].position)"
   ]
  },
  {
   "cell_type": "code",
   "execution_count": 21,
   "metadata": {},
   "outputs": [
    {
     "data": {
      "text/plain": [
       "Text(0, 0.5, 'Fluorescence (AU)')"
      ]
     },
     "execution_count": 21,
     "metadata": {},
     "output_type": "execute_result"
    }
   ],
   "source": [
    "# With CSHL2021/BYG2021 colour palette\n",
    "timeseries = Wlist[cell_index].flavin.reading\n",
    "timeaxis = Wlist[cell_index].time\n",
    "strain_name = 'zwf1Δ'\n",
    "\n",
    "\n",
    "fig, ax = plt.subplots()\n",
    "fig.set_size_inches((10,4))\n",
    "\n",
    "ax.plot(timeaxis, timeseries, '#3714b0')\n",
    "if Wlist[cell_index].births.any():\n",
    "    for birth in Wlist[cell_index].births:\n",
    "        ax.axvline(birth, ymin = 0, ymax = 1,\n",
    "                   color = '#cb0077', linestyle = '--')\n",
    "        \n",
    "plt.title(strain_name)\n",
    "plt.xlabel('Time (min)')\n",
    "plt.ylabel('Fluorescence (AU)')"
   ]
  },
  {
   "cell_type": "markdown",
   "metadata": {},
   "source": [
    "Kymograph"
   ]
  },
  {
   "cell_type": "code",
   "execution_count": 51,
   "metadata": {},
   "outputs": [],
   "source": [
    "cell_attr = 'flavin.reading_processed'\n",
    "\n",
    "pipeline.vis.kymograph(Wlist, cell_attr=cell_attr,\n",
    "                      order_by='distfromcentre')"
   ]
  },
  {
   "cell_type": "markdown",
   "metadata": {},
   "source": [
    "# Plots for presentation"
   ]
  },
  {
   "cell_type": "markdown",
   "metadata": {},
   "source": [
    "Synchrony of YMCs"
   ]
  },
  {
   "cell_type": "code",
   "execution_count": 83,
   "metadata": {},
   "outputs": [],
   "source": [
    "filename_prefix = './data/arin/Omero19972_'\n",
    "remain = 1\n",
    "# THEN RUN MAIN SHEBANG"
   ]
  },
  {
   "cell_type": "code",
   "execution_count": 85,
   "metadata": {},
   "outputs": [
    {
     "name": "stdout",
     "output_type": "stream",
     "text": [
      "264\n",
      "111\n"
     ]
    }
   ],
   "source": [
    "Wlist = [cell for cell in Dset.cells if cell.strain == 'FY4']\n",
    "print(len(Wlist[0].time))\n",
    "print(len(Wlist))"
   ]
  },
  {
   "cell_type": "code",
   "execution_count": 7,
   "metadata": {},
   "outputs": [],
   "source": [
    "# Glucose: 0 - 83\n",
    "# Starvation: 84 - 180\n",
    "# Recovery: 181 - 264\n",
    "\n",
    "def kymograph_chopped(Wlist, interval_start, interval_end):\n",
    "    # Chops time series\n",
    "    for cell in Wlist:\n",
    "        cell.time = cell.time[interval_start:interval_end]\n",
    "        cell.flavin.reading = cell.flavin.reading[interval_start:interval_end]\n",
    "    # Normalise for kymograph\n",
    "    for cell in Wlist:\n",
    "        ts_mean = np.nanmean(cell.flavin.reading)\n",
    "        ts_range = np.nanmax(cell.flavin.reading) - np.nanmin(cell.flavin.reading)\n",
    "        cell.flavin.reading_processed = (cell.flavin.reading - ts_mean)/ts_range\n",
    "    # Draws kymograph\n",
    "    pipeline.vis.kymograph(Wlist, cell_attr='flavin.reading_processed',\n",
    "                          order_by='distfromcentre')\n",
    "\n",
    "kymograph_chopped(Wlist, 181, 264)"
   ]
  },
  {
   "cell_type": "code",
   "execution_count": 51,
   "metadata": {},
   "outputs": [
    {
     "name": "stderr",
     "output_type": "stream",
     "text": [
      "<ipython-input-51-5c1c5d7812ad>:11: RuntimeWarning: invalid value encountered in log2\n",
      "  cell.flavin.reading_processed = np.log2(cell.flavin.reading / ts_mean)\n"
     ]
    }
   ],
   "source": [
    "# Spellman et al (1998)\n",
    "\n",
    "def kymograph_chopped(Wlist, interval_start, interval_end):\n",
    "    # Chops time series\n",
    "    for cell in Wlist:\n",
    "        cell.time = cell.time[interval_start:interval_end]\n",
    "        cell.flavin.reading = cell.flavin.reading[interval_start:interval_end]\n",
    "    # Normalise for kymograph\n",
    "    for cell in Wlist:\n",
    "        ts_mean = np.nanmean(cell.flavin.reading)\n",
    "        cell.flavin.reading_processed = np.log2(cell.flavin.reading / ts_mean)\n",
    "    # Draws kymograph\n",
    "    pipeline.vis.kymograph(Wlist, cell_attr='flavin.reading_processed',\n",
    "                          order_by='distfromcentre')\n",
    "\n",
    "kymograph_chopped(Wlist, 84, 180)"
   ]
  },
  {
   "cell_type": "code",
   "execution_count": 54,
   "metadata": {},
   "outputs": [],
   "source": [
    "cell.flavin.reading\n",
    "ts_mean = np.nanmean(cell.flavin.reading)\n",
    "cell.flavin.reading_processed = np.log2(cell.flavin.reading / ts_mean)"
   ]
  },
  {
   "cell_type": "code",
   "execution_count": 56,
   "metadata": {},
   "outputs": [],
   "source": [
    "fig, ax = plt.subplots()\n",
    "ax.plot(cell.flavin.reading)\n",
    "plt.show()"
   ]
  },
  {
   "cell_type": "code",
   "execution_count": 57,
   "metadata": {},
   "outputs": [],
   "source": [
    "fig, ax = plt.subplots()\n",
    "ax.plot(cell.flavin.reading_processed)\n",
    "plt.show()"
   ]
  },
  {
   "cell_type": "code",
   "execution_count": 135,
   "metadata": {},
   "outputs": [
    {
     "name": "stdout",
     "output_type": "stream",
     "text": [
      "1\n",
      "5\n",
      "1\n",
      "4\n",
      "1\n",
      "2\n",
      "1\n",
      "1\n",
      "9\n",
      "5\n",
      "10\n",
      "1\n",
      "5\n",
      "6\n",
      "1\n"
     ]
    }
   ],
   "source": [
    "# For BYG 2021\n",
    "from pipeline.ar_grima2020 import AR_Fit, AR_Power, optimise_ar_order\n",
    "\n",
    "# Specify number of time series to overlay.\n",
    "# Chosen based on distance from centre -- the closer to the centre,\n",
    "# chances are it's higher-quality.\n",
    "num_timeseries = 15\n",
    "# Choose whether to do the same normalisation done for the kymograph\n",
    "normalise = True\n",
    "# Choose whether to use AR model to smooth time series\n",
    "arma_fit = True\n",
    "\n",
    "# working with a subset of the main dataset,\n",
    "# so re-writing cellids so that they start from 0\n",
    "# so I can use these ids for plotting\n",
    "for new_cellid, cell in enumerate(Wlist):\n",
    "    cell.cellid = new_cellid\n",
    "\n",
    "plot_rank = pipeline.vis.order_cells(Wlist, get='cellid', by='distfromcentre')\n",
    "\n",
    "if normalise:\n",
    "    for cell in Wlist:\n",
    "        ts_mean = np.nanmean(cell.flavin.reading)\n",
    "        cell.flavin.reading_processed = np.log2(cell.flavin.reading / ts_mean)\n",
    "    mean_timeseries = np.nanmean(np.array([cell.flavin.reading_processed for cell in Wlist]), axis=0)\n",
    "    ylabel = ('Normalised fluorescence (AU)')\n",
    "else:\n",
    "    mean_timeseries = np.nanmean(np.array([cell.flavin.reading for cell in Wlist]), axis=0)\n",
    "    ylabel = ('Fluorescence (AU)')\n",
    "\n",
    "for cellid in plot_rank[0:num_timeseries]:\n",
    "    if arma_fit:\n",
    "        if Wlist[cellid].flavin.reading_processed.any():\n",
    "            timeseries = Wlist[cellid].flavin.reading_processed\n",
    "        else:\n",
    "            timeseries = Wlist[cellid].flavin.reading\n",
    "        timeaxis = Wlist[cellid].time\n",
    "        optimal_ar_order = optimise_ar_order(timeseries, int(3*np.sqrt(len(timeseries))))\n",
    "        print(optimal_ar_order)\n",
    "        model = AR_Fit(timeseries, optimal_ar_order)\n",
    "        timeseries_modelled = np.empty(model.length)\n",
    "        for index in range(model.length):\n",
    "            if index < optimal_ar_order:\n",
    "                timeseries_modelled[index] = timeseries[index]\n",
    "            else:\n",
    "                preceding_points = timeseries[index-optimal_ar_order:index]\n",
    "                linear_combination = np.dot(model.ar_coeffs[1::], preceding_points[::-1])\n",
    "                timeseries_modelled[index] = linear_combination\n",
    "        Wlist[cellid].flavin.reading_plot = timeseries_modelled\n",
    "    else:\n",
    "        if Wlist[cellid].flavin.reading_processed.any():\n",
    "            Wlist[cellid].flavin.reading_plot = Wlist[cellid].flavin.reading_processed\n",
    "        else:\n",
    "            Wlist[cellid].flavin.reading_plot = Wlist[cellid].flavin.reading\n",
    "\n",
    "# Plotting\n",
    "fig, ax = plt.subplots()\n",
    "fig.set_size_inches((10,4))\n",
    "# regime\n",
    "ax.axvspan(420, 900, facecolor='#eae5fc', alpha=1, label='Glucose starvation')\n",
    "# individual time series\n",
    "for cellid in plot_rank[0:num_timeseries]:\n",
    "    ax.plot(Wlist[cellid].time, Wlist[cellid].flavin.reading_plot, linewidth=1, color='#9d8cd7')\n",
    "# mean time series\n",
    "ax.plot(Wlist[0].time, mean_timeseries, color='#1f096b', linewidth=3, label='Mean time series')\n",
    "plt.title('Response of individual cells\\' flavin oscillations to glucose starvation')\n",
    "plt.xlabel('Time (min)')\n",
    "plt.ylabel(ylabel)\n",
    "ax.legend()\n",
    "plt.show()"
   ]
  },
  {
   "cell_type": "code",
   "execution_count": 76,
   "metadata": {},
   "outputs": [
    {
     "data": {
      "text/plain": [
       "array([28.83970856, 28.4446461 , 28.95571956, 29.45387454, 27.        ,\n",
       "       26.32437276, 26.1923775 , 25.3962963 , 24.89705882, 23.63653484,\n",
       "       24.375     , 24.4501845 , 24.73484848, 23.21575985, 23.81783681,\n",
       "       23.39886578, 22.54898336, 23.89345794, 23.4232902 , 24.62201835,\n",
       "       23.98333333, 24.44485294, 24.7192029 , 25.68784029, 25.85635359,\n",
       "       25.65120594, 25.78754579, 26.06776557, 25.17352415, 26.59464286,\n",
       "       25.27598566, 25.92226148, 26.57469244, 26.04480287, 25.39756944,\n",
       "       26.16550523, 26.87348354, 26.63194444, 27.11703959, 26.97619048,\n",
       "       27.13993174, 26.65060241, 26.97836938, 26.560477  , 27.40695652,\n",
       "       27.1958042 , 26.97321429, 27.50181818, 26.89292196, 25.98018018,\n",
       "       25.6416819 , 24.38829787, 25.23561151, 24.91858407, 25.24772313,\n",
       "       24.8294849 , 25.75224417, 24.61749571, 25.04095563, 25.39261745,\n",
       "       24.8202995 , 24.63745704, 25.71452703, 25.38087248, 24.90562914,\n",
       "       25.25      , 26.03482587, 25.89144737, 25.81862745, 25.1016129 ,\n",
       "       26.43708609, 26.03600655, 26.2339374 , 25.95709571, 26.46634615,\n",
       "       26.54605263, 26.94942904, 26.5568    , 26.5648    , 27.05608974,\n",
       "       26.91522763, 27.95094937, 27.66818182, 28.49074074, 28.77607362,\n",
       "       29.46841294, 30.36062992, 31.2369281 , 30.80707395, 31.70434783,\n",
       "       31.23202614, 30.69620253, 31.70109546, 32.1182266 , 31.66988728,\n",
       "       29.78897638, 29.34591195, 29.31369427, 27.52747253, 27.55233494,\n",
       "       26.52173913, 25.37441498, 25.11128284, 26.0688    , 25.20813772,\n",
       "       25.19968051, 24.43188854, 24.3566879 , 24.94745223, 23.5379845 ,\n",
       "       24.41826923, 24.45335516, 24.46623794, 23.7984252 , 23.68691589,\n",
       "       23.440625  , 24.1522763 , 23.68701095, 24.11146497, 23.61259843,\n",
       "       23.3359375 , 23.3       , 23.97402597, 23.55590551, 23.02825746,\n",
       "       24.6484375 , 23.12908243, 23.06800618, 24.63157895, 23.67230769,\n",
       "       22.68421053, 23.29938272, 22.85802469, 23.09574468, 23.8248062 ,\n",
       "       23.93291732, 24.278125  , 23.87175325, 25.0519263 , 25.80136986,\n",
       "       25.88007055, 26.20572451, 26.53763441, 29.23486239, 28.88786765,\n",
       "       28.82720588, 29.23388582, 28.47842402, 27.67093236, 28.54243542,\n",
       "       27.43333333, 27.6641651 , 27.52523364, 27.49442379, 28.20982987,\n",
       "       27.99428571, 28.0093985 , 26.96660482, 27.56954887, 26.7212806 ,\n",
       "       26.39285714, 26.12359551, 25.16603774, 23.15977444, 22.83883495,\n",
       "       21.95173745, 21.55258126, 21.49618321, 21.38786765, 21.16356877,\n",
       "       21.23880597, 21.29775281, 22.30769231, 21.24220183, 21.77558348,\n",
       "       21.28801431, 23.16695353, 23.16145833, 23.16047297, 23.9682243 ,\n",
       "       23.76301616, 25.11055276, 30.16472868, 31.44239631, 29.16889632,\n",
       "       28.38735818, 27.76182708, 28.46179402, 29.53923205, 29.46787479,\n",
       "       29.17627677, 28.58211382, 29.57388316, 28.62292359, 27.95109612,\n",
       "       27.58123953, 28.92629816, 28.47078464, 28.14026403, 27.10909091,\n",
       "       26.93410214, 27.09405941, 27.4022082 , 27.33597464, 27.93517018,\n",
       "       27.81789137, 27.17475728, 27.17041801, 27.09775641, 27.18081761,\n",
       "       27.75767367, 27.8544    , 27.9712    , 26.53677621, 26.6488189 ,\n",
       "       27.08217054, 26.88957055, 26.98273155, 26.84423676, 26.88514548,\n",
       "       27.21692308, 27.08566978, 28.03686636, 28.27022901, 29.21604938,\n",
       "       27.66109422, 28.70884146, 29.36882716, 28.39817629, 28.77279753,\n",
       "       29.83409437, 30.21484992, 29.54179567, 30.24847561, 29.71927162,\n",
       "       29.65543645, 29.01639344, 28.92878788, 28.68059701, 29.45777778,\n",
       "       29.70212766, 29.46666667, 29.45827011, 28.11641791, 28.66516517,\n",
       "       29.12883436, 29.01054217, 28.49701493, 29.39541985, 28.88399413,\n",
       "       29.43283582, 29.33130699, 28.69128508, 29.14053254, 29.98365527,\n",
       "       29.51038576, 27.77272727, 29.84511278, 29.85818713, 28.59144543,\n",
       "       29.13382353, 27.6984127 , 28.33973412, 29.44978166])"
      ]
     },
     "execution_count": 76,
     "metadata": {},
     "output_type": "execute_result"
    }
   ],
   "source": [
    "Wlist[0].y"
   ]
  },
  {
   "cell_type": "markdown",
   "metadata": {},
   "source": [
    "Causton strains"
   ]
  },
  {
   "cell_type": "code",
   "execution_count": 124,
   "metadata": {},
   "outputs": [],
   "source": [
    "filename_prefix = './data/arin/Omero19979_'\n",
    "# THEN RUN MAIN SHEBANG"
   ]
  },
  {
   "cell_type": "code",
   "execution_count": 120,
   "metadata": {},
   "outputs": [],
   "source": [
    "# Chops time series - i.e. before glucose limitation\n",
    "# WARNING: DO THIS ONCE\n",
    "interval_start = 0\n",
    "interval_end = 168\n",
    "for cell in Dset.cells:\n",
    "    cell.time = cell.time[interval_start:interval_end]\n",
    "    cell.flavin.reading = cell.flavin.reading[interval_start:interval_end]\n",
    "strain_list = ['swe1_Del', 'tsa1_Del_tsa2_Del', 'rim11_Del']\n",
    "for strain in strain_list:\n",
    "    # Choose cells corresponding to strain\n",
    "    Wlist = [cell for cell in Dset.cells if cell.strain == strain]\n",
    "    # Normalise for kymograph\n",
    "    for cell in Wlist:\n",
    "        ts_mean = np.nanmean(cell.flavin.reading)\n",
    "        ts_range = np.nanmax(cell.flavin.reading) - np.nanmin(cell.flavin.reading)\n",
    "        cell.flavin.reading_processed = (cell.flavin.reading - ts_mean)/ts_range\n",
    "    # Draws kymograph\n",
    "    pipeline.vis.kymograph(Wlist, cell_attr='flavin.reading_processed',\n",
    "                          order_by='distfromcentre')"
   ]
  },
  {
   "cell_type": "markdown",
   "metadata": {},
   "source": [
    "ZWF1"
   ]
  },
  {
   "cell_type": "code",
   "execution_count": 134,
   "metadata": {},
   "outputs": [],
   "source": [
    "filename_prefix = './data/arin/Omero20016_'\n",
    "# THEN RUN MAIN SHEBANG"
   ]
  },
  {
   "cell_type": "code",
   "execution_count": 123,
   "metadata": {},
   "outputs": [],
   "source": [
    "# Chops time series - i.e. before glucose limitation\n",
    "# WARNING: DO THIS ONCE\n",
    "interval_start = 0\n",
    "interval_end = 168\n",
    "for cell in Dset.cells:\n",
    "    cell.time = cell.time[interval_start:interval_end]\n",
    "    cell.flavin.reading = cell.flavin.reading[interval_start:interval_end]\n",
    "strain_list = ['zwf1_Del', 'by4741']\n",
    "for strain in strain_list:\n",
    "    # Choose cells corresponding to strain\n",
    "    Wlist = [cell for cell in Dset.cells if cell.strain == strain]\n",
    "    # Normalise for kymograph\n",
    "    for cell in Wlist:\n",
    "        ts_mean = np.nanmean(cell.flavin.reading)\n",
    "        ts_range = np.nanmax(cell.flavin.reading) - np.nanmin(cell.flavin.reading)\n",
    "        cell.flavin.reading_processed = (cell.flavin.reading - ts_mean)/ts_range\n",
    "    # Draws kymograph\n",
    "    pipeline.vis.kymograph(Wlist, cell_attr='flavin.reading_processed',\n",
    "                          order_by='distfromcentre')"
   ]
  }
 ],
 "metadata": {
  "kernelspec": {
   "display_name": "Python 3",
   "language": "python",
   "name": "python3"
  },
  "language_info": {
   "codemirror_mode": {
    "name": "ipython",
    "version": 3
   },
   "file_extension": ".py",
   "mimetype": "text/x-python",
   "name": "python",
   "nbconvert_exporter": "python",
   "pygments_lexer": "ipython3",
   "version": "3.8.5"
  }
 },
 "nbformat": 4,
 "nbformat_minor": 4
}
