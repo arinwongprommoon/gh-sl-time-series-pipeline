{
 "cells": [
  {
   "cell_type": "markdown",
   "id": "f8173997",
   "metadata": {},
   "source": [
    "**Purpose:** Test if featurisation using `catch22` affects mutual information algorithm."
   ]
  },
  {
   "cell_type": "markdown",
   "id": "07ee31fa",
   "metadata": {},
   "source": [
    "**Aims:**\n",
    "\n",
    "- Import SFP1 localisation signals (Alejandro Granados).\n",
    "\n",
    "- Featurise data: use `catch22` or time series\n",
    "\n",
    "- Compute the mutual information between pairs of strains, treating mutual information as any other machine learning measure.\n",
    "  - Mutual information asks the question: can you tell apart a typical time series from dataset A and a typical time series from dataset B?  0 means 'no', 1 means 'yes', intermediate values can be used as similarity measures."
   ]
  },
  {
   "cell_type": "markdown",
   "id": "5cdf8ecd",
   "metadata": {},
   "source": [
    "**Paradigms:**\n",
    "- Use `aliby`-style data structures and `postprocessor` processes for featurisation."
   ]
  },
  {
   "cell_type": "code",
   "execution_count": null,
   "id": "f783e1c8",
   "metadata": {},
   "outputs": [],
   "source": [
    "%matplotlib inline"
   ]
  },
  {
   "cell_type": "markdown",
   "id": "fb6463ad",
   "metadata": {},
   "source": [
    "# Main"
   ]
  },
  {
   "cell_type": "code",
   "execution_count": null,
   "id": "3ff871db",
   "metadata": {},
   "outputs": [],
   "source": [
    "import numpy as np\n",
    "import pandas as pd\n",
    "import csv\n",
    "import matplotlib.pyplot as plt\n",
    "import seaborn as sns\n",
    "\n",
    "from postprocessor.core.processes.catch22 import catch22Parameters, catch22\n",
    "from postprocessor.core.processes.mi import miParameters, mi\n",
    "\n",
    "# PARAMETERS\n",
    "filename_prefix = './data/agranados/infdata_rep'\n",
    "MEDIUM_LIST = ['rich', 'stress']\n",
    "\n",
    "# SET UP PROCESSORS\n",
    "catch22_processor = catch22(catch22Parameters.default())\n",
    "mi_params = miParameters.default()\n",
    "mi_params.overtime = False\n",
    "mi_params.n_bootstraps = 100\n",
    "mi_processor = mi(mi_params)\n",
    "\n",
    "def convert_csv_to_aliby(replicate, medium):\n",
    "    signal = pd.read_csv(filename_prefix + str(replicate) + '_' + medium + '.csv')\n",
    "    multiindex_array = [[medium] * len(signal), list(range(len(signal)))]\n",
    "    multiindex = pd.MultiIndex.from_arrays(multiindex_array, names=(\"strain\", \"cellID\"))\n",
    "    signal = pd.DataFrame(signal.to_numpy(), multiindex)\n",
    "    return signal\n",
    "\n",
    "def convert_agranados_to_aliby(replicate, medium_list):\n",
    "    return pd.concat([convert_csv_to_aliby(replicate, medium) for medium in medium_list])\n",
    "\n",
    "def pretty_print_mi(replicate, featurisation, mi_array):\n",
    "    print(\n",
    "        'Replicate ' +\n",
    "        str(replicate) +\n",
    "        ' ' +\n",
    "        featurisation +\n",
    "        ': mutual information median = ' +\n",
    "        str(\"{:.3f}\".format(mi_array[0][0])) +\n",
    "        ' (CI ' +\n",
    "        str(\"{:.3f}\".format(mi_array[0][1])) +\n",
    "        ', ' +\n",
    "        str(\"{:.3f}\".format(mi_array[0][2])) +\n",
    "        ')'\n",
    "    )\n",
    "\n",
    "for replicate in range(1,6):\n",
    "    # IMPORT DATA AND VISUALISE\n",
    "    signal = convert_agranados_to_aliby(1, MEDIUM_LIST)\n",
    "    sns.heatmap(signal)\n",
    "    plt.title('Time series, replicate ' + str(replicate))\n",
    "    plt.xlabel('Time point')\n",
    "    plt.show()\n",
    "\n",
    "    # COMPUTE MUTUAL INFORMATION ON TIME SERIES\n",
    "    pretty_print_mi(replicate, 'timepoints', mi_processor.run(signal))\n",
    "\n",
    "    # catch22 FEATURISATION\n",
    "    features = catch22_processor.run(signal)\n",
    "    plt.title('catch22 featurisation, replicate ' + str(replicate))\n",
    "    sns.heatmap(features)\n",
    "    plt.show()\n",
    "\n",
    "    # COMPUTE MUTUAL INFORMATION ON catch22\n",
    "    pretty_print_mi(replicate, 'catch22', mi_processor.run(features))"
   ]
  }
 ],
 "metadata": {
  "kernelspec": {
   "display_name": "aliby",
   "language": "python",
   "name": "aliby"
  },
  "language_info": {
   "codemirror_mode": {
    "name": "ipython",
    "version": 3
   },
   "file_extension": ".py",
   "mimetype": "text/x-python",
   "name": "python",
   "nbconvert_exporter": "python",
   "pygments_lexer": "ipython3",
   "version": "3.7.9"
  }
 },
 "nbformat": 4,
 "nbformat_minor": 5
}
