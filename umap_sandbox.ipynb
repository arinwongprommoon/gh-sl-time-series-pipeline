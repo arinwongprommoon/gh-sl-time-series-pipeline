{
 "cells": [
  {
   "cell_type": "markdown",
   "id": "0cf2e7e4",
   "metadata": {},
   "source": [
    "**Purpose:** See how YMCs in mutants differ from each other and wild-type."
   ]
  },
  {
   "cell_type": "markdown",
   "id": "75207c8d",
   "metadata": {},
   "source": [
    "**Aims:**\n",
    "- Import flavin signals from multiple strains in the same experiment (and thus same nutrient conditions).\n",
    "   - Obvious dataset: Causton strains, because there are five strains.\n",
    "- Process data: cut time series to duration of interest, detrend flavin signals.\n",
    "- Featurise data: use `catch22`\n",
    "- Use UMAP to visualise the relationship between the data.\n",
    "   - Adjust hyperparameters as appropriate to help with visualisation.\n",
    "   - Potentially use the labels themselves to perform supervised UMAP.  This will hopefully separate the classes while retaining some local and global structure."
   ]
  },
  {
   "cell_type": "markdown",
   "id": "7511a687",
   "metadata": {},
   "source": [
    "**Paradigms:**\n",
    "- Use `aliby` data structures, i.e. `pandas` `DataFrames` with multi-indexing.\n",
    "- Use `postprocessor` processes for featurisation\n",
    "- Use `scikit-learn` and `umap` routines.\n",
    "- Ultimate goal to put all the cells together in a script to put in `skeletons` (especially if `svm_sandbox.ipynb` and `cycle_alignment_sandbox.ipynb` share *many* cells with this one)."
   ]
  },
  {
   "cell_type": "code",
   "execution_count": null,
   "id": "55193853",
   "metadata": {},
   "outputs": [],
   "source": [
    "import PyQt5\n",
    "%matplotlib qt"
   ]
  },
  {
   "cell_type": "markdown",
   "id": "8d3d8f57",
   "metadata": {},
   "source": [
    "# Import data"
   ]
  },
  {
   "cell_type": "code",
   "execution_count": null,
   "id": "26c031db",
   "metadata": {},
   "outputs": [],
   "source": [
    "import numpy as np\n",
    "import pandas as pd\n",
    "import csv\n",
    "\n",
    "# PARAMETERS\n",
    "#filename_prefix = './data/arin/Omero19979_'\n",
    "filename_prefix = './data/arin/Omero20016_'\n",
    "#\n",
    "\n",
    "# Import flavin signals\n",
    "signal_flavin = pd.read_csv(filename_prefix+'flavin.csv')\n",
    "signal_flavin.replace(0, np.nan, inplace=True) # because the CSV is constructed like that :/\n",
    "\n",
    "def convert_df_to_aliby(\n",
    "    signal,\n",
    "    strainlookup_df,\n",
    "):\n",
    "    # Import look-up table for strains (would prefer to directly CSV -> dict)\n",
    "    strainlookup_dict = dict(zip(strainlookup_df.position, strainlookup_df.strain))\n",
    "    \n",
    "    # Positions -> Strain (more informative)\n",
    "    signal = signal.replace({'position': strainlookup_dict})\n",
    "    signal.rename(columns = {\"position\": \"strain\"}, inplace = True)\n",
    "    signal = signal.drop(['distfromcentre'], axis = 1)\n",
    "\n",
    "    # Convert to multi-index dataframe\n",
    "    signal_temp = signal.iloc[:,2:]\n",
    "    multiindex = pd.MultiIndex.from_frame(signal[['strain', 'cellID']])\n",
    "    signal = pd.DataFrame(signal_temp.to_numpy(),\n",
    "                          index = multiindex)\n",
    "    \n",
    "    return signal\n",
    "\n",
    "strainlookup_df = pd.read_csv(filename_prefix+'strains.csv')\n",
    "signal_flavin = convert_df_to_aliby(signal_flavin, strainlookup_df)"
   ]
  },
  {
   "cell_type": "markdown",
   "id": "2dc0634f",
   "metadata": {},
   "source": [
    "# Processing time series"
   ]
  },
  {
   "cell_type": "markdown",
   "id": "05143536",
   "metadata": {},
   "source": [
    "## Range"
   ]
  },
  {
   "cell_type": "markdown",
   "id": "44cb19ad",
   "metadata": {},
   "source": [
    "Chop up time series according to `interval_start` and `interval_end`, then remove cells that have NaNs.  Print number of cells of each strain."
   ]
  },
  {
   "cell_type": "code",
   "execution_count": null,
   "id": "3a8334f4",
   "metadata": {},
   "outputs": [],
   "source": [
    "# PARAMETERS\n",
    "interval_start = 25\n",
    "interval_end = 168\n",
    "#\n",
    "\n",
    "signal_flavin_processed = signal_flavin.iloc[:, interval_start:interval_end].dropna()\n",
    "\n",
    "signal_flavin_processed.index.get_level_values(0).value_counts()"
   ]
  },
  {
   "cell_type": "markdown",
   "id": "47722b04",
   "metadata": {},
   "source": [
    "## Detrend"
   ]
  },
  {
   "cell_type": "code",
   "execution_count": null,
   "id": "391d73de",
   "metadata": {},
   "outputs": [],
   "source": [
    "import matplotlib.pyplot as plt\n",
    "import seaborn as sns\n",
    "\n",
    "# PARAMETERS\n",
    "window = 45\n",
    "#\n",
    "\n",
    "fig, ax = plt.subplots()\n",
    "sns.heatmap(signal_flavin_processed)\n",
    "plt.title('Before detrending')\n",
    "plt.show()\n",
    "\n",
    "def moving_average(input_timeseries,\n",
    "                  window = 3):\n",
    "    processed_timeseries = np.cumsum(input_timeseries, dtype=float)\n",
    "    processed_timeseries[window:] = processed_timeseries[window:] - processed_timeseries[:-window]\n",
    "    return processed_timeseries[window - 1 :] /  window\n",
    "\n",
    "signal_flavin_processed = signal_flavin_processed.div(signal_flavin_processed.mean(axis = 1), axis = 0)\n",
    "signal_flavin_movavg = signal_flavin_processed.apply(lambda x: pd.Series(moving_average(x.values, window)), axis = 1)\n",
    "signal_flavin_norm = signal_flavin_processed.iloc(axis = 1)[window//2: -window//2] / signal_flavin_movavg.iloc[:,0:signal_flavin_movavg.shape[1]-1].values\n",
    "\n",
    "fig, ax = plt.subplots()\n",
    "sns.heatmap(signal_flavin_norm)\n",
    "plt.title('After detrending')\n",
    "plt.show()\n",
    "\n",
    "signal_flavin_processed = signal_flavin_norm"
   ]
  },
  {
   "cell_type": "markdown",
   "id": "862eaf5f",
   "metadata": {},
   "source": [
    "# Featurisation"
   ]
  },
  {
   "cell_type": "markdown",
   "id": "c434702e",
   "metadata": {},
   "source": [
    "Featurisation, using `catch22`"
   ]
  },
  {
   "cell_type": "code",
   "execution_count": null,
   "id": "53942261",
   "metadata": {},
   "outputs": [],
   "source": [
    "from postprocessor.core.processes.catch22 import catch22Parameters, catch22\n",
    "\n",
    "catch22_processor = catch22(catch22Parameters.default())\n",
    "features = catch22_processor.run(signal_flavin_processed)\n",
    "\n",
    "sns.heatmap(features)"
   ]
  },
  {
   "cell_type": "markdown",
   "id": "39c7bef2",
   "metadata": {},
   "source": [
    "Alternatively, use time points"
   ]
  },
  {
   "cell_type": "code",
   "execution_count": null,
   "id": "1d3db6ef",
   "metadata": {},
   "outputs": [],
   "source": [
    "features = signal_flavin_processed\n",
    "\n",
    "sns.heatmap(features)"
   ]
  },
  {
   "cell_type": "markdown",
   "id": "610e470e",
   "metadata": {},
   "source": [
    "Normalise features"
   ]
  },
  {
   "cell_type": "code",
   "execution_count": null,
   "id": "e98049cf",
   "metadata": {},
   "outputs": [],
   "source": [
    "from sklearn.preprocessing import StandardScaler\n",
    "\n",
    "scaled_features = StandardScaler().fit_transform(features)\n",
    "\n",
    "sns.heatmap(scaled_features)"
   ]
  },
  {
   "cell_type": "markdown",
   "id": "adb0bd9a",
   "metadata": {},
   "source": [
    "Scatterplot matrix of the first 10 features (there is probably space for `train.importance` around here)."
   ]
  },
  {
   "cell_type": "code",
   "execution_count": null,
   "id": "103da7d9",
   "metadata": {},
   "outputs": [],
   "source": [
    "df = pd.DataFrame(scaled_features[:, 2:5])\n",
    "df['strain'] = pd.Series(signal_flavin_processed.index.get_level_values(0))\n",
    "sns.pairplot(df, hue='strain')"
   ]
  },
  {
   "cell_type": "markdown",
   "id": "fd44c373",
   "metadata": {},
   "source": [
    "# UMAP"
   ]
  },
  {
   "cell_type": "markdown",
   "id": "c9d3dacd",
   "metadata": {},
   "source": [
    "Label by strain"
   ]
  },
  {
   "cell_type": "code",
   "execution_count": null,
   "id": "41e13afb",
   "metadata": {},
   "outputs": [],
   "source": [
    "strain_labels = signal_flavin_processed.index.get_level_values('strain')\n",
    "strain_unique = strain_labels.unique().to_list()\n",
    "strain_map = dict(zip(strain_unique, list(range(len(strain_unique)))))\n",
    "strain_labels_numerical = [strain_map.get(item, item) for item in strain_labels]"
   ]
  },
  {
   "cell_type": "markdown",
   "id": "c373da37",
   "metadata": {},
   "source": [
    "Load custom labels (e.g. oscillation categories)"
   ]
  },
  {
   "cell_type": "code",
   "execution_count": null,
   "id": "6ab536d9",
   "metadata": {},
   "outputs": [],
   "source": [
    "# PARAMETERS\n",
    "filename_targets = 'categories_20016_detrend.csv'\n",
    "#\n",
    "\n",
    "targets = pd.read_csv(filename_targets, header = None, index_col = 0)\n",
    "targets.index.names = ['cellID']\n",
    "targets.columns = ['category']\n",
    "\n",
    "customcat_labels = np.array([\n",
    "    targets.loc[cellID].item()\n",
    "    for cellID in signal_flavin_processed.index.get_level_values('cellID')\n",
    "])\n",
    "customcat_labels_numerical = customcat_labels"
   ]
  },
  {
   "cell_type": "markdown",
   "id": "7af7e7bb",
   "metadata": {},
   "source": [
    "Combine strain and oscillation categories to produce colour keys:\n",
    "- If there are n strains, those strains will have numerical labels of 1 to n and will correspond to n colours of the palette.\n",
    "- Non-oscillating nodes from _any_ strain will have a numerical label of 0 and will correspond to grey.\n",
    "- Defining it this way because `matplotlib` conveniently has a couple of qualitative colour maps that has grey as the last colour.  I reverse it so that grey is the first; intuitively it's easier to work with if 0 consistently corresponds to grey."
   ]
  },
  {
   "cell_type": "code",
   "execution_count": null,
   "id": "1ad80e3d",
   "metadata": {},
   "outputs": [],
   "source": [
    "from matplotlib import cm\n",
    "from matplotlib import colors\n",
    "\n",
    "# Strain names or 'non-oscillatory'\n",
    "combined_labels = [\n",
    "    strain_labels[index] if customcat_labels[index] == 1 else 'non-oscillatory'\n",
    "    for index, _ in enumerate(customcat_labels)\n",
    "]\n",
    "# Numbers, as described above\n",
    "combined_labels_numerical = [\n",
    "    strain_labels_numerical[index]+1 if customcat_labels_numerical[index] == 1 else 0\n",
    "    for index, _ in enumerate(customcat_labels_numerical)\n",
    "]\n",
    "# Create a palette out of cm\n",
    "palette_cm = cm.get_cmap('Set1_r', len(strain_unique)+1)\n",
    "combined_labels_numerical_unique = np.unique(combined_labels_numerical)\n",
    "palette_rgb = [\n",
    "    colors.rgb2hex(palette_cm(index/len(combined_labels_numerical_unique))[:3])\n",
    "    for index, _ in enumerate(combined_labels_numerical_unique)\n",
    "]\n",
    "# Dict to map label to colour\n",
    "palette_map = dict(zip(\n",
    "    np.concatenate((['non-oscillatory'], strain_unique)).tolist(),\n",
    "    palette_rgb\n",
    "))"
   ]
  },
  {
   "cell_type": "markdown",
   "id": "7e6b1ddd",
   "metadata": {},
   "source": [
    "Optional: make non-oscillatory white and transparent"
   ]
  },
  {
   "cell_type": "code",
   "execution_count": null,
   "id": "4755d7b6",
   "metadata": {},
   "outputs": [],
   "source": [
    "palette_map['non-oscillatory'] = '#ffffff00'"
   ]
  },
  {
   "cell_type": "markdown",
   "id": "f5f5e1ce",
   "metadata": {},
   "source": [
    "Fit and plot"
   ]
  },
  {
   "cell_type": "code",
   "execution_count": null,
   "id": "d52f2992",
   "metadata": {},
   "outputs": [],
   "source": [
    "import umap\n",
    "import umap.plot\n",
    "\n",
    "# Fit\n",
    "reducer = umap.UMAP(\n",
    "    random_state = 0,\n",
    "    n_neighbors = 4,\n",
    "    min_dist = 0.02,\n",
    "    n_components = 2,\n",
    "    metric = 'cosine',\n",
    ")\n",
    "mapper = reducer.fit(scaled_features)\n",
    "\n",
    "# Plot\n",
    "umap.plot.points(\n",
    "    mapper,\n",
    "    labels = np.array(combined_labels),\n",
    "    color_key = palette_map,\n",
    ")"
   ]
  },
  {
   "cell_type": "markdown",
   "id": "2decc2ff",
   "metadata": {},
   "source": [
    "To do: add way to mouse over points and see what the time series looks like"
   ]
  },
  {
   "cell_type": "markdown",
   "id": "821088aa",
   "metadata": {},
   "source": [
    "Vary hyperparameters"
   ]
  },
  {
   "cell_type": "code",
   "execution_count": null,
   "id": "49bc417b",
   "metadata": {},
   "outputs": [],
   "source": [
    "import itertools\n",
    "\n",
    "# Wrap UMAP fitting and plotting into one function,\n",
    "# taking matplotlib axis as an argument\n",
    "def generate_umap(\n",
    "    scaled_features,\n",
    "    n_neighbors,\n",
    "    min_dist,\n",
    "    combined_labels,\n",
    "    palette_map,\n",
    "    ax = None,\n",
    "):\n",
    "    reducer = umap.UMAP(\n",
    "        random_state = 0,\n",
    "        n_neighbors = n_neighbors,\n",
    "        min_dist = min_dist,\n",
    "        n_components = 2,\n",
    "        metric = 'cosine',\n",
    "    )\n",
    "    mapper = reducer.fit(scaled_features)\n",
    "    \n",
    "    if ax is None:\n",
    "        ax = plt.gca()\n",
    "    ax = umap.plot.points(\n",
    "        mapper,\n",
    "        labels = np.array(combined_labels),\n",
    "        color_key = palette_map,\n",
    "        ax = ax,\n",
    "    )\n",
    "    return ax\n",
    "\n",
    "# Define values of hyperparameters to iterate over here:\n",
    "hyperparams_to_iterate = {\n",
    "    'n_neighbors' : [5,10],\n",
    "    'min_dist' : [0.05, 0.10],\n",
    "}\n",
    "\n",
    "# Plot UMAPs in a grid\n",
    "fig, axs = plt.subplots(\n",
    "    len(hyperparams_to_iterate['n_neighbors']),\n",
    "    len(hyperparams_to_iterate['min_dist'])\n",
    ")\n",
    "for n_neighbors_index, n_neighbors in enumerate(hyperparams_to_iterate['n_neighbors']):\n",
    "    for min_dist_index, min_dist in enumerate(hyperparams_to_iterate['min_dist']):\n",
    "        axs[n_neighbors_index, min_dist_index] = generate_umap(\n",
    "            scaled_features,\n",
    "            n_neighbors,\n",
    "            min_dist,\n",
    "            combined_labels,\n",
    "            palette_map,\n",
    "            ax = axs[n_neighbors_index, min_dist_index],\n",
    "        )\n",
    "plt.show()"
   ]
  }
 ],
 "metadata": {
  "kernelspec": {
   "display_name": "aliby",
   "language": "python",
   "name": "aliby"
  },
  "language_info": {
   "codemirror_mode": {
    "name": "ipython",
    "version": 3
   },
   "file_extension": ".py",
   "mimetype": "text/x-python",
   "name": "python",
   "nbconvert_exporter": "python",
   "pygments_lexer": "ipython3",
   "version": "3.7.9"
  }
 },
 "nbformat": 4,
 "nbformat_minor": 5
}
