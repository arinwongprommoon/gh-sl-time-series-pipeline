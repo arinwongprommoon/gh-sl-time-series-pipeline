{
 "cells": [
  {
   "cell_type": "markdown",
   "id": "0cf2e7e4",
   "metadata": {},
   "source": [
    "**Purpose:** See how YMCs in mutants differ from each other and wild-type."
   ]
  },
  {
   "cell_type": "markdown",
   "id": "75207c8d",
   "metadata": {},
   "source": [
    "**Aims:**\n",
    "- Import flavin signals from multiple strains in the same experiment (and thus same nutrient conditions).\n",
    "   - Obvious dataset: Causton strains, because there are five strains.\n",
    "- Process data: cut time series to duration of interest, detrend flavin signals.\n",
    "- Featurise data: use `catch22`\n",
    "- Use UMAP to visualise the relationship between the data.\n",
    "   - Adjust hyperparameters as appropriate to help with visualisation.\n",
    "   - Potentially use the labels themselves to perform supervised UMAP.  This will hopefully separate the classes while retaining some local and global structure."
   ]
  },
  {
   "cell_type": "markdown",
   "id": "7511a687",
   "metadata": {},
   "source": [
    "**Paradigms:**\n",
    "- Use `aliby` data structures, i.e. `pandas` `DataFrames` with multi-indexing.\n",
    "- Use `postprocessor` processes for featurisation\n",
    "- Use `scikit-learn` and `umap` routines.\n",
    "- Ultimate goal to put all the cells together in a script to put in `skeletons` (especially if `svm_sandbox.ipynb` and `cycle_alignment_sandbox.ipynb` share *many* cells with this one)."
   ]
  },
  {
   "cell_type": "code",
   "execution_count": null,
   "id": "55193853",
   "metadata": {},
   "outputs": [],
   "source": [
    "import PyQt5\n",
    "%matplotlib qt"
   ]
  },
  {
   "cell_type": "markdown",
   "id": "8d3d8f57",
   "metadata": {},
   "source": [
    "# Import data"
   ]
  },
  {
   "cell_type": "code",
   "execution_count": null,
   "id": "26c031db",
   "metadata": {},
   "outputs": [],
   "source": [
    "import numpy as np\n",
    "import pandas as pd\n",
    "import csv\n",
    "\n",
    "# PARAMETERS\n",
    "#filename_prefix = './data/arin/Omero19979_'\n",
    "filename_prefix = './data/arin/Omero20016_'\n",
    "#\n",
    "\n",
    "# Import flavin signals\n",
    "signal_flavin = pd.read_csv(filename_prefix+'flavin.csv')\n",
    "signal_flavin.replace(0, np.nan, inplace=True) # because the CSV is constructed like that :/\n",
    "\n",
    "def convert_df_to_aliby(\n",
    "    signal,\n",
    "    strainlookup_df,\n",
    "):\n",
    "    # Import look-up table for strains (would prefer to directly CSV -> dict)\n",
    "    strainlookup_dict = dict(zip(strainlookup_df.position, strainlookup_df.strain))\n",
    "    \n",
    "    # Positions -> Strain (more informative)\n",
    "    signal = signal.replace({'position': strainlookup_dict})\n",
    "    signal.rename(columns = {\"position\": \"strain\"}, inplace = True)\n",
    "    signal = signal.drop(['distfromcentre'], axis = 1)\n",
    "\n",
    "    # Convert to multi-index dataframe\n",
    "    signal_temp = signal.iloc[:,2:]\n",
    "    multiindex = pd.MultiIndex.from_frame(signal[['strain', 'cellID']])\n",
    "    signal = pd.DataFrame(signal_temp.to_numpy(),\n",
    "                          index = multiindex)\n",
    "    \n",
    "    return signal\n",
    "\n",
    "strainlookup_df = pd.read_csv(filename_prefix+'strains.csv')\n",
    "signal_flavin = convert_df_to_aliby(signal_flavin, strainlookup_df)"
   ]
  },
  {
   "cell_type": "markdown",
   "id": "2dc0634f",
   "metadata": {},
   "source": [
    "# Processing time series"
   ]
  },
  {
   "cell_type": "markdown",
   "id": "05143536",
   "metadata": {},
   "source": [
    "## Range"
   ]
  },
  {
   "cell_type": "markdown",
   "id": "44cb19ad",
   "metadata": {},
   "source": [
    "Chop up time series according to `interval_start` and `interval_end`, then remove cells that have NaNs.  Print number of cells of each strain."
   ]
  },
  {
   "cell_type": "code",
   "execution_count": null,
   "id": "3a8334f4",
   "metadata": {},
   "outputs": [],
   "source": [
    "# PARAMETERS\n",
    "interval_start = 25\n",
    "interval_end = 168\n",
    "#\n",
    "\n",
    "signal_flavin_processed = signal_flavin.iloc[:, interval_start:interval_end].dropna()\n",
    "\n",
    "signal_flavin_processed.index.get_level_values(0).value_counts()"
   ]
  },
  {
   "cell_type": "markdown",
   "id": "47722b04",
   "metadata": {},
   "source": [
    "## Detrend"
   ]
  },
  {
   "cell_type": "code",
   "execution_count": null,
   "id": "391d73de",
   "metadata": {},
   "outputs": [],
   "source": [
    "import matplotlib.pyplot as plt\n",
    "import seaborn as sns\n",
    "\n",
    "# PARAMETERS\n",
    "window = 45\n",
    "#\n",
    "\n",
    "fig, ax = plt.subplots()\n",
    "sns.heatmap(signal_flavin_processed)\n",
    "plt.title('Before detrending')\n",
    "plt.show()\n",
    "\n",
    "def moving_average(input_timeseries,\n",
    "                  window = 3):\n",
    "    processed_timeseries = np.cumsum(input_timeseries, dtype=float)\n",
    "    processed_timeseries[window:] = processed_timeseries[window:] - processed_timeseries[:-window]\n",
    "    return processed_timeseries[window - 1 :] /  window\n",
    "\n",
    "signal_flavin_processed = signal_flavin_processed.div(signal_flavin_processed.mean(axis = 1), axis = 0)\n",
    "signal_flavin_movavg = signal_flavin_processed.apply(lambda x: pd.Series(moving_average(x.values, window)), axis = 1)\n",
    "signal_flavin_norm = signal_flavin_processed.iloc(axis = 1)[window//2: -window//2] / signal_flavin_movavg.iloc[:,0:signal_flavin_movavg.shape[1]-1].values\n",
    "\n",
    "fig, ax = plt.subplots()\n",
    "sns.heatmap(signal_flavin_norm)\n",
    "plt.title('After detrending')\n",
    "plt.show()\n",
    "\n",
    "signal_flavin_processed = signal_flavin_norm"
   ]
  },
  {
   "cell_type": "markdown",
   "id": "862eaf5f",
   "metadata": {},
   "source": [
    "# Featurisation"
   ]
  },
  {
   "cell_type": "markdown",
   "id": "c434702e",
   "metadata": {},
   "source": [
    "Featurisation, using `catch22`"
   ]
  },
  {
   "cell_type": "code",
   "execution_count": null,
   "id": "53942261",
   "metadata": {},
   "outputs": [],
   "source": [
    "from postprocessor.core.processes.catch22 import catch22Parameters, catch22\n",
    "\n",
    "catch22_processor = catch22(catch22Parameters.default())\n",
    "features = catch22_processor.run(signal_flavin_processed)\n",
    "\n",
    "sns.heatmap(features)"
   ]
  },
  {
   "cell_type": "markdown",
   "id": "610e470e",
   "metadata": {},
   "source": [
    "Normalise features"
   ]
  },
  {
   "cell_type": "code",
   "execution_count": null,
   "id": "e98049cf",
   "metadata": {},
   "outputs": [],
   "source": [
    "from sklearn.preprocessing import StandardScaler\n",
    "\n",
    "scaled_features = StandardScaler().fit_transform(features)\n",
    "\n",
    "sns.heatmap(scaled_features)"
   ]
  },
  {
   "cell_type": "markdown",
   "id": "adb0bd9a",
   "metadata": {},
   "source": [
    "Scatterplot matrix of the first 10 features (there is probably space for `train.importance` around here)."
   ]
  },
  {
   "cell_type": "code",
   "execution_count": null,
   "id": "103da7d9",
   "metadata": {},
   "outputs": [],
   "source": [
    "df = pd.DataFrame(scaled_features[:, 1:11])\n",
    "df['strain'] = pd.Series(signal_flavin_processed.index.get_level_values(0))\n",
    "sns.pairplot(df, hue='strain')"
   ]
  },
  {
   "cell_type": "markdown",
   "id": "fd44c373",
   "metadata": {},
   "source": [
    "# UMAP"
   ]
  },
  {
   "cell_type": "markdown",
   "id": "c9d3dacd",
   "metadata": {},
   "source": [
    "Label by strain"
   ]
  },
  {
   "cell_type": "code",
   "execution_count": null,
   "id": "41e13afb",
   "metadata": {},
   "outputs": [],
   "source": [
    "strain_list = signal_flavin_processed.index.get_level_values('strain')\n",
    "strain_unique = strain_list.unique().to_list()\n",
    "strain_map = dict(zip(strain_unique, list(range(len(strain_unique)))))\n",
    "strain_list_numerical = [strain_map.get(item, item) for item in strain_list]\n",
    "\n",
    "# deal with redundant variables later\n",
    "label_list = strain_list\n",
    "label_list_numerical = strain_list_numerical"
   ]
  },
  {
   "cell_type": "markdown",
   "id": "c373da37",
   "metadata": {},
   "source": [
    "Alternatively, load custom labels (e.g. oscillation categories)"
   ]
  },
  {
   "cell_type": "code",
   "execution_count": null,
   "id": "6ab536d9",
   "metadata": {},
   "outputs": [],
   "source": [
    "# PARAMETERS\n",
    "filename_targets = 'categories_20016_detrend.csv'\n",
    "#\n",
    "\n",
    "targets = pd.read_csv(filename_targets, header = None, index_col = 0)\n",
    "targets.index.names = ['cellID']\n",
    "targets.columns = ['category']\n",
    "\n",
    "label_list = np.array([\n",
    "    targets.loc[cellID].item()\n",
    "    for cellID in signal_flavin_processed.index.get_level_values('cellID')\n",
    "])\n",
    "label_list_numerical = label_list_numerical"
   ]
  },
  {
   "cell_type": "markdown",
   "id": "f5f5e1ce",
   "metadata": {},
   "source": [
    "Fit and plot"
   ]
  },
  {
   "cell_type": "code",
   "execution_count": null,
   "id": "d52f2992",
   "metadata": {},
   "outputs": [],
   "source": [
    "import umap\n",
    "import umap.plot\n",
    "\n",
    "# Fit\n",
    "reducer = umap.UMAP(\n",
    "    random_state = 0,\n",
    "    n_neighbors = 10,\n",
    "    min_dist = 0.05,\n",
    "    n_components = 2,\n",
    "    metric = 'euclidean',\n",
    ")\n",
    "mapper = reducer.fit(\n",
    "    scaled_features,\n",
    "    #y = label_list_numerical, # supervised\n",
    ")\n",
    "\n",
    "# Plot\n",
    "umap.plot.points(\n",
    "    mapper,\n",
    "    labels = label_list,\n",
    "    color_key_cmap = 'Paired',\n",
    ")"
   ]
  },
  {
   "cell_type": "markdown",
   "id": "2decc2ff",
   "metadata": {},
   "source": [
    "To do: add way to mouse over points and see what the time series looks like"
   ]
  }
 ],
 "metadata": {
  "kernelspec": {
   "display_name": "aliby",
   "language": "python",
   "name": "aliby"
  },
  "language_info": {
   "codemirror_mode": {
    "name": "ipython",
    "version": 3
   },
   "file_extension": ".py",
   "mimetype": "text/x-python",
   "name": "python",
   "nbconvert_exporter": "python",
   "pygments_lexer": "ipython3",
   "version": "3.7.9"
  }
 },
 "nbformat": 4,
 "nbformat_minor": 5
}
